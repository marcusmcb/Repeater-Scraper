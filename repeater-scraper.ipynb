{
 "cells": [
  {
   "cell_type": "code",
   "execution_count": 29,
   "metadata": {},
   "outputs": [],
   "source": [
    "# immport dependencies\n",
    "from bs4 import BeautifulSoup\n",
    "import pandas as pd\n",
    "import requests\n",
    "import pymongo\n",
    "from pymongo import MongoClient\n",
    "import geocoder"
   ]
  },
  {
   "cell_type": "code",
   "execution_count": 30,
   "metadata": {},
   "outputs": [],
   "source": [
    "# MongoDB connection\n",
    "conn = 'mongodb://localhost:27017'\n",
    "client = pymongo.MongoClient(conn)"
   ]
  },
  {
   "cell_type": "code",
   "execution_count": 31,
   "metadata": {},
   "outputs": [],
   "source": [
    "# creates repeater db if it doesn't already exist\n",
    "# drops stations table to avoid duplicate entries\n",
    "db = client.repeater_db\n",
    "db.stations.drop()"
   ]
  },
  {
   "cell_type": "code",
   "execution_count": 32,
   "metadata": {},
   "outputs": [],
   "source": [
    "# url to scrape & soup setup\n",
    "url = 'https://www.repeaterbook.com/repeaters/Display_SS.php?state_id=06&band=4&loc=%&call=%&use=%'\n",
    "\n",
    "response = requests.get(url)\n",
    "soup = BeautifulSoup(response.text, 'html.parser')"
   ]
  },
  {
   "cell_type": "code",
   "execution_count": 33,
   "metadata": {},
   "outputs": [],
   "source": [
    "# initialize variable to concat to location for use w/geocoder\n",
    "california = ', CA'"
   ]
  },
  {
   "cell_type": "code",
   "execution_count": null,
   "metadata": {},
   "outputs": [
    {
     "name": "stdout",
     "output_type": "stream",
     "text": [
      "Moreno Valley 33.937517 -117.2305944 425.4250 KC7NP Riverside OPEN\n",
      "San Jose 37.3361905 -121.8905833 430.3000 W6IOS Santa Clara OPEN\n",
      "Chico 39.7284945 -121.8374777 440.0000 KI6PNB Butte OPEN\n",
      "Fremont 37.5482697 -121.9885719 440.0000 WA6FSP Alameda OPEN\n",
      "Fresno 36.7295295 -119.708861260756 440.0025 N6VRC Fresno OPEN\n",
      "Sonoma 38.5110803 -122.8473388 440.0125 W6PE Sonoma OPEN\n",
      "Fremont 37.5482697 -121.9885719 440.0250 KI6KGN Alameda OPEN\n",
      "Pacifica 37.6138253 -122.4869194 440.0250 N6TZE San Mateo OPEN\n",
      "Ukiah 39.1501662 -123.2077861 440.0250 WA6RQZ Mendocino OPEN\n",
      "Vacaville 38.3565773 -121.9877444 440.0250 WV6F Solano OPEN\n",
      "Morgan Hill, Loma Prieta None None 440.0375 W6YYY Santa Clara OPEN\n",
      "Hayward 37.6688205 -122.0807964 440.0500 KQ6YG Alameda OPEN\n",
      "Napa, Mt St Helena 38.4984875 -122.461163 440.0500 W6CO Sonoma OPEN\n",
      "Redding 40.5863563 -122.3916754 440.0500 NA0SA Shasta CLOSED\n",
      "Clovis 36.8252277 -119.7029194 440.0625 WX6D Fresno OPEN\n",
      "Fresno 36.7295295 -119.708861260756 440.0625 KE6YJC Fresno OPEN\n",
      "Angwin 38.5783555 -122.448651545455 440.0750 K6LO Napa OPEN\n",
      "Belmont 37.5202145 -122.2758008 440.0750 KR6WP San Mateo OPEN\n",
      "Stockton 37.9577016 -121.2907796 440.0750 KE6DXF San Joaquin OPEN\n",
      "Willits 39.4096043 -123.3555602 440.0750 WA6RQX Mendocino CLOSED\n",
      "Grass Valley 39.2086655 -121.053123077412 440.1000 KO6CW Nevada OPEN\n",
      "La Honda 37.3191086 -122.2741352 440.1000 WA6DQP San Mateo OPEN\n",
      "Loyalton 39.6762936 -120.2410385 440.1000 N5TEN Sierra CLOSED\n",
      "McKinleyville 40.966005 -124.102789774524 440.1000 KJ6BDK Humboldt OPEN\n",
      "Saint Helena, Deer Park None None 440.1000 K6LO Napa OPEN\n",
      "San Jose 37.3361905 -121.8905833 440.1000 W6SMQ Santa Clara OPEN\n",
      "West Point, West Point Fire Protection District Station 1 None None 440.1000 W6WPT Calaveras OPEN\n",
      "Cameron Park 38.6781746 -120.99426 440.1250 N6RDE El Dorado CLOSED\n",
      "Cazadero 38.5334117 -123.0854625 440.1250 K6CHG Sonoma OPEN\n",
      "Cupertino 37.3228934 -122.0322895 440.1250 W6AMT Santa Clara OPEN\n",
      "Fremont, Mt Allison None None 440.1250 W6TCP Alameda OPEN\n",
      "Fresno, Meadow Lakes 37.0802264 -119.4306865 440.1250 KF6FGL Fresno OPEN\n",
      "Santa Maria 34.9531295 -120.4358577 440.1250 WA6VPL Santa Barbara OPEN\n",
      "Hopland, Sanel Mountain None None 440.1375 NN6J Mendocino OPEN\n",
      "Pittsburg 38.0181745 -121.8901232 440.1375 K6PIT Contra Costa OPEN\n",
      "Cupertino 37.3228934 -122.0322895 440.1500 W6TDM Santa Clara OPEN\n",
      "Zamora 38.7965684 -121.8819117 440.1500 W6OF Yolo CLOSED\n",
      "Berkeley 37.8708393 -122.2728639 440.1750 K6GOD Alameda CLOSED\n",
      "Fremont, Mission Peak None None 440.1750 K6GOD Alameda CLOSED\n",
      "Redding 40.5863563 -122.3916754 440.1750 NA0SA Shasta CLOSED\n",
      "Modesto, Mt Oso None None 440.1875 W6BXN Stanislaus OPEN\n",
      "San Luis Obispo, Tassajera Peak None None 440.1875 K6ACR San Luis Obispo OPEN\n",
      "Palo Alto 37.4443293 -122.1598465 440.2000 N6BDE Santa Clara OPEN\n",
      "Sacramento 38.5815719 -121.4943996 440.2000 KU6P Sacramento OPEN\n",
      "Santa Rosa 38.4404675 -122.7144314 440.2000 KD6CJQ Sonoma OPEN\n",
      "Walnut Creek 37.9020731 -122.0618702 440.2125 K6LNK Contra Costa OPEN\n",
      "Modesto, Mt Oso None None 440.2250 WD6EJF Stanislaus OPEN\n",
      "San Jose 37.3361905 -121.8905833 440.2250 K6LLC Santa Clara OPEN\n",
      "Shingletown 40.5023815 -121.873325661267 440.2250 WO6P Shasta OPEN\n",
      "Novato 38.1061979 -122.5681191 440.2500 N6GVI Marin CLOSED\n",
      "Porterville 36.06523 -119.0167679 440.2500 AB6MJ Tulare CLOSED\n",
      "Mt Shasta City, Gray Butte None None 440.2750 N6QGZ Siskiyou OPEN\n",
      "San Jose 37.3361905 -121.8905833 440.2750 WA6YOP Santa Clara OPEN\n",
      "Tahoe City 39.1689372 -120.1434787 440.2750 K1BMW Placer OPEN\n",
      "Concord, Mt Diablo None None 440.3000 N6AMG Contra Costa CLOSED\n",
      "Grant Cove, Buck Rock None None 440.3000 W6BXN Fresno OPEN\n",
      "Bodega Bay 38.273529 -123.0061118 440.3250 K6CHG Sonoma OPEN\n",
      "Concord 37.9768525 -122.0335624 440.3250 WB6FRM Contra Costa CLOSED\n",
      "Lakehead 40.90515 -122.3791777 440.3250 N0ASA Shasta OPEN\n",
      "Clovis 36.8252277 -119.7029194 440.3500 NI6M Fresno OPEN\n",
      "Folsom 38.6779591 -121.1760583 440.3500 AB6LI Sacramento OPEN\n",
      "Oakland 37.8044557 -122.2713563 440.3500 KM6EF Alameda OPEN\n",
      "Fresno 36.7295295 -119.708861260756 440.3750 N6AMG Fresno CLOSED\n",
      "San Jose 37.3361905 -121.8905833 440.3750 N6TNR Santa Clara CLOSED\n",
      "Berkeley 37.8708393 -122.2728639 440.4000 WB6WTM Alameda CLOSED\n",
      "Visalia, Park Ridge 33.7295511 -117.7719808 440.4000 WA6BAI Fresno OPEN\n",
      "Marysville 39.1457247 -121.5913516 440.4250 KG6PND Yuba OPEN\n",
      "San Ramon 37.7799273 -121.9780153 440.4250 WA6HAM Contra Costa CLOSED\n",
      "Santa Rosa 38.4404675 -122.7144314 440.4500 K6EAR Sonoma OPEN\n",
      "Visalia 36.3302284 -119.2920585 440.4500 N6BYH Tulare OPEN\n",
      "Volcano 38.4427907 -120.6309635 440.4500 W6KAP Amador OPEN\n",
      "Watsonville 36.9092773 -121.7529071 440.4500 W6DXW Santa Cruz OPEN\n",
      "Woodside 37.4299388 -122.2538557 440.4500 N6ZX San Mateo OPEN\n",
      "Morgan Hill, Crystal Peak None None 440.4750 K6GOD Santa Cruz CLOSED\n",
      "Sebastopol 38.3845125 -122.833250158374 440.4750 WA6FUL Sonoma OPEN\n",
      "Woodland 38.6786109 -121.7733285 440.4750 KC6UDS Yolo OPEN\n",
      "Chico 39.7284945 -121.8374777 440.5000 WA6UHF Butte CLOSED\n",
      "Daly City, San Bruno Mountain None None 440.5000 N6AMG San Mateo OPEN\n",
      "San Bruno 37.6304904 -122.4110835 440.5000 N6AMG San Mateo OPEN\n",
      "Westley 37.549376 -121.1991036 440.5000 N6AMG Stanislaus CLOSED\n",
      "Coalinga 36.16099095 -120.294545683097 440.5250 N6LEX Fresno OPEN\n",
      "Grass Valley 39.2086655 -121.053123077412 440.5250 KB6LCS Nevada OPEN\n",
      "Newark, City by the bay None None 440.5250 N6MM Alameda OPEN\n",
      "Soledad 36.4198255 -121.351530306648 440.5250 N6LEX Monterey OPEN\n",
      "Vacaville 38.3565773 -121.9877444 440.5250 KB6LCS Solano OPEN\n",
      "Chico 39.7284945 -121.8374777 440.5500 WB6RHC Butte CLOSED\n",
      "San Anselmo 37.9744323 -122.5615032 440.5500 W6RV Marin OPEN\n",
      "Santa Cruz 36.9749416 -122.0285259 440.5500 AB6VS Santa Cruz OPEN\n",
      "Twain Harte 38.0337345 -120.238494078094 440.5500 KE6KUA Tuolumne OPEN\n",
      "Auburn 38.8945939 -121.0739897 440.5750 W6EK Placer OPEN\n",
      "Morgan Hill 37.130408 -121.6544974 440.5750 KA6ZRJ Santa Clara OPEN\n",
      "Oakland 37.8044557 -122.2713563 440.5750 W6EBW Alameda OPEN\n",
      "Livermore, Cedar Ridge None None 440.6000 KI6FEO Alameda OPEN\n",
      "South San Francisco 37.6549493 -122.4081251 440.6000 K6HN San Francisco CLOSED\n",
      "Orinda 37.8771476 -122.1796888 440.6250 WA6HAM Contra Costa CLOSED\n",
      "Tehachapi, Tehachapi Mountains None None 440.6250 W6SLZ Kern OPEN\n",
      "Antioch 38.0049214 -121.805789 440.6500 KC6WYA Contra Costa OPEN\n",
      "Chico 39.7284945 -121.8374777 440.6500 W6RHC Butte OPEN\n",
      "Danville 37.8215929 -121.9999606 440.6500 N6TRB Contra Costa OPEN\n",
      "Los Gatos 37.226611 -121.9746797 440.6500 KC6TYG Santa Clara OPEN\n",
      "Novato 38.1061979 -122.5681191 440.6500 KG6MZV Marin OPEN\n",
      "Chico 39.7284945 -121.8374777 440.6750 N6EJX Butte CLOSED\n",
      "Coalinga, Santa Rita Peak None None 440.6750 W6EMS Fresno OPEN\n",
      "Daly City 37.7057671 -122.4619205 440.6750 K6TEA San Mateo CLOSED\n",
      "Brisbane 37.6807661 -122.3999715 440.7000 K6CV San Mateo OPEN\n",
      "Placerville 38.7296252 -120.798546 440.7000 WA6BTH El Dorado OPEN\n",
      "Salinas 36.6744117 -121.6550372 440.7000 W6RTF Monterey OPEN\n",
      "Truckee, Donner Peak None None 440.7000 W6SAR Placer OPEN\n",
      "Fair Oaks 39.3784978 -123.3413984 440.7250 WB6HEV Sacramento OPEN\n",
      "Pacifica 37.6138253 -122.4869194 440.7250 WA6AFT San Mateo CLOSED\n",
      "Coalinga 36.16099095 -120.294545683097 440.7500 K6JKL Fresno OPEN\n",
      "Vacaville, Mt Vaca None None 440.7500 K6LNK Napa OPEN\n",
      "Concord 37.9768525 -122.0335624 440.7750 N6BLA Contra Costa CLOSED\n",
      "Mariposa, Mt Bullion 37.5071591 -120.0448999 440.8000 N6LYE Mariposa OPEN\n",
      "Modesto, Mt Oso None None 440.8000 N6LYE Stanislaus OPEN\n",
      "Mountain View, El Camino Hospital  None None 440.8000 W6ASH Santa Clara OPEN\n",
      "Berkeley 37.8708393 -122.2728639 440.8250 WB6IXH Alameda CLOSED\n",
      "Porterville, Jordan Peak None None 440.8250 W6KGB Tulare PRIVATE\n",
      "Mariposa, Mt Bullion 37.5071591 -120.0448999 440.8375 N6LYE Mariposa OPEN\n",
      "Bakersfield 35.3738712 -119.0194639 440.8500 KE6CUW Kern OPEN\n",
      "Columbia 32.7178183 -117.1673622 440.8500 K6DEL Tuolumne OPEN\n",
      "Napa 38.2971367 -122.2855293 440.8500 N6NAR Napa OPEN\n",
      "Santa Cruz 36.9749416 -122.0285259 440.8500 W6JWS Santa Cruz OPEN\n",
      "Concord 37.9768525 -122.0335624 440.8750 WA6HAM Contra Costa CLOSED\n",
      "Los Altos 37.3790629 -122.116578 440.8750 KH6N Santa Clara OPEN\n",
      "Berkeley 37.8708393 -122.2728639 440.9000 WA2UNP Alameda OPEN\n",
      "Mountain Ranch 38.235224 -120.506806880094 440.9000 N6GVI Calaveras CLOSED\n",
      "Newark 37.5296593 -122.0402399 440.9000 KI6KGN Alameda OPEN\n"
     ]
    },
    {
     "name": "stdout",
     "output_type": "stream",
     "text": [
      "Oroville 39.5137752 -121.556359 440.9000 W6SCR Butte OPEN\n",
      "Berkeley 37.8708393 -122.2728639 440.9250 KH8AF Alameda CLOSED\n",
      "Novato 38.1061979 -122.5681191 440.9250 KH8AF Marin CLOSED\n",
      "San Rafael 37.9735346 -122.5310874 440.9250 KH8AF Marin CLOSED\n",
      "Santa Cruz 36.9749416 -122.0285259 440.9250 K6BJ Santa Cruz OPEN\n",
      "Tahoe City 39.1689372 -120.1434787 440.9250 KH8AF Placer CLOSED\n",
      "Vacaville 38.3565773 -121.9877444 440.9250 KH8AF Solano CLOSED\n",
      "Gold Run 39.180731 -120.8557726 440.9500 WB6OHV Placer OPEN\n",
      "Hayward 37.6688205 -122.0807964 440.9500 KB6LED Alameda OPEN\n",
      "Redding 40.5863563 -122.3916754 440.9500 KB6HWZ Shasta OPEN\n",
      "Sebastopol 38.3845125 -122.833250158374 440.9500 WA6FUL Sonoma OPEN\n",
      "Columbia 32.7178183 -117.1673622 440.9750 N6EUO Tuolumne OPEN\n",
      "Mineral 40.3469311 -121.5993148 440.9750 N6TZG Tehama OPEN\n",
      "Portola Valley 37.3841067 -122.2352443 440.9750 KC6ULT San Mateo OPEN\n",
      "Richmond 37.9357576 -122.3477486 440.9750 K6LOU Contra Costa CLOSED\n",
      "Cameron Park 38.6781746 -120.99426 441.0000 WA6NHC El Dorado OPEN\n",
      "Campbell 37.2883259 -121.9456328 441.0250 K9GVF Santa Clara OPEN\n",
      "Grass Valley 39.2086655 -121.053123077412 441.0250 W6RCA Nevada OPEN\n",
      "Westwood 40.3024675 -121.010399251458 441.0250 N6TZG Lassen OPEN\n",
      "Los Gatos 37.226611 -121.9746797 441.0500 N6UUI Santa Clara OPEN\n",
      "Paso Robles 35.6267654 -120.6912456 441.0500 WB6JWB San Luis Obispo PRIVATE\n",
      "Placerville 38.7296252 -120.798546 441.0500 N6UUI El Dorado OPEN\n",
      "Pacifica, Montara Mountain None None 441.0750 WA6TOW San Mateo OPEN\n",
      "San Luis Obispo 35.2827525 -120.6596156 441.0750 WB6JWB San Luis Obispo PRIVATE\n",
      "Valley Springs 38.1847255 -120.807103932756 441.0750 W6EBW Calaveras OPEN\n",
      "Clearlake 38.9582307 -122.6263728 441.1000 KA6JJW Lake OPEN\n",
      "El Dorado Hills 38.6771539 -121.064314776107 441.1000 N6QDY El Dorado OPEN\n",
      "Palo Alto, Black Mountain None None 441.1000 K6GOD Santa Clara CLOSED\n",
      "San Jose, Alum Rock Park None None 441.1000 K6GOD Santa Clara CLOSED\n",
      "Sebastopol 38.3845125 -122.833250158374 441.1000 WA6FUL Sonoma OPEN\n",
      "Angels Camp 38.0682555 -120.5396456 441.1250 NC6R Calaveras OPEN\n",
      "Esparto 38.6945905 -122.021368112016 441.1250 NC6R Yolo OPEN\n",
      "Fremont 37.5482697 -121.9885719 441.1250 KC6WXO Alameda OPEN\n",
      "Prunedale 36.7851358 -121.6666416 441.1250 KC6UDC Monterey OPEN\n",
      "Taft 35.1424671 -119.4565078 441.1250  Kern \n",
      "Fairfield 38.2493581 -122.0399663 441.1500 K6SOL Solano OPEN\n",
      "San Jose 37.3361905 -121.8905833 441.1500 KC6BJO Santa Clara OPEN\n",
      "Citrus Heights 38.7071247 -121.2810611 441.1750 KG6ZTE Sacramento OPEN\n",
      "Oakhurst, Deadwood Peak None None 441.1750 W6WGZ Madera OPEN\n",
      "San Jose 37.3361905 -121.8905833 441.1750 KF6FWO Santa Clara OPEN\n",
      "Tahoe City 39.1689372 -120.1434787 441.1750 N7VXB Placer OPEN\n",
      "Concord 37.9768525 -122.0335624 441.2000 N6GVI Contra Costa CLOSED\n",
      "Alturas, Likely Mountain None None 441.2250 K6PRN Modoc OPEN\n",
      "Camino 36.7014631 -118.7559974 441.2250 N6YBH El Dorado OPEN\n",
      "Oakland 37.8044557 -122.2713563 441.2250 W6RCA Alameda OPEN\n",
      "Benicia 38.049365 -122.1585777 441.2500 KR6BEN Solano OPEN\n",
      "Los Altos 37.3790629 -122.116578 441.2500 WB6WTM Santa Clara CLOSED\n",
      "Placerville 38.7296252 -120.798546 441.2500 W6LOA El Dorado OPEN\n",
      "South San Francisco 37.6549493 -122.4081251 441.2500 K6DNA San Francisco OPEN\n",
      "Modesto, Mt Oso None None 441.2750 K6RDJ Stanislaus OPEN\n",
      "Mount Shasta 41.4091897 -122.1949533 441.2750 W6BML Siskiyou OPEN\n",
      "San Jose 37.3361905 -121.8905833 441.2750 K6BEN Santa Clara CLOSED\n",
      "Fremont, Mt Allison None None 441.3000 WB6ECE Alameda OPEN\n",
      "Monterey 36.600256 -121.8946388 441.3000 WB6ECE Monterey OPEN\n",
      "San Jose, Mt Umunhum None None 441.3000 WB6ECE Santa Clara OPEN\n",
      "Santa Rosa 38.4404675 -122.7144314 441.3000 KV6A Sonoma OPEN\n",
      "Santa Rosa 38.4404675 -122.7144314 441.3000 KD6RC Sonoma OPEN\n",
      "Shingle Springs 38.671387 -120.940544707026 441.3000 N6NA El Dorado CLOSED\n",
      "Woodside 37.4299388 -122.2538557 441.3000 WB6ECE San Mateo OPEN\n",
      "Concord, Mt Diablo None None 441.3250 W6CX Contra Costa OPEN\n",
      "Monterey 36.600256 -121.8946388 441.3250 WE6R Monterey CLOSED\n",
      "Kelseyville 38.9650885 -122.837167514265 441.3500 KG6UFR Lake OPEN\n",
      "Mariposa, Mt Bullion 37.5071591 -120.0448999 441.3500 K6SIX Mariposa OPEN\n",
      "San Jose 37.3361905 -121.8905833 441.3500 W6PIY Santa Clara OPEN\n",
      "Chester 44.5413322 -64.2411853 441.3750 N6TZG Plumas CLOSED\n",
      "Sebastopol, English Hill None None 441.3750 W6SON Sonoma OPEN\n",
      "West Point 38.4061555 -120.537917096125 441.3750 WB6LZV Calaveras OPEN\n",
      "Chico 39.7284945 -121.8374777 441.4000 WB6RHC Butte OPEN\n",
      "Meadow Lakes 37.0802264 -119.4306865 441.4000 K6TVI Fresno CLOSED\n",
      "Redwood City 37.4863239 -122.2325233 441.4000 WD6GGW San Mateo OPEN\n",
      "Kelseyville 38.9650885 -122.837167514265 441.4250 N6GJM Lake OPEN\n",
      "Mariposa 37.570148 -119.9036592 441.4250 KF6CLR Mariposa OPEN\n",
      "Oakland 37.8044557 -122.2713563 441.4250 W6MTF Alameda OPEN\n",
      "Sacramento 38.5815719 -121.4943996 441.4500 KJ6KO Sacramento OPEN\n",
      "Salinas, Fremont Pk None None 441.4500 K6JE Monterey OPEN\n",
      "San Francisco 37.7792808 -122.4192363 441.4500 W6EE San Francisco OPEN\n",
      "San Lorenzo 37.6810422 -122.1244088 441.4500 KM6HJA Alameda OPEN\n",
      "Oakland 37.8044557 -122.2713563 441.4750 W6YOP Alameda OPEN\n",
      "Oroville 39.5137752 -121.556359 441.4750 W6YOP Butte OPEN\n",
      "Sonora 37.9840911 -120.3821381 441.4750 WB6PHE Tuolumne OPEN\n",
      "Los Altos Hills  37.3796627 -122.1374637 441.5250 K6AIR Santa Clara OPEN\n",
      "Pine Grove, Mount Zion None None 441.5250 K6ARC Amador OPEN\n",
      "Porterville 36.06523 -119.0167679 441.5250 WC6HP Tulare OPEN\n",
      "Alpine 38.5893934 -119.8345013 441.5500 N6LZR Mendocino CLOSED\n",
      "Cupertino 37.3228934 -122.0322895 441.5500 W6VB Santa Clara CLOSED\n",
      "Mariposa, Mt Bullion 37.5071591 -120.0448999 441.5500 K6RDJ Mariposa OPEN\n",
      "Georgetown 38.9072855 -120.830230570459 441.5750 K6IRC El Dorado CLOSED\n",
      "Palo Alto 37.4443293 -122.1598465 441.5750 K6IRC Santa Clara CLOSED\n",
      "Merced 37.3029568 -120.4843269 441.6000 N6WEB Merced OPEN\n",
      "Vacaville 38.3565773 -121.9877444 441.6000 W6RCA Solano CLOSED\n",
      "Livermore 37.6820583 -121.7680531 441.6125 W6TCP Alameda OPEN\n",
      "San Carlos 37.504936 -122.2618236 441.6125 W6CBS San Mateo OPEN\n",
      "Los Gatos 37.226611 -121.9746797 441.6250 W6RCA Santa Clara OPEN\n",
      "Placerville 38.7296252 -120.798546 441.6250 W6RCA El Dorado CLOSED\n",
      "Quincy 39.9309945 -120.953573947289 441.6250 W6RCA Plumas OPEN\n",
      "Copperopolis 37.941764 -120.636794737864 441.6500 KD6FVA San Joaquin OPEN\n",
      "King City, Williams Hill None None 441.6500 N6SPD Monterey OPEN\n",
      "Menlo Park 37.4538274 -122.1821871 441.6500 W6FBK San Mateo OPEN\n",
      "Monterey 36.600256 -121.8946388 441.6500 N6SPD Monterey OPEN\n",
      "Santa Rosa, Richmond Heights None None 441.6500 K6JSI Santa Clara OPEN\n",
      "Coalinga, Santa Rita Peak None None 441.6750 K6JSI San Benito CLOSED\n",
      "Napa, Sugarloaf 38.5289119 -122.2245435 441.6750 WA7G Napa OPEN\n",
      "Santa Cruz 36.9749416 -122.0285259 441.6750 N7WG Santa Cruz OPEN\n",
      "Los Gatos 37.226611 -121.9746797 441.7000 K6UB Santa Clara OPEN\n",
      "San Andreas 38.1875605 -120.675382625556 441.7000 W6ALL Calaveras CLOSED\n",
      "Arnold 39.518771 -123.3936231 441.7250 KD6GIY Calaveras OPEN\n",
      "Lotus, Bakers Mountain None None 441.7250 AG6AU El Dorado OPEN\n",
      "Pacifica 37.6138253 -122.4869194 441.7250 K6HN San Mateo CLOSED\n",
      "San Jose 37.3361905 -121.8905833 441.7250 WA6QDP Santa Clara CLOSED\n",
      "Concord 37.9768525 -122.0335624 441.7500 W6YOP Contra Costa OPEN\n",
      "Cottonwood 38.6582375 -121.9710801 441.7500 AK6U Tehama OPEN\n",
      "Truckee 39.327962 -120.1832533 441.7500 K1BMW Nevada OPEN\n",
      "Giroy, Mt. Madonna None None 441.7750  Santa Cruz CLOSED\n",
      "Sacramento 38.5815719 -121.4943996 441.7750 N6ICW Sacramento CLOSED\n",
      "Vacaville, Mt Vaca None None 441.7750 N6ICW Solano CLOSED\n",
      "Fresno 36.7295295 -119.708861260756 441.8000 N6LYE Fresno OPEN\n",
      "Napa 38.2971367 -122.2855293 441.8000 W6CO Napa OPEN\n",
      "San Leandro 37.7249296 -122.1560768 441.8000 KQ6RC Alameda CLOSED\n",
      "Concord 37.9768525 -122.0335624 441.8250 WB6BDD Contra Costa CLOSED\n",
      "Livermore 37.6820583 -121.7680531 441.8250 K6LRG Alameda OPEN\n",
      "Palo Alto, Black Mountain None None 441.8500 K6OTR Santa Clara OPEN\n",
      "Sacramento 38.5815719 -121.4943996 441.8500 NA6DF Sacramento OPEN\n",
      "San Jose 37.3361905 -121.8905833 441.8500 KG6KCL Santa Clara CLOSED\n",
      "Dixon 38.4454641 -121.8232958 441.8875 K6JWN Solano OPEN\n",
      "Kensington 46.4360505 -63.6378732 441.8875 AH6KD Contra Costa OPEN\n",
      "Coalinga, Santa Rita Peak None None 441.9000 N6OA Fresno OPEN\n",
      "Hollister 36.8524545 -121.4016021 441.9000 W6MOW San Benito OPEN\n"
     ]
    },
    {
     "name": "stdout",
     "output_type": "stream",
     "text": [
      "Napa, Mt St Helena 38.4984875 -122.461163 441.9000 W6CO Sonoma OPEN\n",
      "Aptos 36.9787725 -121.8976335 441.9250 WA6HHQ Santa Cruz OPEN\n",
      "Twain Harte 38.0337345 -120.238494078094 441.9250 W6YOP Tuolumne OPEN\n",
      "Vacaville 38.3565773 -121.9877444 441.9250 W6YOP Solano CLOSED\n",
      "Sacramento 38.5815719 -121.4943996 441.9500 K6YC Sacramento OPEN\n",
      "San Jose 37.3361905 -121.8905833 441.9500 N6MPX Santa Clara OPEN\n",
      "Saratoga, Saratoga Heights 38.7239855 -90.6102651 441.9500 KK6USZ Santa Clara OPEN\n",
      "Orinda 37.8771476 -122.1796888 441.9750 W6CBS Contra Costa OPEN\n",
      "Springville, Blue Ridge None None 441.9750 KE6WDX Tulare OPEN\n",
      "Vacaville 38.3565773 -121.9877444 441.9750 W6RCA Solano OPEN\n",
      "Eureka, Horse Mountain None None 442.0000 AE6R Humboldt OPEN\n",
      "Palo Alto 37.4443293 -122.1598465 442.0000 WW6HP Santa Clara OPEN\n",
      "Rocklin 38.7907339 -121.2357828 442.0000 N6UG Placer OPEN\n",
      "Lemoore 36.3006495 -119.7827122 442.0250 N6BEN Kings OPEN\n",
      "Milpitas 37.4282724 -121.9066238 442.0250 W6KCS Santa Clara OPEN\n",
      "Salinas 36.6744117 -121.6550372 442.0250 N6LEX Monterey OPEN\n",
      "Santa Clara 37.3541132 -121.9551744 442.0250 K6SNC Santa Clara OPEN\n",
      "Vacaville 38.3565773 -121.9877444 442.0250 W6KCS Solano OPEN\n",
      "Geyserville 38.707687 -122.9024964 442.0500 WA6OYK Sonoma OPEN\n",
      "San Francisco, Twin Peaks None None 442.0500 WA6GG San Francisco OPEN\n",
      "Shingle Springs, Mt Aukum None None 442.0500 NC6R El Dorado OPEN\n",
      "Greenfield, Vaquero Creek/Arroyo Seco  None None 442.0750 K6LNK Monterey OPEN\n",
      "Gualala 38.7674439 -123.5298281 442.0750 K6LNK Mendocino OPEN\n",
      "Meyers 38.8560185 -120.0129603 442.0750 K6LNK El Dorado OPEN\n",
      "Modesto, Mt Oso None None 442.0750 N6QOP Stanislaus OPEN\n",
      "Pleasanton 37.6624312 -121.8746789 442.0750 K6LNK Alameda OPEN\n",
      "San Francisco, Downtown 37.7875138 -122.407159 442.0750 N6MVT San Francisco OPEN\n",
      "Shasta Lake 40.6799638 -122.3626507 442.0750 K7JKL Shasta OPEN\n",
      "Millbrae 37.5985468 -122.3871942 442.1000 K6HSV San Mateo OPEN\n",
      "Willits, Laughlin Ridge None None 442.1000 K7WWA Mendocino OPEN\n",
      "Santa Rosa 38.4404675 -122.7144314 442.1125 K6ACS Sonoma OPEN\n",
      "Palo Alto, Black Mountain None None 442.1250 W6PMI Santa Clara CLOSED\n",
      "Rocklin 38.7907339 -121.2357828 442.1250 N6UG Placer OPEN\n",
      "Grass Valley 39.2086655 -121.053123077412 442.1500 AB6LI Nevada OPEN\n",
      "Richmond 37.9357576 -122.3477486 442.1500 WA6DUR Contra Costa OPEN\n",
      "Campbell, Crystal Peak None None 442.1750 K9GVF Santa Clara OPEN\n",
      "Fresno 36.7295295 -119.708861260756 442.1750 K6ACR Fresno OPEN\n",
      "Lakehead 40.90515 -122.3791777 442.1750 KH8AF Shasta CLOSED\n",
      "Oroville, Downtown None None 442.1750 WA6CAL Butte OPEN\n",
      "San Jose 37.3361905 -121.8905833 442.1750 N1UFD Santa Clara CLOSED\n",
      "San Rafael 37.9735346 -122.5310874 442.1750 KH8AF Marin CLOSED\n",
      "Tahoe City 39.1689372 -120.1434787 442.1750 KH8AF Placer CLOSED\n",
      "Turlock 37.4946568 -120.8465941 442.1750 WB6PBN Stanislaus OPEN\n",
      "Oakland 37.8044557 -122.2713563 442.2000 KH8AF Alameda CLOSED\n",
      "Eureka 40.8020712 -124.1636729 442.2250 WA6RQX Humboldt CLOSED\n",
      "Monterey 36.600256 -121.8946388 442.2250 WH6KA Monterey CLOSED\n",
      "Vacaville 38.3565773 -121.9877444 442.2250 KH8AF Solano CLOSED\n",
      "Fiddletown 38.5037966 -120.7554891 442.2500 W6SF Amador OPEN\n",
      "Napa 38.2971367 -122.2855293 442.2500 N6TKW Napa OPEN\n",
      "Oakland, Oakland Hills 39.4140555 -76.9014490934341 442.2500 KD6QDW Alameda OPEN\n",
      "Berkeley 37.8708393 -122.2728639 442.2750 WA6ZTY Alameda OPEN\n",
      "Maxwell, Coast Range foothills None None 442.2750 N6NMZ Colusa OPEN\n",
      "Porterville 36.06523 -119.0167679 442.2750 AC6KT Tulare OPEN\n",
      "Stockton 37.9577016 -121.2907796 442.2750 K6GTO San Joaquin OPEN\n",
      "Fresno 36.7295295 -119.708861260756 442.2875 WX6D Fresno OPEN\n",
      "Visalia, Bear Mountain None None 442.2875 WX6D Tulare OPEN\n",
      "San Jose 37.3361905 -121.8905833 442.3000 K6INC Santa Clara OPEN\n",
      "San Luis Obispo, Cal Poly None None 442.3000 W6BHZ San Luis Obispo OPEN\n",
      "Vacaville 38.3565773 -121.9877444 442.3000 W6NQJ Solano CLOSED\n",
      "Visalia 36.3302284 -119.2920585 442.3000 K6VIS Tulare OPEN\n",
      "Visalia, Bear Mountain None None 442.3125 WX6D Tulare OPEN\n",
      "Pescadero 37.2516018 -122.3821927 442.3250 N6QZH San Mateo CLOSED\n",
      "Sacramento 38.5815719 -121.4943996 442.3250 KF6BIK Sacramento CLOSED\n",
      "Sebastopol 38.3845125 -122.833250158374 442.3250 N6AMG Sonoma CLOSED\n",
      "Visalia, Bear Mountain None None 442.3250 WX6D Tulare OPEN\n",
      "Alturas, Likely Mountain None None 442.3500 WB6HMD Modoc OPEN\n",
      "Cupertino 37.3228934 -122.0322895 442.3500 K6GOD Santa Clara CLOSED\n",
      "Folsom 38.6779591 -121.1760583 442.3500 KS6HRP Sacramento OPEN\n",
      "Hayward 37.6688205 -122.0807964 442.3500 K6GOD Alameda CLOSED\n",
      "Mariposa 37.570148 -119.9036592 442.3500 N6IB Mariposa OPEN\n",
      "Milpitas 37.4282724 -121.9066238 442.3500 K6GOD Santa Clara OPEN\n",
      "Oroville 39.5137752 -121.556359 442.3500 WA6UHF Butte OPEN\n",
      "Chico 39.7284945 -121.8374777 442.3750 W6ECE Butte OPEN\n",
      "Copperopolis 37.941764 -120.636794737864 442.3750 N6MAC Calaveras CLOSED\n",
      "Daly City 37.7057671 -122.4619205 442.3750 K6JDE San Mateo OPEN\n",
      "Daly City 37.7057671 -122.4619205 442.3750 KC6PGV San Mateo OPEN\n",
      "Merced 37.3029568 -120.4843269 442.4000 KF6FM Merced PRIVATE\n",
      "Oakland 37.8044557 -122.2713563 442.4000 WB6NDJ Alameda OPEN\n",
      "Red Bluff 40.1784279 -122.2359236 442.4000 W6QWN Tehama OPEN\n",
      "Sacramento 38.5815719 -121.4943996 442.4000 WB6GWZ Sacramento CLOSED\n",
      "Coalinga 36.16099095 -120.294545683097 442.4250 KF6FM Fresno PRIVATE\n",
      "Grass Valley 39.2086655 -121.053123077412 442.4250 KF6GLZ Nevada CLOSED\n",
      "San Jose, Regional Medical Center  None None 442.4250 W6UU Santa Clara OPEN\n",
      "Vallejo 38.1040864 -122.2566367 442.4250 K6LI Solano OPEN\n",
      "Concord 37.9768525 -122.0335624 442.4500 KI6O Contra Costa CLOSED\n",
      "Moraga 37.834897 -122.12883 442.4500 KI6O Contra Costa CLOSED\n",
      "Palo Alto 37.4443293 -122.1598465 442.4500 KJ6VU Alameda CLOSED\n",
      "San Jose 37.3361905 -121.8905833 442.4500 WB6KHP Santa Clara OPEN\n",
      "Daly City 37.7057671 -122.4619205 442.4750 KF6REK San Mateo OPEN\n",
      "Placerville 38.7296252 -120.798546 442.4750 WA6BTH El Dorado OPEN\n",
      "Pollock Pines 38.7497125 -120.577664468816 442.4750 WA6KQV El Dorado OPEN\n",
      "Sonora 37.9840911 -120.3821381 442.4750 KJ6NRO Tuolumne OPEN\n",
      "South Lake Tahoe 38.9332411 -119.9843482 442.4750 WA6EWV El Dorado OPEN\n",
      "Sacramento 38.5815719 -121.4943996 442.5000 WA6ZZK Sacramento OPEN\n",
      "San Jose 37.3361905 -121.8905833 442.5000 WB6ZVW Santa Clara OPEN\n",
      "Mountain View 37.3893889 -122.0832101 442.5125 K6HLE Santa Clara OPEN\n",
      "Crescent City 41.8528065 -124.149861983096 442.5250 KA7PRR Del Norte CLOSED\n",
      "Folsom 38.6779591 -121.1760583 442.5250 K6MFM Sacramento OPEN\n",
      "Fresno 36.7295295 -119.708861260756 442.5250 N6IB Fresno OPEN\n",
      "Sausalito, Wolfback Rdg None None 442.5250 K6ER Marin OPEN\n",
      "Walnut Creek 37.9020731 -122.0618702 442.5250 K6MFM Contra Costa OPEN\n",
      "San Jose, Mount Umunhum None None 442.5375 WA6YCZ Santa Clara OPEN\n",
      "Costa Mesa, John Wayne Airport None None 442.5500 KG6LEL Orange OPEN\n",
      "Fremont, Mt Allison None None 442.5500 WA6FUL Santa Clara CLOSED\n",
      "Modesto 37.6390972 -120.9968782 442.5500 N6APB Stanislaus CLOSED\n",
      "Santa Cruz , Near Loma Prieta  None None 442.5500 WA6FUL Santa Cruz CLOSED\n",
      "Vacaville 38.3565773 -121.9877444 442.5500 N6APB Solano CLOSED\n",
      "Meadow Lakes 37.0802264 -119.4306865 442.5750 WX6D Nevada OPEN\n",
      "Palo Alto, Black Mountain None None 442.5750 K6FB Santa Clara OPEN\n",
      "Roseville 38.7521235 -121.2880059 442.5750 KD6PDD Placer OPEN\n",
      "Fremont 37.5482697 -121.9885719 442.6000 WA6PWW Alameda OPEN\n",
      "Sacramento 38.5815719 -121.4943996 442.6000 N6NA Sacramento OPEN\n",
      "Salinas 36.6744117 -121.6550372 442.6000 KG6UYZ Monterey OPEN\n",
      "Grass Valley 39.2086655 -121.053123077412 442.6250 W6AI Nevada CLOSED\n",
      "Pleasanton 37.6624312 -121.8746789 442.6250 W6SRR Alameda OPEN\n",
      "Concord 37.9768525 -122.0335624 442.6500 WA6ZTY Contra Costa OPEN\n",
      "Berkeley 37.8708393 -122.2728639 442.6750 WB6UZX Alameda CLOSED\n",
      "Mariposa, Mt Bullion 37.5071591 -120.0448999 442.6750 KI6HHU Mariposa OPEN\n",
      "Foresthill 39.0019935 -120.825401814224 442.7000 KA6ZRJ Placer OPEN\n",
      "San Jose 37.3361905 -121.8905833 442.7000 N6MNV Santa Clara OPEN\n",
      "San Luis Obispo, Cuesta Peak None None 442.7000 W6SLO San Luis Obispo OPEN\n",
      "South San Francisco 37.6549493 -122.4081251 442.7000 N6MNV San Francisco OPEN\n",
      "Berkeley, Grizzly Peak None None 442.7250 K6DJR Alameda CLOSED\n",
      "Benicia 38.049365 -122.1585777 442.7500 KR6BEN Solano OPEN\n",
      "Daly City 37.7057671 -122.4619205 442.7500 W6BUR San Mateo OPEN\n",
      "Santa Cruz, Empire Grade 36.9800192 -122.0592492 442.7500 W6DXW Santa Cruz OPEN\n"
     ]
    },
    {
     "name": "stdout",
     "output_type": "stream",
     "text": [
      "Fairfield 38.2493581 -122.0399663 442.7750 KC6UJM Solano OPEN\n",
      "Prunedale 36.7851358 -121.6666416 442.7750 W6DXW Monterey OPEN\n",
      "Quincy 39.9309945 -120.953573947289 442.7750 KF6CCP Plumas OPEN\n",
      "San Jose 37.3361905 -121.8905833 442.7750 KU6V Santa Clara OPEN\n",
      "San Leandro 37.7249296 -122.1560768 442.7750 KB6NCL Alameda CLOSED\n",
      "Palo Alto 37.4443293 -122.1598465 442.8000 K6OTR Santa Clara OPEN\n",
      "Sacramento 38.5815719 -121.4943996 442.8000 W6AK Sacramento OPEN\n",
      "Clearlake 38.9582307 -122.6263728 442.8250 WR6COP Lake CLOSED\n",
      "San Jose 37.3361905 -121.8905833 442.8250 WR6COP Santa Clara CLOSED\n",
      "South Lake Tahoe, Heavenly Valley Ski area California base facility None None 442.8250 W6SUV El Dorado OPEN\n",
      "Redding 40.5863563 -122.3916754 442.8500 WR6TV Shasta CLOSED\n",
      "San Jose 37.3361905 -121.8905833 442.8500 WA6MIA Santa Clara OPEN\n",
      "Vacaville 38.3565773 -121.9877444 442.8500 AB6CQ Solano OPEN\n",
      "Cobb 38.8221258 -122.7230451 442.8750 KE6QDW Lake OPEN\n",
      "Foresthill 39.0019935 -120.825401814224 442.8750 KA6EBR Placer OPEN\n",
      "Hayward 37.6688205 -122.0807964 442.8750 K6DDR Alameda OPEN\n",
      "San Jose 37.3361905 -121.8905833 442.8750 WA6YLV Santa Clara OPEN\n",
      "San Luis Obispo 35.2827525 -120.6596156 442.8750 WB6FMC San Luis Obispo CLOSED\n",
      "Coarsegold 37.2621687 -119.7009834 442.9000 W6HMH Madera OPEN\n",
      "Sacramento 38.5815719 -121.4943996 442.9000 K6NP Sacramento OPEN\n",
      "San Jose, Loma Prieta None None 442.9000 K6JSI Santa Clara OPEN\n",
      "Pleasanton 37.6624312 -121.8746789 442.9250 W6RGG Alameda CLOSED\n",
      "Tehachapi 35.1321878 -118.4489739 442.9250  Kern OPEN\n",
      "Grass Valley 39.2086655 -121.053123077412 442.9500 N6VYQ Nevada OPEN\n",
      "San Jose 37.3361905 -121.8905833 442.9500 K6YZS Santa Clara OPEN\n",
      "Sequoia, Buck Rock None None 442.9500 KK6AC Fresno OPEN\n",
      "Tahoe City 39.1689372 -120.1434787 442.9500 WA6FJS Placer OPEN\n",
      "Auburn 38.8945939 -121.0739897 442.9625 NG6DNG Placer OPEN\n",
      "Morgan Hill, Henry Coe Park None None 442.9750 K7DAA Santa Clara OPEN\n",
      "Sonora, Downtown 33.9307864 -117.9248885 442.9750 KJ6NRO Tuolumne OPEN\n",
      "Vacaville 38.3565773 -121.9877444 442.9750 K6JJC Solano OPEN\n",
      "Bakersfield, Shirley Peak None None 443.0000 KI6HHU Kern OPEN\n",
      "Laytonville, Cahto Peak None None 443.0000 K6JSI Mendocino OPEN\n",
      "Palo Alto 37.4443293 -122.1598465 443.0000 W6OOL Santa Clara CLOSED\n",
      "Grass Valley 39.2086655 -121.053123077412 443.0250 WA6WER Nevada OPEN\n",
      "Los Gatos 37.226611 -121.9746797 443.0250 WA6ABB Santa Clara CLOSED\n",
      "Manteca 37.7986184 -121.2117148 443.0250 KM6IRY San Joaquin OPEN\n",
      "Milpitas 37.4282724 -121.9066238 443.0250 K6EXE Santa Clara CLOSED\n",
      "Susanville, Shaffer Mountain None None 443.0250 K6LRC Lassen OPEN\n",
      "Susanville, Inspiration Pt None None 443.0250 K6LRC Lassen OPEN\n",
      "Visalia 36.3302284 -119.2920585 443.0250 WA6BLB Tulare OPEN\n",
      "Crescent City 41.8528065 -124.149861983096 443.0500 KD6GDZ Del Norte OPEN\n",
      "Orinda, Grizzly Peak None None 443.0500 N6QOP Contra Costa OPEN\n",
      "Porterville 36.06523 -119.0167679 443.0500 KE6WDX Tulare OPEN\n",
      "Redding 40.5863563 -122.3916754 443.0500 WR6TV Shasta OPEN\n",
      "Watsonville, Watsonville Community Hospital  None None 443.0500 K6RMW Santa Cruz OPEN\n",
      "Pleasanton 37.6624312 -121.8746789 443.0625 N6LDJ Alameda OPEN\n",
      "Walnut Creek 37.9020731 -122.0618702 443.0625 K6LNK Contra Costa OPEN\n",
      "Maricopa, Cerro Noroeste None None 443.0750 KC6WRD Kern OPEN\n",
      "Mariposa, Mt Bullion 37.5071591 -120.0448999 443.0750 K6IXA Mariposa OPEN\n",
      "San Jose 37.3361905 -121.8905833 443.0750 N6MVT Santa Clara OPEN\n",
      "Stonyford 39.3748343 -122.5453889 443.0750 N6MVT Colusa OPEN\n",
      "Coalinga, Joaquin Ridge 36.1346222 -120.3702869 443.1000 K6JSI Fresno CLOSED\n",
      "Red Bluff 40.1784279 -122.2359236 443.1000 N6YCK Tehama OPEN\n",
      "San Francisco 37.7792808 -122.4192363 443.1000 W6TP San Francisco OPEN\n",
      "Smith River 59.5482269 -126.4894908 443.1000 K6SLS Del Norte OPEN\n",
      "Stockton 37.9577016 -121.2907796 443.1000 N6GVI San Joaquin CLOSED\n",
      "Fresno 36.7295295 -119.708861260756 443.1250 N6PNZ Fresno OPEN\n",
      "Saratoga 37.2638324 -122.0230146 443.1250 K6BEN Santa Clara CLOSED\n",
      "Stockton 37.9577016 -121.2907796 443.1250 KI6KGN San Joaquin OPEN\n",
      "Cupertino 37.3228934 -122.0322895 443.1500 NU6P Santa Clara CLOSED\n",
      "Los Banos 37.0592253 -120.8505342 443.1500 AA6LB Merced OPEN\n",
      "Georgetown 38.9072855 -120.830230570459 443.1750 K6IRC El Dorado CLOSED\n",
      "Modesto 37.6390972 -120.9968782 443.1750 K6JJC Stanislaus OPEN\n",
      "Pacifica 37.6138253 -122.4869194 443.1750 K6PEG San Mateo CLOSED\n",
      "Oakland 37.8044557 -122.2713563 443.2000 N6GVI Alameda CLOSED\n",
      "Visalia, Blue Ridge None None 443.2000 KM6OR Tulare OPEN\n",
      "Lincoln 38.8598295 -121.342392057924 443.2250 W6LHR Placer OPEN\n",
      "Palo Alto 37.4443293 -122.1598465 443.2250 KJ6K Santa Clara CLOSED\n",
      "Palo Alto, Black Mountain None None 443.2250 WW6BAY Santa Clara OPEN\n",
      "Fresno 36.7295295 -119.708861260756 443.2500 WQ6CWA Fresno OPEN\n",
      "Mill Valley, Mt Tamalpais 37.8795702 -122.522385 443.2500 K6GWE Marin OPEN\n",
      "Scotia 40.4823573 -124.1008808 443.2500 K6FWR Humboldt OPEN\n",
      "Bakersfield 35.3738712 -119.0194639 443.2750 N7BJD Kern OPEN\n",
      "Bakersfield 35.3738712 -119.0194639 443.2750 N7BJD Kern OPEN\n",
      "Lompoc 34.6391501 -120.4579409 443.2750 K7AZ Santa Barbara OPEN\n",
      "Mcfarland 35.6780104 -119.2292748 443.2750 N6RDN Kern OPEN\n",
      "Sacramento 38.5815719 -121.4943996 443.2750 KJ6JD Sacramento CLOSED\n",
      "San Jose 37.3361905 -121.8905833 443.2750 W6AMT Santa Clara OPEN\n",
      "Centerville, Bear Mountain None None 443.3000 N6LYE Fresno OPEN\n",
      "San Jose 37.3361905 -121.8905833 443.3000 KB5JR Santa Clara OPEN\n",
      "Madera 37.1716264 -119.7737991 443.3125 N6LYE Madera OPEN\n",
      "Berkeley 37.8708393 -122.2728639 443.3250 WB6JKV Alameda OPEN\n",
      "Coalinga 36.16099095 -120.294545683097 443.3250 K6JJC Fresno OPEN\n",
      "Marysville 39.1457247 -121.5913516 443.3250 K6JJC Yuba OPEN\n",
      "Oakland 37.8044557 -122.2713563 443.3500 AC6OT Alameda OPEN\n",
      "San Andreas 38.1875605 -120.675382625556 443.3500 NC6R Calaveras OPEN\n",
      "Visalia 36.3302284 -119.2920585 443.3500 WA6YLB Tulare OPEN\n",
      "Watsonville 36.9092773 -121.7529071 443.3500 KB6MET Santa Cruz OPEN\n",
      "Fresno 36.7295295 -119.708861260756 443.3750 KE6JZ Fresno OPEN\n",
      "Oakland 37.8044557 -122.2713563 443.3750 WB6SHU Alameda OPEN\n",
      "San Leandro 37.7249296 -122.1560768 443.3750 K6KBL Alameda OPEN\n",
      "Fairfield 38.2493581 -122.0399663 443.4000 WL3DZ Solano CLOSED\n",
      "Fremont 37.5482697 -121.9885719 443.4000 N6IGF Alameda CLOSED\n",
      "Fresno 36.7295295 -119.708861260756 443.4000 NA6MM Fresno CLOSED\n",
      "Milpitas 37.4282724 -121.9066238 443.4000 WA6KPX Santa Clara OPEN\n",
      "Fresno 36.7295295 -119.708861260756 443.4250 W6WYT Fresno OPEN\n",
      "Moraga 37.834897 -122.12883 443.4250 KB7IP Contra Costa CLOSED\n",
      "Sebastopol 38.3845125 -122.833250158374 443.4250 WA6FUL Sonoma OPEN\n",
      "Galt 38.3012325 -121.331037246621 443.4500 K6SAL Sacramento OPEN\n",
      "Sacramento 38.5815719 -121.4943996 443.4500 N0RM Sacramento CLOSED\n",
      "San Jose 37.3361905 -121.8905833 443.4500 K6MF Santa Clara CLOSED\n",
      "Cisco Grove, Cisco Butte None None 443.4750 N6MVT Placer OPEN\n",
      "Oakland 37.8044557 -122.2713563 443.4750 N6QOP Alameda OPEN\n",
      "San Jose, Mt Umunhum  None None 443.4750 K6LNK Santa Clara OPEN\n",
      "Santa Cruz 36.9749416 -122.0285259 443.4750 WB6PHE Santa Cruz OPEN\n",
      "Sonora 37.9840911 -120.3821381 443.4750 K6LNK Tuolumne OPEN\n",
      "Walnut Creek 37.9020731 -122.0618702 443.4750 N6MVT Contra Costa OPEN\n",
      "Coalinga, Joaquin Ridge 36.1346222 -120.3702869 443.5000 N6LYE Kings OPEN\n",
      "Concord 37.9768525 -122.0335624 443.5000 K6JJC Contra Costa CLOSED\n",
      "San Luis Obispo, Tassajara Peak None None 443.5000 K6LNK San Luis Obispo OPEN\n",
      "Sunol 37.5943781 -121.8885683 443.5125 W6SRR Alameda OPEN\n",
      "Gilroy, Christmas Hill Park None None 443.5250 KJ6WZS Santa Clara OPEN\n",
      "Modesto, Mt Oso None None 443.5250 K6JSI Stanislaus OPEN\n",
      "San Rafael, San Pedro Ridge -41.7799326 -73.1385796 443.5250 K6GWE Marin OPEN\n",
      "Georgetown 38.9072855 -120.830230570459 443.5500 K6SRA El Dorado CLOSED\n",
      "San Jose 37.3361905 -121.8905833 443.5500 K6TAZ Santa Clara CLOSED\n",
      "Concord 37.9768525 -122.0335624 443.5750 K6IRC Contra Costa CLOSED\n",
      "San Jose 37.3361905 -121.8905833 443.5750 KE6STH Santa Clara OPEN\n",
      "San Luis Obispo 35.2827525 -120.6596156 443.5750 W6FM San Luis Obispo CLOSED\n",
      "Auberry 37.088535 -119.498026436093 443.6000 N6LYE Fresno OPEN\n",
      "Auburn 38.8945939 -121.0739897 443.6000 N6LYE Placer OPEN\n",
      "Fresno, Bear Mountain None None 443.6000 W6FSC Fresno OPEN\n",
      "Hollister 36.8524545 -121.4016021 443.6000 W6MOW San Benito OPEN\n",
      "Novato 38.1061979 -122.5681191 443.6000 KI6B Marin CLOSED\n",
      "Palo Alto, Gunn High School None None 443.6000 KK6KPQ Santa Clara PRIVATE\n"
     ]
    },
    {
     "name": "stdout",
     "output_type": "stream",
     "text": [
      "Pioneer 38.4318551 -120.5718719 443.6250 K6MSR Amador CLOSED\n",
      "San Jose 37.3361905 -121.8905833 443.6250 K6MSR Santa Clara CLOSED\n",
      "Westley 37.549376 -121.1991036 443.6250 K6MSR Stanislaus CLOSED\n",
      "Fresno 36.7295295 -119.708861260756 443.6500 KE6SHK Fresno OPEN\n",
      "Grass Valley 39.2086655 -121.053123077412 443.6500 KG6BAJ Nevada OPEN\n",
      "Monterey 36.600256 -121.8946388 443.6500 N6AMO Monterey OPEN\n",
      "Pleasanton 37.6624312 -121.8746789 443.6500 K6TEA Alameda CLOSED\n",
      "Los Altos 37.3790629 -122.116578 443.6750 K6MSR Santa Clara CLOSED\n",
      "San Francisco 37.7792808 -122.4192363 443.6750 K6MSR San Francisco CLOSED\n",
      "Corcoran, Castle Peak None None 443.7000 AA6GZ Fresno OPEN\n",
      "Fremont 37.5482697 -121.9885719 443.7000 K6JJC Alameda OPEN\n",
      "Walnut Grove 38.2503075 -121.504773626118 443.7000 WA6JIV Sacramento CLOSED\n",
      "Coalinga, Joaquin Ridge 36.1346222 -120.3702869 443.7250 N6LYE Fresno OPEN\n",
      "Coalinga, Joaquin Ridge 36.1346222 -120.3702869 443.7250 K6NOX Fresno OPEN\n",
      "Fremont, Mt Allison None None 443.7250 N6HWI Alameda OPEN\n",
      "Los Gatos 37.226611 -121.9746797 443.7500 K9GVF Santa Clara OPEN\n",
      "Silicon Valley 37.4429964 -122.1545229 443.7500 KA6DWN Santa Clara OPEN\n",
      "Vacaville 38.3565773 -121.9877444 443.7500 WA6KBP Solano CLOSED\n",
      "Yreka 41.732616 -122.637766 443.7500 K6SIS Siskiyou OPEN\n",
      "Fresno 36.7295295 -119.708861260756 443.7750 KF6FGL Fresno OPEN\n",
      "San Jose 37.3361905 -121.8905833 443.7750 WA6GFY Santa Clara OPEN\n",
      "Concord, Mt Diablo None None 443.8000 K6POU Contra Costa OPEN\n",
      "Fresno 36.7295295 -119.708861260756 443.8000 KE6JZ Fresno OPEN\n",
      "San Luis Obispo 35.2827525 -120.6596156 443.8000 N6HYM San Luis Obispo CLOSED\n",
      "Clovis 36.8252277 -119.7029194 443.8250 N6IB Fresno OPEN\n",
      "Oakland 37.8044557 -122.2713563 443.8250 KB6FEC Amador OPEN\n",
      "Orinda 37.8771476 -122.1796888 443.8250 K6JJC Contra Costa OPEN\n",
      "Santa Rosa 38.4404675 -122.7144314 443.8250 WB7ABP Sonoma OPEN\n",
      "Walnut Creek 37.9020731 -122.0618702 443.8250 KK6BSN Contra Costa OPEN\n",
      "Westley, Mt Oso None None 443.8250 K6JJC Stanislaus OPEN\n",
      "Georgetown 38.9072855 -120.830230570459 443.8500 WA6APX El Dorado CLOSED\n",
      "Los Altos Hills 37.3796627 -122.1374637 443.8500 W6BUG Santa Clara CLOSED\n",
      "Fiddletown 38.5037966 -120.7554891 443.8750 K6SZQ Amador OPEN\n",
      "Fresno 36.7295295 -119.708861260756 443.8750 KF6FGL Fresno OPEN\n",
      "Oakland 37.8044557 -122.2713563 443.8750 W6MTF Alameda CLOSED\n",
      "Stonyford 39.3748343 -122.5453889 443.8750 K6BIQ Colusa OPEN\n",
      "Bakersfield 35.3738712 -119.0194639 443.9000 W6LIE Kern OPEN\n",
      "Prunedale 36.7851358 -121.6666416 443.9000 W6TAR Monterey OPEN\n",
      "Sacramento 38.5815719 -121.4943996 443.9000 W6YDD Sacramento OPEN\n",
      "San Jose, San Jose State Univ. None None 443.9000 W6YL Santa Clara OPEN\n",
      "Susanville 40.4162842 -120.6530063 443.9000 K6LRC Lassen OPEN\n",
      "Placerville, El Dorado Hills None None 443.9250 N6QDY El Dorado OPEN\n",
      "South San Francisco 37.6549493 -122.4081251 443.9250 KG6TN San Francisco OPEN\n",
      "Vacaville, Mt Vaca None None 443.9500 K6MVR Napa OPEN\n",
      "Arroyo Grande, Lopez Hill None None 443.9750 W6YDZ San Luis Obispo OPEN\n",
      "Fresno 36.7295295 -119.708861260756 443.9750 K6SRA Fresno CLOSED\n",
      "King City 36.2127439 -121.1260287 443.9750 K6TAZ Monterey CLOSED\n",
      "Oakland 37.8044557 -122.2713563 443.9750 WW6BAY Alameda OPEN\n",
      "Tahoe City 39.1689372 -120.1434787 443.9750 K6SRA Placer CLOSED\n",
      "Cazadero 38.5334117 -123.0854625 444.0000 K6CHG Sonoma OPEN\n",
      "Los Banos 37.0592253 -120.8505342 444.0000 K6TJS Merced OPEN\n",
      "Modesto, Mt Oso None None 444.0000 K6TJS Stanislaus OPEN\n",
      "Orinda 37.8771476 -122.1796888 444.0000 KE6PTT Contra Costa OPEN\n",
      "Santa Cruz 36.9749416 -122.0285259 444.0000  Santa Cruz OPEN\n",
      "Scotts Valley 37.0510595 -122.0146841 444.0000 W6WLS Santa Cruz OPEN\n",
      "Georgetown 38.9072855 -120.830230570459 444.0250 K6JJC El Dorado OPEN\n",
      "San Jose 37.3361905 -121.8905833 444.0250 K6JJC Santa Clara OPEN\n",
      "San Jose, Loma Prieta None None 444.0250 K6HLE Santa Clara OPEN\n",
      "Upper Lake 39.1480125 -122.903168683979 444.0250 KJ6IFS Lake OPEN\n",
      "San Jose 37.3361905 -121.8905833 444.0375 K6HLE Santa Clara OPEN\n",
      "Sonoma, Sonoma Mountain 38.285056 -122.4212575 444.0375 NN6J Sonoma OPEN\n",
      "Timber Cove 38.5296352 -123.2711192 444.0375 K6CHG Sonoma OPEN\n",
      "Timber Cove 38.5296352 -123.2711192 444.0375 K6CHG Sonoma OPEN\n",
      "Grass Valley 39.2086655 -121.053123077412 444.0500 K6NP Nevada OPEN\n",
      "San Jose 37.3361905 -121.8905833 444.0500 KD6CUC Santa Clara CLOSED\n",
      "Diamond Springs 38.6798266 -120.821194227982 444.0750 WA6EUZ El Dorado CLOSED\n",
      "King City 36.2127439 -121.1260287 444.0750 WB6ORK Monterey OPEN\n",
      "Palo Alto, Black Mountain None None 444.0750 WW6BAY Santa Clara OPEN\n",
      "Fresno, Meadow Lakes 37.0802264 -119.4306865 444.1000 W6NIF Fresno OPEN\n",
      "Morgan Hill 37.130408 -121.6544974 444.1000 KC6WTF Santa Clara OPEN\n",
      "San Jose 37.3361905 -121.8905833 444.1000 N6TLQ Santa Clara CLOSED\n",
      "San Luis Obispo, Tassajara Peak None None 444.1000 W6SLO San Luis Obispo OPEN\n",
      "San Simeon, Rocky Butte None None 444.1000 W6SLO San Luis Obispo OPEN\n",
      "Cohasset 39.9254385 -121.7310898 444.1250 KH8AF Butte CLOSED\n",
      "Fairfield 38.2493581 -122.0399663 444.1250 KE3RQ Solano CLOSED\n",
      "Livermore 37.6820583 -121.7680531 444.1250 K7FED Alameda OPEN\n",
      "Los Gatos 37.226611 -121.9746797 444.1250 WB6LPZ Santa Clara CLOSED\n",
      "Vacaville 38.3565773 -121.9877444 444.1250 W6SEL Solano CLOSED\n",
      "Calistoga 38.5787966 -122.5797054 444.1500 N6PMF Napa CLOSED\n",
      "Newark 37.5296593 -122.0402399 444.1500 N3EL Alameda OPEN\n",
      "Red Bluff 40.1784279 -122.2359236 444.1500 KH8AF Tehama CLOSED\n",
      "Calistoga 38.5787966 -122.5797054 444.1750 N6TKW Napa OPEN\n",
      "San Jose 37.3361905 -121.8905833 444.1750 WA6RQX Santa Clara OPEN\n",
      "San Miguel 35.7524679 -120.6962826 444.1750 KB6CIO San Luis Obispo OPEN\n",
      "Westley 37.549376 -121.1991036 444.1750 WA6RQX Stanislaus OPEN\n",
      "Elk Creek 36.513417 -118.8031128 444.2000 K6BIQ Glenn OPEN\n",
      "Fresno 36.7295295 -119.708861260756 444.2000 W6TO Fresno OPEN\n",
      "San Leandro 37.7249296 -122.1560768 444.2000 W6RGG Alameda OPEN\n",
      "Lodi 38.1301968 -121.2724473 444.2250 N6GKJ San Joaquin OPEN\n",
      "Los Altos Hills 37.3796627 -122.1374637 444.2250 KE6JTK Santa Clara OPEN\n",
      "Petaluma 38.270022 -122.606122413043 444.2250 NI6B Sonoma CLOSED\n",
      "San Francisco , VA Hospital None None 444.2250 W6PW San Francisco OPEN\n",
      "Alturas 41.487123 -120.5423271 444.2500 N6KMR Modoc OPEN\n",
      "Lodi 38.1301968 -121.2724473 444.2500 WB6ASU San Joaquin OPEN\n",
      "Meadow Lakes 37.0802264 -119.4306865 444.2500 K6JSI Fresno OPEN\n",
      "Oakland, Oakland Hills 39.4140555 -76.9014490934341 444.2500 WB6TCS Alameda OPEN\n",
      "Auberry 37.088535 -119.498026436093 444.2750 KG6IBA Fresno OPEN\n",
      "King City, Williams Hill None None 444.2750 WA6VPL Monterey CLOSED\n",
      "Lompoc, Vandenberg AFB None None 444.2750 WA6VPL Santa Barbara OPEN\n",
      "Monterey 36.600256 -121.8946388 444.2750 N6SPD Monterey OPEN\n",
      "Oroville 39.5137752 -121.556359 444.2750 KJ6LVV Butte OPEN\n",
      "Pleasanton 37.6624312 -121.8746789 444.2750 N6LDJ Alameda OPEN\n",
      "San Pablo 37.9621457 -122.3455263 444.2750 WA6KQB Contra Costa OPEN\n",
      "Truckee 39.327962 -120.1832533 444.2750 WA6JQV Nevada CLOSED\n",
      "Dobbins 39.3715577 -121.2060694 444.3000 N6ICW Yuba CLOSED\n",
      "San Jose 37.3361905 -121.8905833 444.3000 WB6RNH Santa Clara OPEN\n",
      "San Jose 37.3361905 -121.8905833 444.3000 WB6RNH Santa Clara OPEN\n",
      "Redding, Shasta Bally None None 444.3250 AB7BS Shasta OPEN\n",
      "San Jose 37.3361905 -121.8905833 444.3250 KD6AOG Santa Clara OPEN\n",
      "Stockton 37.9577016 -121.2907796 444.3250 WA6TCG San Joaquin OPEN\n",
      "Mt Shasta City 41.4091897 -122.1949533 444.3500 K6PRN Siskiyou CLOSED\n",
      "Palo Alto, Black Mountain None None 444.3500 WW6BAY Santa Clara OPEN\n",
      "San Luis Obispo 35.2827525 -120.6596156 444.3500 K6DOA San Luis Obispo OPEN\n",
      "Turlock 37.4946568 -120.8465941 444.3500 W6BXN Stanislaus OPEN\n",
      "Coarsegold, Trabuco Mountain None None 444.3750 K6MXZ Madera OPEN\n",
      "Santa Rosa 38.4404675 -122.7144314 444.3750 WB6RUT Sonoma CLOSED\n",
      "Soledad 36.4198255 -121.351530306648 444.3750 WA6RQX Monterey OPEN\n",
      "Chico 39.7284945 -121.8374777 444.4000 KE6ADC Butte OPEN\n",
      "Coarsegold 37.2621687 -119.7009834 444.4000 KE6YMW Madera OPEN\n",
      "Copperopolis, Gopher Ridge None None 444.4000 N6GKJ Calaveras OPEN\n",
      "San Jose, Mt Umunhum None None 444.4000 WA6YCZ Santa Clara CLOSED\n",
      "Bakersfield, Cummings Mountain None None 444.4250 KG6KKV Kern OPEN\n",
      "Palo Alto, Black Mtn None None 444.4250 WW6BAY Santa Clara OPEN\n",
      "Sacramento 38.5815719 -121.4943996 444.4250 K6PRN Sacramento CLOSED\n",
      "Yreka 41.732616 -122.637766 444.4250 K6PRN Siskiyou CLOSED\n",
      "Martinez 38.0138934 -122.1338674 444.4500 N6YJ Contra Costa OPEN\n"
     ]
    },
    {
     "name": "stdout",
     "output_type": "stream",
     "text": [
      "San Jose 37.3361905 -121.8905833 444.4500 WB6JSO Santa Clara OPEN\n",
      "Visalia 36.3302284 -119.2920585 444.4500 WA6MSN Tulare OPEN\n",
      "Auburn, Stony Ridge 44.090587 -70.254489 444.4750 K6IOK Placer OPEN\n",
      "Calistoga 38.5787966 -122.5797054 444.4750 K6IRC Napa CLOSED\n"
     ]
    },
    {
     "name": "stderr",
     "output_type": "stream",
     "text": [
      "Status code 429 from https://nominatim.openstreetmap.org/search: ERROR - 429 Client Error: Too Many Requests for url: https://nominatim.openstreetmap.org/search?q=Monterey%2C+CA&format=jsonv2&addressdetails=1&limit=1\n"
     ]
    },
    {
     "name": "stdout",
     "output_type": "stream",
     "text": [
      "Monterey 36.600256 None 444.4750 N6AMO Monterey CLOSED\n"
     ]
    },
    {
     "name": "stderr",
     "output_type": "stream",
     "text": [
      "Status code 429 from https://nominatim.openstreetmap.org/search: ERROR - 429 Client Error: Too Many Requests for url: https://nominatim.openstreetmap.org/search?q=Mt+Shasta+City%2C+Mt+Bradley%2C+CA&format=jsonv2&addressdetails=1&limit=1\n",
      "Status code 429 from https://nominatim.openstreetmap.org/search: ERROR - 429 Client Error: Too Many Requests for url: https://nominatim.openstreetmap.org/search?q=Mt+Shasta+City%2C+Mt+Bradley%2C+CA&format=jsonv2&addressdetails=1&limit=1\n"
     ]
    },
    {
     "name": "stdout",
     "output_type": "stream",
     "text": [
      "Mt Shasta City, Mt Bradley None None 444.4750 AB7BS Siskiyou OPEN\n"
     ]
    },
    {
     "name": "stderr",
     "output_type": "stream",
     "text": [
      "Status code 429 from https://nominatim.openstreetmap.org/search: ERROR - 429 Client Error: Too Many Requests for url: https://nominatim.openstreetmap.org/search?q=San+Jose%2C+CA&format=jsonv2&addressdetails=1&limit=1\n",
      "Status code 429 from https://nominatim.openstreetmap.org/search: ERROR - 429 Client Error: Too Many Requests for url: https://nominatim.openstreetmap.org/search?q=San+Jose%2C+CA&format=jsonv2&addressdetails=1&limit=1\n"
     ]
    },
    {
     "name": "stdout",
     "output_type": "stream",
     "text": [
      "San Jose None None 444.4750 W6OTX Santa Clara OPEN\n"
     ]
    },
    {
     "name": "stderr",
     "output_type": "stream",
     "text": [
      "Status code 429 from https://nominatim.openstreetmap.org/search: ERROR - 429 Client Error: Too Many Requests for url: https://nominatim.openstreetmap.org/search?q=San+Luis+Obispo%2C+CA&format=jsonv2&addressdetails=1&limit=1\n",
      "Status code 429 from https://nominatim.openstreetmap.org/search: ERROR - 429 Client Error: Too Many Requests for url: https://nominatim.openstreetmap.org/search?q=San+Luis+Obispo%2C+CA&format=jsonv2&addressdetails=1&limit=1\n"
     ]
    },
    {
     "name": "stdout",
     "output_type": "stream",
     "text": [
      "San Luis Obispo None None 444.4750 W6FM San Luis Obispo PRIVATE\n"
     ]
    },
    {
     "name": "stderr",
     "output_type": "stream",
     "text": [
      "Status code 429 from https://nominatim.openstreetmap.org/search: ERROR - 429 Client Error: Too Many Requests for url: https://nominatim.openstreetmap.org/search?q=Auburn+%2C+CA&format=jsonv2&addressdetails=1&limit=1\n",
      "Status code 429 from https://nominatim.openstreetmap.org/search: ERROR - 429 Client Error: Too Many Requests for url: https://nominatim.openstreetmap.org/search?q=Auburn+%2C+CA&format=jsonv2&addressdetails=1&limit=1\n"
     ]
    },
    {
     "name": "stdout",
     "output_type": "stream",
     "text": [
      "Auburn  None None 444.5000 K6IOK Placer OPEN\n"
     ]
    },
    {
     "name": "stderr",
     "output_type": "stream",
     "text": [
      "Status code 429 from https://nominatim.openstreetmap.org/search: ERROR - 429 Client Error: Too Many Requests for url: https://nominatim.openstreetmap.org/search?q=Chester%2C+CA&format=jsonv2&addressdetails=1&limit=1\n",
      "Status code 429 from https://nominatim.openstreetmap.org/search: ERROR - 429 Client Error: Too Many Requests for url: https://nominatim.openstreetmap.org/search?q=Chester%2C+CA&format=jsonv2&addressdetails=1&limit=1\n"
     ]
    },
    {
     "name": "stdout",
     "output_type": "stream",
     "text": [
      "Chester None None 444.5000 KF6CCP Plumas OPEN\n"
     ]
    },
    {
     "name": "stderr",
     "output_type": "stream",
     "text": [
      "Status code 429 from https://nominatim.openstreetmap.org/search: ERROR - 429 Client Error: Too Many Requests for url: https://nominatim.openstreetmap.org/search?q=Coarsegold%2C+CA&format=jsonv2&addressdetails=1&limit=1\n",
      "Status code 429 from https://nominatim.openstreetmap.org/search: ERROR - 429 Client Error: Too Many Requests for url: https://nominatim.openstreetmap.org/search?q=Coarsegold%2C+CA&format=jsonv2&addressdetails=1&limit=1\n"
     ]
    },
    {
     "name": "stdout",
     "output_type": "stream",
     "text": [
      "Coarsegold None None 444.5000 WB6NIL Madera OPEN\n"
     ]
    },
    {
     "name": "stderr",
     "output_type": "stream",
     "text": [
      "Status code 429 from https://nominatim.openstreetmap.org/search: ERROR - 429 Client Error: Too Many Requests for url: https://nominatim.openstreetmap.org/search?q=Redwood+City%2C+CA&format=jsonv2&addressdetails=1&limit=1\n",
      "Status code 429 from https://nominatim.openstreetmap.org/search: ERROR - 429 Client Error: Too Many Requests for url: https://nominatim.openstreetmap.org/search?q=Redwood+City%2C+CA&format=jsonv2&addressdetails=1&limit=1\n"
     ]
    },
    {
     "name": "stdout",
     "output_type": "stream",
     "text": [
      "Redwood City None None 444.5000 K6MPN San Mateo OPEN\n"
     ]
    },
    {
     "name": "stderr",
     "output_type": "stream",
     "text": [
      "Status code 429 from https://nominatim.openstreetmap.org/search: ERROR - 429 Client Error: Too Many Requests for url: https://nominatim.openstreetmap.org/search?q=Stockton%2C+Coronado+Tower%2C+CA&format=jsonv2&addressdetails=1&limit=1\n",
      "Status code 429 from https://nominatim.openstreetmap.org/search: ERROR - 429 Client Error: Too Many Requests for url: https://nominatim.openstreetmap.org/search?q=Stockton%2C+Coronado+Tower%2C+CA&format=jsonv2&addressdetails=1&limit=1\n"
     ]
    },
    {
     "name": "stdout",
     "output_type": "stream",
     "text": [
      "Stockton, Coronado Tower None None 444.5000 K6TRK San Joaquin OPEN\n"
     ]
    },
    {
     "name": "stderr",
     "output_type": "stream",
     "text": [
      "Status code 429 from https://nominatim.openstreetmap.org/search: ERROR - 429 Client Error: Too Many Requests for url: https://nominatim.openstreetmap.org/search?q=Merced%2C+CA&format=jsonv2&addressdetails=1&limit=1\n",
      "Status code 429 from https://nominatim.openstreetmap.org/search: ERROR - 429 Client Error: Too Many Requests for url: https://nominatim.openstreetmap.org/search?q=Merced%2C+CA&format=jsonv2&addressdetails=1&limit=1\n"
     ]
    },
    {
     "name": "stdout",
     "output_type": "stream",
     "text": [
      "Merced None None 444.5250 W6TCD Merced OPEN\n"
     ]
    },
    {
     "name": "stderr",
     "output_type": "stream",
     "text": [
      "Status code 429 from https://nominatim.openstreetmap.org/search: ERROR - 429 Client Error: Too Many Requests for url: https://nominatim.openstreetmap.org/search?q=Monterey%2C+CA&format=jsonv2&addressdetails=1&limit=1\n",
      "Status code 429 from https://nominatim.openstreetmap.org/search: ERROR - 429 Client Error: Too Many Requests for url: https://nominatim.openstreetmap.org/search?q=Monterey%2C+CA&format=jsonv2&addressdetails=1&limit=1\n"
     ]
    },
    {
     "name": "stdout",
     "output_type": "stream",
     "text": [
      "Monterey None None 444.5250 N6GAI Monterey OPEN\n"
     ]
    },
    {
     "name": "stderr",
     "output_type": "stream",
     "text": [
      "Status code 429 from https://nominatim.openstreetmap.org/search: ERROR - 429 Client Error: Too Many Requests for url: https://nominatim.openstreetmap.org/search?q=Napa%2C+CA&format=jsonv2&addressdetails=1&limit=1\n",
      "Status code 429 from https://nominatim.openstreetmap.org/search: ERROR - 429 Client Error: Too Many Requests for url: https://nominatim.openstreetmap.org/search?q=Napa%2C+CA&format=jsonv2&addressdetails=1&limit=1\n"
     ]
    },
    {
     "name": "stdout",
     "output_type": "stream",
     "text": [
      "Napa None None 444.5250 K6ZRX Napa OPEN\n"
     ]
    },
    {
     "name": "stderr",
     "output_type": "stream",
     "text": [
      "Status code 429 from https://nominatim.openstreetmap.org/search: ERROR - 429 Client Error: Too Many Requests for url: https://nominatim.openstreetmap.org/search?q=Salinas%2C+Laguna+Seca%2C+CA&format=jsonv2&addressdetails=1&limit=1\n",
      "Status code 429 from https://nominatim.openstreetmap.org/search: ERROR - 429 Client Error: Too Many Requests for url: https://nominatim.openstreetmap.org/search?q=Salinas%2C+Laguna+Seca%2C+CA&format=jsonv2&addressdetails=1&limit=1\n"
     ]
    },
    {
     "name": "stdout",
     "output_type": "stream",
     "text": [
      "Salinas, Laguna Seca None None 444.5250 W6JSO Monterey OPEN\n"
     ]
    },
    {
     "name": "stderr",
     "output_type": "stream",
     "text": [
      "Status code 429 from https://nominatim.openstreetmap.org/search: ERROR - 429 Client Error: Too Many Requests for url: https://nominatim.openstreetmap.org/search?q=San+Luis+Obispo%2C+Tassajara+Peak%2C+CA&format=jsonv2&addressdetails=1&limit=1\n",
      "Status code 429 from https://nominatim.openstreetmap.org/search: ERROR - 429 Client Error: Too Many Requests for url: https://nominatim.openstreetmap.org/search?q=San+Luis+Obispo%2C+Tassajara+Peak%2C+CA&format=jsonv2&addressdetails=1&limit=1\n"
     ]
    },
    {
     "name": "stdout",
     "output_type": "stream",
     "text": [
      "San Luis Obispo, Tassajara Peak None None 444.5250 W6FM San Luis Obispo OPEN\n"
     ]
    },
    {
     "name": "stderr",
     "output_type": "stream",
     "text": [
      "Status code 429 from https://nominatim.openstreetmap.org/search: ERROR - 429 Client Error: Too Many Requests for url: https://nominatim.openstreetmap.org/search?q=Vacaville%2C+CA&format=jsonv2&addressdetails=1&limit=1\n",
      "Status code 429 from https://nominatim.openstreetmap.org/search: ERROR - 429 Client Error: Too Many Requests for url: https://nominatim.openstreetmap.org/search?q=Vacaville%2C+CA&format=jsonv2&addressdetails=1&limit=1\n"
     ]
    },
    {
     "name": "stdout",
     "output_type": "stream",
     "text": [
      "Vacaville None None 444.5250 AA6GV Solano CLOSED\n"
     ]
    },
    {
     "name": "stderr",
     "output_type": "stream",
     "text": [
      "Status code 429 from https://nominatim.openstreetmap.org/search: ERROR - 429 Client Error: Too Many Requests for url: https://nominatim.openstreetmap.org/search?q=King+City%2C+CA&format=jsonv2&addressdetails=1&limit=1\n",
      "Status code 429 from https://nominatim.openstreetmap.org/search: ERROR - 429 Client Error: Too Many Requests for url: https://nominatim.openstreetmap.org/search?q=King+City%2C+CA&format=jsonv2&addressdetails=1&limit=1\n"
     ]
    },
    {
     "name": "stdout",
     "output_type": "stream",
     "text": [
      "King City None None 444.5500 W6FM Monterey CLOSED\n"
     ]
    },
    {
     "name": "stderr",
     "output_type": "stream",
     "text": [
      "Status code 429 from https://nominatim.openstreetmap.org/search: ERROR - 429 Client Error: Too Many Requests for url: https://nominatim.openstreetmap.org/search?q=Redding%2C+South+Fork+Mountain%2C+CA&format=jsonv2&addressdetails=1&limit=1\n",
      "Status code 429 from https://nominatim.openstreetmap.org/search: ERROR - 429 Client Error: Too Many Requests for url: https://nominatim.openstreetmap.org/search?q=Redding%2C+South+Fork+Mountain%2C+CA&format=jsonv2&addressdetails=1&limit=1\n"
     ]
    },
    {
     "name": "stdout",
     "output_type": "stream",
     "text": [
      "Redding, South Fork Mountain None None 444.5500 NC6SV Shasta OPEN\n"
     ]
    },
    {
     "name": "stderr",
     "output_type": "stream",
     "text": [
      "Status code 429 from https://nominatim.openstreetmap.org/search: ERROR - 429 Client Error: Too Many Requests for url: https://nominatim.openstreetmap.org/search?q=Sausalito%2C+CA&format=jsonv2&addressdetails=1&limit=1\n",
      "Status code 429 from https://nominatim.openstreetmap.org/search: ERROR - 429 Client Error: Too Many Requests for url: https://nominatim.openstreetmap.org/search?q=Sausalito%2C+CA&format=jsonv2&addressdetails=1&limit=1\n"
     ]
    },
    {
     "name": "stdout",
     "output_type": "stream",
     "text": [
      "Sausalito None None 444.5500 WA6EUZ Marin CLOSED\n"
     ]
    },
    {
     "name": "stderr",
     "output_type": "stream",
     "text": [
      "Status code 429 from https://nominatim.openstreetmap.org/search: ERROR - 429 Client Error: Too Many Requests for url: https://nominatim.openstreetmap.org/search?q=Sunnyvale%2C+CA&format=jsonv2&addressdetails=1&limit=1\n",
      "Status code 429 from https://nominatim.openstreetmap.org/search: ERROR - 429 Client Error: Too Many Requests for url: https://nominatim.openstreetmap.org/search?q=Sunnyvale%2C+CA&format=jsonv2&addressdetails=1&limit=1\n"
     ]
    },
    {
     "name": "stdout",
     "output_type": "stream",
     "text": [
      "Sunnyvale None None 444.5500 AF6EQ Santa Clara OPEN\n"
     ]
    },
    {
     "name": "stderr",
     "output_type": "stream",
     "text": [
      "Status code 429 from https://nominatim.openstreetmap.org/search: ERROR - 429 Client Error: Too Many Requests for url: https://nominatim.openstreetmap.org/search?q=Alameda%2C+Alameda+Hospital%2C+CA&format=jsonv2&addressdetails=1&limit=1\n",
      "Status code 429 from https://nominatim.openstreetmap.org/search: ERROR - 429 Client Error: Too Many Requests for url: https://nominatim.openstreetmap.org/search?q=Alameda%2C+Alameda+Hospital%2C+CA&format=jsonv2&addressdetails=1&limit=1\n"
     ]
    },
    {
     "name": "stdout",
     "output_type": "stream",
     "text": [
      "Alameda, Alameda Hospital None None 444.5750 K6QLF Alameda OPEN\n"
     ]
    },
    {
     "name": "stderr",
     "output_type": "stream",
     "text": [
      "Status code 429 from https://nominatim.openstreetmap.org/search: ERROR - 429 Client Error: Too Many Requests for url: https://nominatim.openstreetmap.org/search?q=Mojave%2C+CA&format=jsonv2&addressdetails=1&limit=1\n",
      "Status code 429 from https://nominatim.openstreetmap.org/search: ERROR - 429 Client Error: Too Many Requests for url: https://nominatim.openstreetmap.org/search?q=Mojave%2C+CA&format=jsonv2&addressdetails=1&limit=1\n"
     ]
    },
    {
     "name": "stdout",
     "output_type": "stream",
     "text": [
      "Mojave None None 444.5750 WA6CAM Kern OPEN\n"
     ]
    },
    {
     "name": "stderr",
     "output_type": "stream",
     "text": [
      "Status code 429 from https://nominatim.openstreetmap.org/search: ERROR - 429 Client Error: Too Many Requests for url: https://nominatim.openstreetmap.org/search?q=Rosamond%2C+Taco+Bell%2C+CA&format=jsonv2&addressdetails=1&limit=1\n",
      "Status code 429 from https://nominatim.openstreetmap.org/search: ERROR - 429 Client Error: Too Many Requests for url: https://nominatim.openstreetmap.org/search?q=Rosamond%2C+Taco+Bell%2C+CA&format=jsonv2&addressdetails=1&limit=1\n"
     ]
    },
    {
     "name": "stdout",
     "output_type": "stream",
     "text": [
      "Rosamond, Taco Bell None None 444.5750 WA6CAM Kern OPEN\n"
     ]
    },
    {
     "name": "stderr",
     "output_type": "stream",
     "text": [
      "Status code 429 from https://nominatim.openstreetmap.org/search: ERROR - 429 Client Error: Too Many Requests for url: https://nominatim.openstreetmap.org/search?q=Susanville%2C+CA&format=jsonv2&addressdetails=1&limit=1\n",
      "Status code 429 from https://nominatim.openstreetmap.org/search: ERROR - 429 Client Error: Too Many Requests for url: https://nominatim.openstreetmap.org/search?q=Susanville%2C+CA&format=jsonv2&addressdetails=1&limit=1\n"
     ]
    },
    {
     "name": "stdout",
     "output_type": "stream",
     "text": [
      "Susanville None None 444.5750 KE6NDG Lassen OPEN\n"
     ]
    },
    {
     "name": "stderr",
     "output_type": "stream",
     "text": [
      "Status code 429 from https://nominatim.openstreetmap.org/search: ERROR - 429 Client Error: Too Many Requests for url: https://nominatim.openstreetmap.org/search?q=Vacaville%2C+Mt+Vaca%2C+CA&format=jsonv2&addressdetails=1&limit=1\n",
      "Status code 429 from https://nominatim.openstreetmap.org/search: ERROR - 429 Client Error: Too Many Requests for url: https://nominatim.openstreetmap.org/search?q=Vacaville%2C+Mt+Vaca%2C+CA&format=jsonv2&addressdetails=1&limit=1\n"
     ]
    },
    {
     "name": "stdout",
     "output_type": "stream",
     "text": [
      "Vacaville, Mt Vaca None None 444.5750 WA6EUZ Solano CLOSED\n"
     ]
    },
    {
     "name": "stderr",
     "output_type": "stream",
     "text": [
      "Status code 429 from https://nominatim.openstreetmap.org/search: ERROR - 429 Client Error: Too Many Requests for url: https://nominatim.openstreetmap.org/search?q=Auburn%2C+CA&format=jsonv2&addressdetails=1&limit=1\n",
      "Status code 429 from https://nominatim.openstreetmap.org/search: ERROR - 429 Client Error: Too Many Requests for url: https://nominatim.openstreetmap.org/search?q=Auburn%2C+CA&format=jsonv2&addressdetails=1&limit=1\n"
     ]
    },
    {
     "name": "stdout",
     "output_type": "stream",
     "text": [
      "Auburn None None 444.6000 N6NMZ Placer OPEN\n"
     ]
    },
    {
     "name": "stderr",
     "output_type": "stream",
     "text": [
      "Status code 429 from https://nominatim.openstreetmap.org/search: ERROR - 429 Client Error: Too Many Requests for url: https://nominatim.openstreetmap.org/search?q=Bishop%2C+Silver+Peak%2C+CA&format=jsonv2&addressdetails=1&limit=1\n",
      "Status code 429 from https://nominatim.openstreetmap.org/search: ERROR - 429 Client Error: Too Many Requests for url: https://nominatim.openstreetmap.org/search?q=Bishop%2C+Silver+Peak%2C+CA&format=jsonv2&addressdetails=1&limit=1\n"
     ]
    },
    {
     "name": "stdout",
     "output_type": "stream",
     "text": [
      "Bishop, Silver Peak None None 444.6000 W6IY Inyo OPEN\n"
     ]
    },
    {
     "name": "stderr",
     "output_type": "stream",
     "text": [
      "Status code 429 from https://nominatim.openstreetmap.org/search: ERROR - 429 Client Error: Too Many Requests for url: https://nominatim.openstreetmap.org/search?q=Kingsburg%2C+CA&format=jsonv2&addressdetails=1&limit=1\n",
      "Status code 429 from https://nominatim.openstreetmap.org/search: ERROR - 429 Client Error: Too Many Requests for url: https://nominatim.openstreetmap.org/search?q=Kingsburg%2C+CA&format=jsonv2&addressdetails=1&limit=1\n"
     ]
    },
    {
     "name": "stdout",
     "output_type": "stream",
     "text": [
      "Kingsburg None None 444.6000 KB6RHD Fresno OPEN\n"
     ]
    },
    {
     "name": "stderr",
     "output_type": "stream",
     "text": [
      "Status code 429 from https://nominatim.openstreetmap.org/search: ERROR - 429 Client Error: Too Many Requests for url: https://nominatim.openstreetmap.org/search?q=Pacific+Grove%2C+Forest+Hill%2C+CA&format=jsonv2&addressdetails=1&limit=1\n",
      "Status code 429 from https://nominatim.openstreetmap.org/search: ERROR - 429 Client Error: Too Many Requests for url: https://nominatim.openstreetmap.org/search?q=Pacific+Grove%2C+Forest+Hill%2C+CA&format=jsonv2&addressdetails=1&limit=1\n"
     ]
    },
    {
     "name": "stdout",
     "output_type": "stream",
     "text": [
      "Pacific Grove, Forest Hill None None 444.6000 K6CQX Monterey OPEN\n"
     ]
    },
    {
     "name": "stderr",
     "output_type": "stream",
     "text": [
      "Status code 429 from https://nominatim.openstreetmap.org/search: ERROR - 429 Client Error: Too Many Requests for url: https://nominatim.openstreetmap.org/search?q=Pismo+Beach%2C+CA&format=jsonv2&addressdetails=1&limit=1\n",
      "Status code 429 from https://nominatim.openstreetmap.org/search: ERROR - 429 Client Error: Too Many Requests for url: https://nominatim.openstreetmap.org/search?q=Pismo+Beach%2C+CA&format=jsonv2&addressdetails=1&limit=1\n"
     ]
    },
    {
     "name": "stdout",
     "output_type": "stream",
     "text": [
      "Pismo Beach None None 444.6000 KB6BF San Luis Obispo OPEN\n"
     ]
    },
    {
     "name": "stderr",
     "output_type": "stream",
     "text": [
      "Status code 429 from https://nominatim.openstreetmap.org/search: ERROR - 429 Client Error: Too Many Requests for url: https://nominatim.openstreetmap.org/search?q=San+Jose%2C+CA&format=jsonv2&addressdetails=1&limit=1\n",
      "Status code 429 from https://nominatim.openstreetmap.org/search: ERROR - 429 Client Error: Too Many Requests for url: https://nominatim.openstreetmap.org/search?q=San+Jose%2C+CA&format=jsonv2&addressdetails=1&limit=1\n"
     ]
    },
    {
     "name": "stdout",
     "output_type": "stream",
     "text": [
      "San Jose None None 444.6000 WB6OQS Santa Clara OPEN\n"
     ]
    },
    {
     "name": "stderr",
     "output_type": "stream",
     "text": [
      "Status code 429 from https://nominatim.openstreetmap.org/search: ERROR - 429 Client Error: Too Many Requests for url: https://nominatim.openstreetmap.org/search?q=Redding%2C+CA&format=jsonv2&addressdetails=1&limit=1\n",
      "Status code 429 from https://nominatim.openstreetmap.org/search: ERROR - 429 Client Error: Too Many Requests for url: https://nominatim.openstreetmap.org/search?q=Redding%2C+CA&format=jsonv2&addressdetails=1&limit=1\n"
     ]
    },
    {
     "name": "stdout",
     "output_type": "stream",
     "text": [
      "Redding None None 444.6250 KD6NOL Shasta OPEN\n"
     ]
    },
    {
     "name": "stderr",
     "output_type": "stream",
     "text": [
      "Status code 429 from https://nominatim.openstreetmap.org/search: ERROR - 429 Client Error: Too Many Requests for url: https://nominatim.openstreetmap.org/search?q=Sacramento%2C+CA&format=jsonv2&addressdetails=1&limit=1\n",
      "Status code 429 from https://nominatim.openstreetmap.org/search: ERROR - 429 Client Error: Too Many Requests for url: https://nominatim.openstreetmap.org/search?q=Sacramento%2C+CA&format=jsonv2&addressdetails=1&limit=1\n"
     ]
    },
    {
     "name": "stdout",
     "output_type": "stream",
     "text": [
      "Sacramento None None 444.6250 K6RAK Sacramento OPEN\n"
     ]
    },
    {
     "name": "stderr",
     "output_type": "stream",
     "text": [
      "Status code 429 from https://nominatim.openstreetmap.org/search: ERROR - 429 Client Error: Too Many Requests for url: https://nominatim.openstreetmap.org/search?q=San+Jose%2C+CA&format=jsonv2&addressdetails=1&limit=1\n",
      "Status code 429 from https://nominatim.openstreetmap.org/search: ERROR - 429 Client Error: Too Many Requests for url: https://nominatim.openstreetmap.org/search?q=San+Jose%2C+CA&format=jsonv2&addressdetails=1&limit=1\n"
     ]
    },
    {
     "name": "stdout",
     "output_type": "stream",
     "text": [
      "San Jose None None 444.6250 N6NAC Santa Clara OPEN\n"
     ]
    },
    {
     "name": "stderr",
     "output_type": "stream",
     "text": [
      "Status code 429 from https://nominatim.openstreetmap.org/search: ERROR - 429 Client Error: Too Many Requests for url: https://nominatim.openstreetmap.org/search?q=Burney%2C+Hatchet+Mountain%2C+CA&format=jsonv2&addressdetails=1&limit=1\n",
      "Status code 429 from https://nominatim.openstreetmap.org/search: ERROR - 429 Client Error: Too Many Requests for url: https://nominatim.openstreetmap.org/search?q=Burney%2C+Hatchet+Mountain%2C+CA&format=jsonv2&addressdetails=1&limit=1\n"
     ]
    },
    {
     "name": "stdout",
     "output_type": "stream",
     "text": [
      "Burney, Hatchet Mountain None None 444.6500 KE6CHO Shasta OPEN\n"
     ]
    },
    {
     "name": "stderr",
     "output_type": "stream",
     "text": [
      "Status code 429 from https://nominatim.openstreetmap.org/search: ERROR - 429 Client Error: Too Many Requests for url: https://nominatim.openstreetmap.org/search?q=Oakland%2C+CA&format=jsonv2&addressdetails=1&limit=1\n",
      "Status code 429 from https://nominatim.openstreetmap.org/search: ERROR - 429 Client Error: Too Many Requests for url: https://nominatim.openstreetmap.org/search?q=Oakland%2C+CA&format=jsonv2&addressdetails=1&limit=1\n"
     ]
    },
    {
     "name": "stdout",
     "output_type": "stream",
     "text": [
      "Oakland None None 444.6500 W6PUE Alameda CLOSED\n"
     ]
    },
    {
     "name": "stderr",
     "output_type": "stream",
     "text": [
      "Status code 429 from https://nominatim.openstreetmap.org/search: ERROR - 429 Client Error: Too Many Requests for url: https://nominatim.openstreetmap.org/search?q=Redding%2C+CA&format=jsonv2&addressdetails=1&limit=1\n",
      "Status code 429 from https://nominatim.openstreetmap.org/search: ERROR - 429 Client Error: Too Many Requests for url: https://nominatim.openstreetmap.org/search?q=Redding%2C+CA&format=jsonv2&addressdetails=1&limit=1\n"
     ]
    },
    {
     "name": "stdout",
     "output_type": "stream",
     "text": [
      "Redding None None 444.6500 KD6LOM Shasta OPEN\n"
     ]
    },
    {
     "name": "stderr",
     "output_type": "stream",
     "text": [
      "Status code 429 from https://nominatim.openstreetmap.org/search: ERROR - 429 Client Error: Too Many Requests for url: https://nominatim.openstreetmap.org/search?q=Sonora%2C+CA&format=jsonv2&addressdetails=1&limit=1\n",
      "Status code 429 from https://nominatim.openstreetmap.org/search: ERROR - 429 Client Error: Too Many Requests for url: https://nominatim.openstreetmap.org/search?q=Sonora%2C+CA&format=jsonv2&addressdetails=1&limit=1\n"
     ]
    },
    {
     "name": "stdout",
     "output_type": "stream",
     "text": [
      "Sonora None None 444.6500 K6KVA Tuolumne OPEN\n"
     ]
    },
    {
     "name": "stderr",
     "output_type": "stream",
     "text": [
      "Status code 429 from https://nominatim.openstreetmap.org/search: ERROR - 429 Client Error: Too Many Requests for url: https://nominatim.openstreetmap.org/search?q=Hanford%2C+CA&format=jsonv2&addressdetails=1&limit=1\n",
      "Status code 429 from https://nominatim.openstreetmap.org/search: ERROR - 429 Client Error: Too Many Requests for url: https://nominatim.openstreetmap.org/search?q=Hanford%2C+CA&format=jsonv2&addressdetails=1&limit=1\n"
     ]
    },
    {
     "name": "stdout",
     "output_type": "stream",
     "text": [
      "Hanford None None 444.6600 W6FBW Kings OPEN\n"
     ]
    },
    {
     "name": "stderr",
     "output_type": "stream",
     "text": [
      "Status code 429 from https://nominatim.openstreetmap.org/search: ERROR - 429 Client Error: Too Many Requests for url: https://nominatim.openstreetmap.org/search?q=Bakersfield%2C+CA&format=jsonv2&addressdetails=1&limit=1\n",
      "Status code 429 from https://nominatim.openstreetmap.org/search: ERROR - 429 Client Error: Too Many Requests for url: https://nominatim.openstreetmap.org/search?q=Bakersfield%2C+CA&format=jsonv2&addressdetails=1&limit=1\n"
     ]
    },
    {
     "name": "stdout",
     "output_type": "stream",
     "text": [
      "Bakersfield None None 444.6750 KG6FOS Kern OPEN\n"
     ]
    },
    {
     "name": "stderr",
     "output_type": "stream",
     "text": [
      "Status code 429 from https://nominatim.openstreetmap.org/search: ERROR - 429 Client Error: Too Many Requests for url: https://nominatim.openstreetmap.org/search?q=Canby%2C+CA&format=jsonv2&addressdetails=1&limit=1\n",
      "Status code 429 from https://nominatim.openstreetmap.org/search: ERROR - 429 Client Error: Too Many Requests for url: https://nominatim.openstreetmap.org/search?q=Canby%2C+CA&format=jsonv2&addressdetails=1&limit=1\n"
     ]
    },
    {
     "name": "stdout",
     "output_type": "stream",
     "text": [
      "Canby None None 444.6750 K6PRN Modoc OPEN\n"
     ]
    },
    {
     "name": "stderr",
     "output_type": "stream",
     "text": [
      "Status code 429 from https://nominatim.openstreetmap.org/search: ERROR - 429 Client Error: Too Many Requests for url: https://nominatim.openstreetmap.org/search?q=Mill+Valley%2C+Mt+Tamalpais%2C+CA&format=jsonv2&addressdetails=1&limit=1\n",
      "Status code 429 from https://nominatim.openstreetmap.org/search: ERROR - 429 Client Error: Too Many Requests for url: https://nominatim.openstreetmap.org/search?q=Mill+Valley%2C+Mt+Tamalpais%2C+CA&format=jsonv2&addressdetails=1&limit=1\n"
     ]
    },
    {
     "name": "stdout",
     "output_type": "stream",
     "text": [
      "Mill Valley, Mt Tamalpais None None 444.6750 KJ6RA Marin CLOSED\n"
     ]
    },
    {
     "name": "stderr",
     "output_type": "stream",
     "text": [
      "Status code 429 from https://nominatim.openstreetmap.org/search: ERROR - 429 Client Error: Too Many Requests for url: https://nominatim.openstreetmap.org/search?q=El+Cerrito%2C+CA&format=jsonv2&addressdetails=1&limit=1\n",
      "Status code 429 from https://nominatim.openstreetmap.org/search: ERROR - 429 Client Error: Too Many Requests for url: https://nominatim.openstreetmap.org/search?q=El+Cerrito%2C+CA&format=jsonv2&addressdetails=1&limit=1\n"
     ]
    },
    {
     "name": "stdout",
     "output_type": "stream",
     "text": [
      "El Cerrito None None 444.7000 N6GVI Contra Costa CLOSED\n"
     ]
    },
    {
     "name": "stderr",
     "output_type": "stream",
     "text": [
      "Status code 429 from https://nominatim.openstreetmap.org/search: ERROR - 429 Client Error: Too Many Requests for url: https://nominatim.openstreetmap.org/search?q=Mariposa%2C+Mt+Bullion%2C+CA&format=jsonv2&addressdetails=1&limit=1\n"
     ]
    },
    {
     "name": "stdout",
     "output_type": "stream",
     "text": [
      "Mariposa, Mt Bullion 37.5071591 None 444.7000 W6BXN Mariposa OPEN\n"
     ]
    },
    {
     "name": "stderr",
     "output_type": "stream",
     "text": [
      "Status code 429 from https://nominatim.openstreetmap.org/search: ERROR - 429 Client Error: Too Many Requests for url: https://nominatim.openstreetmap.org/search?q=Nipomo%2C+CA&format=jsonv2&addressdetails=1&limit=1\n",
      "Status code 429 from https://nominatim.openstreetmap.org/search: ERROR - 429 Client Error: Too Many Requests for url: https://nominatim.openstreetmap.org/search?q=Nipomo%2C+CA&format=jsonv2&addressdetails=1&limit=1\n"
     ]
    },
    {
     "name": "stdout",
     "output_type": "stream",
     "text": [
      "Nipomo None None 444.7000 KB6Q San Luis Obispo OPEN\n"
     ]
    },
    {
     "name": "stderr",
     "output_type": "stream",
     "text": [
      "Status code 429 from https://nominatim.openstreetmap.org/search: ERROR - 429 Client Error: Too Many Requests for url: https://nominatim.openstreetmap.org/search?q=Pebble+Beach%2C+Huckleberry+Hill%2C+CA&format=jsonv2&addressdetails=1&limit=1\n",
      "Status code 429 from https://nominatim.openstreetmap.org/search: ERROR - 429 Client Error: Too Many Requests for url: https://nominatim.openstreetmap.org/search?q=Pebble+Beach%2C+Huckleberry+Hill%2C+CA&format=jsonv2&addressdetails=1&limit=1\n"
     ]
    },
    {
     "name": "stdout",
     "output_type": "stream",
     "text": [
      "Pebble Beach, Huckleberry Hill None None 444.7000 K6LY Monterey OPEN\n"
     ]
    },
    {
     "name": "stderr",
     "output_type": "stream",
     "text": [
      "Status code 429 from https://nominatim.openstreetmap.org/search: ERROR - 429 Client Error: Too Many Requests for url: https://nominatim.openstreetmap.org/search?q=San+Jose%2C+Good+Samaritan+Hospital%2C+CA&format=jsonv2&addressdetails=1&limit=1\n",
      "Status code 429 from https://nominatim.openstreetmap.org/search: ERROR - 429 Client Error: Too Many Requests for url: https://nominatim.openstreetmap.org/search?q=San+Jose%2C+Good+Samaritan+Hospital%2C+CA&format=jsonv2&addressdetails=1&limit=1\n"
     ]
    },
    {
     "name": "stdout",
     "output_type": "stream",
     "text": [
      "San Jose, Good Samaritan Hospital None None 444.7000 WB6KHP Santa Clara OPEN\n"
     ]
    },
    {
     "name": "stderr",
     "output_type": "stream",
     "text": [
      "Status code 429 from https://nominatim.openstreetmap.org/search: ERROR - 429 Client Error: Too Many Requests for url: https://nominatim.openstreetmap.org/search?q=Citrus+Heights%2C+CA&format=jsonv2&addressdetails=1&limit=1\n",
      "Status code 429 from https://nominatim.openstreetmap.org/search: ERROR - 429 Client Error: Too Many Requests for url: https://nominatim.openstreetmap.org/search?q=Citrus+Heights%2C+CA&format=jsonv2&addressdetails=1&limit=1\n"
     ]
    },
    {
     "name": "stdout",
     "output_type": "stream",
     "text": [
      "Citrus Heights None None 444.7250 KA6FTY Sacramento CLOSED\n"
     ]
    },
    {
     "name": "stderr",
     "output_type": "stream",
     "text": [
      "Status code 429 from https://nominatim.openstreetmap.org/search: ERROR - 429 Client Error: Too Many Requests for url: https://nominatim.openstreetmap.org/search?q=Clovis%2C+Mile+High%2C+CA&format=jsonv2&addressdetails=1&limit=1\n",
      "Status code 429 from https://nominatim.openstreetmap.org/search: ERROR - 429 Client Error: Too Many Requests for url: https://nominatim.openstreetmap.org/search?q=Clovis%2C+Mile+High%2C+CA&format=jsonv2&addressdetails=1&limit=1\n"
     ]
    },
    {
     "name": "stdout",
     "output_type": "stream",
     "text": [
      "Clovis, Mile High None None 444.7250 K6ARP Fresno OPEN\n"
     ]
    },
    {
     "name": "stderr",
     "output_type": "stream",
     "text": [
      "Status code 429 from https://nominatim.openstreetmap.org/search: ERROR - 429 Client Error: Too Many Requests for url: https://nominatim.openstreetmap.org/search?q=Mammoth+Lakes%2C+Mammoth+Lakes%2C+CA&format=jsonv2&addressdetails=1&limit=1\n",
      "Status code 429 from https://nominatim.openstreetmap.org/search: ERROR - 429 Client Error: Too Many Requests for url: https://nominatim.openstreetmap.org/search?q=Mammoth+Lakes%2C+Mammoth+Lakes%2C+CA&format=jsonv2&addressdetails=1&limit=1\n"
     ]
    },
    {
     "name": "stdout",
     "output_type": "stream",
     "text": [
      "Mammoth Lakes, Mammoth Lakes None None 444.7250 WA6TTL Mono PRIVATE\n"
     ]
    },
    {
     "name": "stderr",
     "output_type": "stream",
     "text": [
      "Status code 429 from https://nominatim.openstreetmap.org/search: ERROR - 429 Client Error: Too Many Requests for url: https://nominatim.openstreetmap.org/search?q=Milpitas%2C+Mission+Peak%2C+CA&format=jsonv2&addressdetails=1&limit=1\n",
      "Status code 429 from https://nominatim.openstreetmap.org/search: ERROR - 429 Client Error: Too Many Requests for url: https://nominatim.openstreetmap.org/search?q=Milpitas%2C+Mission+Peak%2C+CA&format=jsonv2&addressdetails=1&limit=1\n"
     ]
    },
    {
     "name": "stdout",
     "output_type": "stream",
     "text": [
      "Milpitas, Mission Peak None None 444.7250 K6GOD Santa Clara CLOSED\n"
     ]
    },
    {
     "name": "stderr",
     "output_type": "stream",
     "text": [
      "Status code 429 from https://nominatim.openstreetmap.org/search: ERROR - 429 Client Error: Too Many Requests for url: https://nominatim.openstreetmap.org/search?q=San+Francisco%2C+CA&format=jsonv2&addressdetails=1&limit=1\n",
      "Status code 429 from https://nominatim.openstreetmap.org/search: ERROR - 429 Client Error: Too Many Requests for url: https://nominatim.openstreetmap.org/search?q=San+Francisco%2C+CA&format=jsonv2&addressdetails=1&limit=1\n"
     ]
    },
    {
     "name": "stdout",
     "output_type": "stream",
     "text": [
      "San Francisco None None 444.7250  San Francisco OPEN\n"
     ]
    },
    {
     "name": "stderr",
     "output_type": "stream",
     "text": [
      "Status code 429 from https://nominatim.openstreetmap.org/search: ERROR - 429 Client Error: Too Many Requests for url: https://nominatim.openstreetmap.org/search?q=Yountville%2C+Mt+Veeder%2C+CA&format=jsonv2&addressdetails=1&limit=1\n",
      "Status code 429 from https://nominatim.openstreetmap.org/search: ERROR - 429 Client Error: Too Many Requests for url: https://nominatim.openstreetmap.org/search?q=Yountville%2C+Mt+Veeder%2C+CA&format=jsonv2&addressdetails=1&limit=1\n"
     ]
    },
    {
     "name": "stdout",
     "output_type": "stream",
     "text": [
      "Yountville, Mt Veeder None None 444.7250 N6TKW Napa OPEN\n"
     ]
    },
    {
     "name": "stderr",
     "output_type": "stream",
     "text": [
      "Status code 429 from https://nominatim.openstreetmap.org/search: ERROR - 429 Client Error: Too Many Requests for url: https://nominatim.openstreetmap.org/search?q=Bakersfield%2C+CA&format=jsonv2&addressdetails=1&limit=1\n",
      "Status code 429 from https://nominatim.openstreetmap.org/search: ERROR - 429 Client Error: Too Many Requests for url: https://nominatim.openstreetmap.org/search?q=Bakersfield%2C+CA&format=jsonv2&addressdetails=1&limit=1\n"
     ]
    },
    {
     "name": "stdout",
     "output_type": "stream",
     "text": [
      "Bakersfield None None 444.7500 N6SMU Kern OPEN\n"
     ]
    },
    {
     "name": "stderr",
     "output_type": "stream",
     "text": [
      "Status code 429 from https://nominatim.openstreetmap.org/search: ERROR - 429 Client Error: Too Many Requests for url: https://nominatim.openstreetmap.org/search?q=Eureka%2C+Bunker+Hill%2C+CA&format=jsonv2&addressdetails=1&limit=1\n",
      "Status code 429 from https://nominatim.openstreetmap.org/search: ERROR - 429 Client Error: Too Many Requests for url: https://nominatim.openstreetmap.org/search?q=Eureka%2C+Bunker+Hill%2C+CA&format=jsonv2&addressdetails=1&limit=1\n"
     ]
    },
    {
     "name": "stdout",
     "output_type": "stream",
     "text": [
      "Eureka, Bunker Hill None None 444.7500 WA6RQX Humboldt CLOSED\n"
     ]
    },
    {
     "name": "stderr",
     "output_type": "stream",
     "text": [
      "Status code 429 from https://nominatim.openstreetmap.org/search: ERROR - 429 Client Error: Too Many Requests for url: https://nominatim.openstreetmap.org/search?q=Grass+Valley%2C+CA&format=jsonv2&addressdetails=1&limit=1\n",
      "Status code 429 from https://nominatim.openstreetmap.org/search: ERROR - 429 Client Error: Too Many Requests for url: https://nominatim.openstreetmap.org/search?q=Grass+Valley%2C+CA&format=jsonv2&addressdetails=1&limit=1\n"
     ]
    },
    {
     "name": "stdout",
     "output_type": "stream",
     "text": [
      "Grass Valley None None 444.7500 K6RTL Nevada OPEN\n"
     ]
    },
    {
     "name": "stderr",
     "output_type": "stream",
     "text": [
      "Status code 429 from https://nominatim.openstreetmap.org/search: ERROR - 429 Client Error: Too Many Requests for url: https://nominatim.openstreetmap.org/search?q=San+Jose%2C+CA&format=jsonv2&addressdetails=1&limit=1\n",
      "Status code 429 from https://nominatim.openstreetmap.org/search: ERROR - 429 Client Error: Too Many Requests for url: https://nominatim.openstreetmap.org/search?q=San+Jose%2C+CA&format=jsonv2&addressdetails=1&limit=1\n"
     ]
    },
    {
     "name": "stdout",
     "output_type": "stream",
     "text": [
      "San Jose None None 444.7500 N9JIM Santa Clara OPEN\n"
     ]
    },
    {
     "name": "stderr",
     "output_type": "stream",
     "text": [
      "Status code 429 from https://nominatim.openstreetmap.org/search: ERROR - 429 Client Error: Too Many Requests for url: https://nominatim.openstreetmap.org/search?q=Santa+Rosa%2C+Sanel+Mountain%2C+CA&format=jsonv2&addressdetails=1&limit=1\n",
      "Status code 429 from https://nominatim.openstreetmap.org/search: ERROR - 429 Client Error: Too Many Requests for url: https://nominatim.openstreetmap.org/search?q=Santa+Rosa%2C+Sanel+Mountain%2C+CA&format=jsonv2&addressdetails=1&limit=1\n"
     ]
    },
    {
     "name": "stdout",
     "output_type": "stream",
     "text": [
      "Santa Rosa, Sanel Mountain None None 444.7500 WA6RQX Mendocino OPEN\n"
     ]
    },
    {
     "name": "stderr",
     "output_type": "stream",
     "text": [
      "Status code 429 from https://nominatim.openstreetmap.org/search: ERROR - 429 Client Error: Too Many Requests for url: https://nominatim.openstreetmap.org/search?q=Santa+Rosa%2C+CA&format=jsonv2&addressdetails=1&limit=1\n",
      "Status code 429 from https://nominatim.openstreetmap.org/search: ERROR - 429 Client Error: Too Many Requests for url: https://nominatim.openstreetmap.org/search?q=Santa+Rosa%2C+CA&format=jsonv2&addressdetails=1&limit=1\n"
     ]
    },
    {
     "name": "stdout",
     "output_type": "stream",
     "text": [
      "Santa Rosa None None 444.7500 KD6RC Sonoma OPEN\n"
     ]
    },
    {
     "name": "stderr",
     "output_type": "stream",
     "text": [
      "Status code 429 from https://nominatim.openstreetmap.org/search: ERROR - 429 Client Error: Too Many Requests for url: https://nominatim.openstreetmap.org/search?q=Vacaville%2C+CA&format=jsonv2&addressdetails=1&limit=1\n",
      "Status code 429 from https://nominatim.openstreetmap.org/search: ERROR - 429 Client Error: Too Many Requests for url: https://nominatim.openstreetmap.org/search?q=Vacaville%2C+CA&format=jsonv2&addressdetails=1&limit=1\n"
     ]
    },
    {
     "name": "stdout",
     "output_type": "stream",
     "text": [
      "Vacaville None None 444.7500 WA6RTL Solano OPEN\n"
     ]
    },
    {
     "name": "stderr",
     "output_type": "stream",
     "text": [
      "Status code 429 from https://nominatim.openstreetmap.org/search: ERROR - 429 Client Error: Too Many Requests for url: https://nominatim.openstreetmap.org/search?q=Oakland%2C+CA&format=jsonv2&addressdetails=1&limit=1\n",
      "Status code 429 from https://nominatim.openstreetmap.org/search: ERROR - 429 Client Error: Too Many Requests for url: https://nominatim.openstreetmap.org/search?q=Oakland%2C+CA&format=jsonv2&addressdetails=1&limit=1\n"
     ]
    },
    {
     "name": "stdout",
     "output_type": "stream",
     "text": [
      "Oakland None None 444.7750 W6YOP Alameda OPEN\n"
     ]
    },
    {
     "name": "stderr",
     "output_type": "stream",
     "text": [
      "Status code 429 from https://nominatim.openstreetmap.org/search: ERROR - 429 Client Error: Too Many Requests for url: https://nominatim.openstreetmap.org/search?q=Susanville%2C+CA&format=jsonv2&addressdetails=1&limit=1\n",
      "Status code 429 from https://nominatim.openstreetmap.org/search: ERROR - 429 Client Error: Too Many Requests for url: https://nominatim.openstreetmap.org/search?q=Susanville%2C+CA&format=jsonv2&addressdetails=1&limit=1\n"
     ]
    },
    {
     "name": "stdout",
     "output_type": "stream",
     "text": [
      "Susanville None None 444.7750 KE6NDG Lassen OPEN\n"
     ]
    },
    {
     "name": "stderr",
     "output_type": "stream",
     "text": [
      "Status code 429 from https://nominatim.openstreetmap.org/search: ERROR - 429 Client Error: Too Many Requests for url: https://nominatim.openstreetmap.org/search?q=Mariposa%2C+Mt+Bullion%2C+CA&format=jsonv2&addressdetails=1&limit=1\n",
      "Status code 429 from https://nominatim.openstreetmap.org/search: ERROR - 429 Client Error: Too Many Requests for url: https://nominatim.openstreetmap.org/search?q=Mariposa%2C+Mt+Bullion%2C+CA&format=jsonv2&addressdetails=1&limit=1\n"
     ]
    },
    {
     "name": "stdout",
     "output_type": "stream",
     "text": [
      "Mariposa, Mt Bullion None None 444.7875 W6BXN Mariposa OPEN\n"
     ]
    },
    {
     "name": "stderr",
     "output_type": "stream",
     "text": [
      "Status code 429 from https://nominatim.openstreetmap.org/search: ERROR - 429 Client Error: Too Many Requests for url: https://nominatim.openstreetmap.org/search?q=Bishop%2C+CA&format=jsonv2&addressdetails=1&limit=1\n",
      "Status code 429 from https://nominatim.openstreetmap.org/search: ERROR - 429 Client Error: Too Many Requests for url: https://nominatim.openstreetmap.org/search?q=Bishop%2C+CA&format=jsonv2&addressdetails=1&limit=1\n"
     ]
    },
    {
     "name": "stdout",
     "output_type": "stream",
     "text": [
      "Bishop None None 444.8000 WA6ZFT Inyo OPEN\n"
     ]
    },
    {
     "name": "stderr",
     "output_type": "stream",
     "text": [
      "Status code 429 from https://nominatim.openstreetmap.org/search: ERROR - 429 Client Error: Too Many Requests for url: https://nominatim.openstreetmap.org/search?q=Daly+City%2C+CA&format=jsonv2&addressdetails=1&limit=1\n",
      "Status code 429 from https://nominatim.openstreetmap.org/search: ERROR - 429 Client Error: Too Many Requests for url: https://nominatim.openstreetmap.org/search?q=Daly+City%2C+CA&format=jsonv2&addressdetails=1&limit=1\n"
     ]
    },
    {
     "name": "stdout",
     "output_type": "stream",
     "text": [
      "Daly City None None 444.8000 WA6GEL San Mateo CLOSED\n"
     ]
    },
    {
     "name": "stderr",
     "output_type": "stream",
     "text": [
      "Status code 429 from https://nominatim.openstreetmap.org/search: ERROR - 429 Client Error: Too Many Requests for url: https://nominatim.openstreetmap.org/search?q=Fremont%2C+CA&format=jsonv2&addressdetails=1&limit=1\n",
      "Status code 429 from https://nominatim.openstreetmap.org/search: ERROR - 429 Client Error: Too Many Requests for url: https://nominatim.openstreetmap.org/search?q=Fremont%2C+CA&format=jsonv2&addressdetails=1&limit=1\n"
     ]
    },
    {
     "name": "stdout",
     "output_type": "stream",
     "text": [
      "Fremont None None 444.8000 WA6GEL Alameda CLOSED\n"
     ]
    },
    {
     "name": "stderr",
     "output_type": "stream",
     "text": [
      "Status code 429 from https://nominatim.openstreetmap.org/search: ERROR - 429 Client Error: Too Many Requests for url: https://nominatim.openstreetmap.org/search?q=Laytonville%2C+CA&format=jsonv2&addressdetails=1&limit=1\n",
      "Status code 429 from https://nominatim.openstreetmap.org/search: ERROR - 429 Client Error: Too Many Requests for url: https://nominatim.openstreetmap.org/search?q=Laytonville%2C+CA&format=jsonv2&addressdetails=1&limit=1\n"
     ]
    },
    {
     "name": "stdout",
     "output_type": "stream",
     "text": [
      "Laytonville None None 444.8000 WA6RQX Mendocino CLOSED\n"
     ]
    },
    {
     "name": "stderr",
     "output_type": "stream",
     "text": [
      "Status code 429 from https://nominatim.openstreetmap.org/search: ERROR - 429 Client Error: Too Many Requests for url: https://nominatim.openstreetmap.org/search?q=Lompoc%2C+CA&format=jsonv2&addressdetails=1&limit=1\n",
      "Status code 429 from https://nominatim.openstreetmap.org/search: ERROR - 429 Client Error: Too Many Requests for url: https://nominatim.openstreetmap.org/search?q=Lompoc%2C+CA&format=jsonv2&addressdetails=1&limit=1\n"
     ]
    },
    {
     "name": "stdout",
     "output_type": "stream",
     "text": [
      "Lompoc None None 444.8000 WA6VPL Santa Barbara CLOSED\n"
     ]
    },
    {
     "name": "stderr",
     "output_type": "stream",
     "text": [
      "Status code 429 from https://nominatim.openstreetmap.org/search: ERROR - 429 Client Error: Too Many Requests for url: https://nominatim.openstreetmap.org/search?q=Mariposa%2C+CA&format=jsonv2&addressdetails=1&limit=1\n",
      "Status code 429 from https://nominatim.openstreetmap.org/search: ERROR - 429 Client Error: Too Many Requests for url: https://nominatim.openstreetmap.org/search?q=Mariposa%2C+CA&format=jsonv2&addressdetails=1&limit=1\n"
     ]
    },
    {
     "name": "stdout",
     "output_type": "stream",
     "text": [
      "Mariposa None None 444.8000 W6HHD Mariposa OPEN\n"
     ]
    },
    {
     "name": "stderr",
     "output_type": "stream",
     "text": [
      "Status code 429 from https://nominatim.openstreetmap.org/search: ERROR - 429 Client Error: Too Many Requests for url: https://nominatim.openstreetmap.org/search?q=Oakland%2C+CA&format=jsonv2&addressdetails=1&limit=1\n",
      "Status code 429 from https://nominatim.openstreetmap.org/search: ERROR - 429 Client Error: Too Many Requests for url: https://nominatim.openstreetmap.org/search?q=Oakland%2C+CA&format=jsonv2&addressdetails=1&limit=1\n"
     ]
    },
    {
     "name": "stdout",
     "output_type": "stream",
     "text": [
      "Oakland None None 444.8000 KD6GLT Alameda CLOSED\n"
     ]
    },
    {
     "name": "stderr",
     "output_type": "stream",
     "text": [
      "Status code 429 from https://nominatim.openstreetmap.org/search: ERROR - 429 Client Error: Too Many Requests for url: https://nominatim.openstreetmap.org/search?q=San+Jose%2C+CA&format=jsonv2&addressdetails=1&limit=1\n",
      "Status code 429 from https://nominatim.openstreetmap.org/search: ERROR - 429 Client Error: Too Many Requests for url: https://nominatim.openstreetmap.org/search?q=San+Jose%2C+CA&format=jsonv2&addressdetails=1&limit=1\n"
     ]
    },
    {
     "name": "stdout",
     "output_type": "stream",
     "text": [
      "San Jose None None 444.8000 WA6GEL Santa Clara CLOSED\n"
     ]
    },
    {
     "name": "stderr",
     "output_type": "stream",
     "text": [
      "Status code 429 from https://nominatim.openstreetmap.org/search: ERROR - 429 Client Error: Too Many Requests for url: https://nominatim.openstreetmap.org/search?q=Stockton%2C+CA&format=jsonv2&addressdetails=1&limit=1\n",
      "Status code 429 from https://nominatim.openstreetmap.org/search: ERROR - 429 Client Error: Too Many Requests for url: https://nominatim.openstreetmap.org/search?q=Stockton%2C+CA&format=jsonv2&addressdetails=1&limit=1\n"
     ]
    },
    {
     "name": "stdout",
     "output_type": "stream",
     "text": [
      "Stockton None None 444.8000 NV6RN San Joaquin OPEN\n"
     ]
    },
    {
     "name": "stderr",
     "output_type": "stream",
     "text": [
      "Status code 429 from https://nominatim.openstreetmap.org/search: ERROR - 429 Client Error: Too Many Requests for url: https://nominatim.openstreetmap.org/search?q=Crescent+City%2C+CA&format=jsonv2&addressdetails=1&limit=1\n",
      "Status code 429 from https://nominatim.openstreetmap.org/search: ERROR - 429 Client Error: Too Many Requests for url: https://nominatim.openstreetmap.org/search?q=Crescent+City%2C+CA&format=jsonv2&addressdetails=1&limit=1\n"
     ]
    },
    {
     "name": "stdout",
     "output_type": "stream",
     "text": [
      "Crescent City None None 444.8250 KF6QBW Del Norte OPEN\n"
     ]
    },
    {
     "name": "stderr",
     "output_type": "stream",
     "text": [
      "Status code 429 from https://nominatim.openstreetmap.org/search: ERROR - 429 Client Error: Too Many Requests for url: https://nominatim.openstreetmap.org/search?q=Crescent+City%2C+CA&format=jsonv2&addressdetails=1&limit=1\n",
      "Status code 429 from https://nominatim.openstreetmap.org/search: ERROR - 429 Client Error: Too Many Requests for url: https://nominatim.openstreetmap.org/search?q=Crescent+City%2C+CA&format=jsonv2&addressdetails=1&limit=1\n"
     ]
    },
    {
     "name": "stdout",
     "output_type": "stream",
     "text": [
      "Crescent City None None 444.8250 KF6QBW Del Norte OPEN\n"
     ]
    },
    {
     "name": "stderr",
     "output_type": "stream",
     "text": [
      "Status code 429 from https://nominatim.openstreetmap.org/search: ERROR - 429 Client Error: Too Many Requests for url: https://nominatim.openstreetmap.org/search?q=Dinuba%2C+CA&format=jsonv2&addressdetails=1&limit=1\n",
      "Status code 429 from https://nominatim.openstreetmap.org/search: ERROR - 429 Client Error: Too Many Requests for url: https://nominatim.openstreetmap.org/search?q=Dinuba%2C+CA&format=jsonv2&addressdetails=1&limit=1\n"
     ]
    },
    {
     "name": "stdout",
     "output_type": "stream",
     "text": [
      "Dinuba None None 444.8250 N6SGW Tulare OPEN\n"
     ]
    },
    {
     "name": "stderr",
     "output_type": "stream",
     "text": [
      "Status code 429 from https://nominatim.openstreetmap.org/search: ERROR - 429 Client Error: Too Many Requests for url: https://nominatim.openstreetmap.org/search?q=Kelsey%2C+CA&format=jsonv2&addressdetails=1&limit=1\n",
      "Status code 429 from https://nominatim.openstreetmap.org/search: ERROR - 429 Client Error: Too Many Requests for url: https://nominatim.openstreetmap.org/search?q=Kelsey%2C+CA&format=jsonv2&addressdetails=1&limit=1\n"
     ]
    },
    {
     "name": "stdout",
     "output_type": "stream",
     "text": [
      "Kelsey None None 444.8250 W6TIQ El Dorado CLOSED\n"
     ]
    },
    {
     "name": "stderr",
     "output_type": "stream",
     "text": [
      "Status code 429 from https://nominatim.openstreetmap.org/search: ERROR - 429 Client Error: Too Many Requests for url: https://nominatim.openstreetmap.org/search?q=Mt+Shasta+City%2C+CA&format=jsonv2&addressdetails=1&limit=1\n",
      "Status code 429 from https://nominatim.openstreetmap.org/search: ERROR - 429 Client Error: Too Many Requests for url: https://nominatim.openstreetmap.org/search?q=Mt+Shasta+City%2C+CA&format=jsonv2&addressdetails=1&limit=1\n"
     ]
    },
    {
     "name": "stdout",
     "output_type": "stream",
     "text": [
      "Mt Shasta City None None 444.8250 AB6MF Siskiyou OPEN\n"
     ]
    },
    {
     "name": "stderr",
     "output_type": "stream",
     "text": [
      "Status code 429 from https://nominatim.openstreetmap.org/search: ERROR - 429 Client Error: Too Many Requests for url: https://nominatim.openstreetmap.org/search?q=Sebastopol%2C+CA&format=jsonv2&addressdetails=1&limit=1\n",
      "Status code 429 from https://nominatim.openstreetmap.org/search: ERROR - 429 Client Error: Too Many Requests for url: https://nominatim.openstreetmap.org/search?q=Sebastopol%2C+CA&format=jsonv2&addressdetails=1&limit=1\n"
     ]
    },
    {
     "name": "stdout",
     "output_type": "stream",
     "text": [
      "Sebastopol None None 444.8250 WA6TIP Sonoma OPEN\n"
     ]
    },
    {
     "name": "stderr",
     "output_type": "stream",
     "text": [
      "Status code 429 from https://nominatim.openstreetmap.org/search: ERROR - 429 Client Error: Too Many Requests for url: https://nominatim.openstreetmap.org/search?q=Angels+Camp%2C+CA&format=jsonv2&addressdetails=1&limit=1\n",
      "Status code 429 from https://nominatim.openstreetmap.org/search: ERROR - 429 Client Error: Too Many Requests for url: https://nominatim.openstreetmap.org/search?q=Angels+Camp%2C+CA&format=jsonv2&addressdetails=1&limit=1\n"
     ]
    },
    {
     "name": "stdout",
     "output_type": "stream",
     "text": [
      "Angels Camp None None 444.8500 N6LZR Calaveras OPEN\n"
     ]
    },
    {
     "name": "stderr",
     "output_type": "stream",
     "text": [
      "Status code 429 from https://nominatim.openstreetmap.org/search: ERROR - 429 Client Error: Too Many Requests for url: https://nominatim.openstreetmap.org/search?q=Hayward%2C+CA&format=jsonv2&addressdetails=1&limit=1\n",
      "Status code 429 from https://nominatim.openstreetmap.org/search: ERROR - 429 Client Error: Too Many Requests for url: https://nominatim.openstreetmap.org/search?q=Hayward%2C+CA&format=jsonv2&addressdetails=1&limit=1\n"
     ]
    },
    {
     "name": "stdout",
     "output_type": "stream",
     "text": [
      "Hayward None None 444.8500 KB6LED Alameda OPEN\n"
     ]
    },
    {
     "name": "stderr",
     "output_type": "stream",
     "text": [
      "Status code 429 from https://nominatim.openstreetmap.org/search: ERROR - 429 Client Error: Too Many Requests for url: https://nominatim.openstreetmap.org/search?q=San+Francisco%2C+CA&format=jsonv2&addressdetails=1&limit=1\n",
      "Status code 429 from https://nominatim.openstreetmap.org/search: ERROR - 429 Client Error: Too Many Requests for url: https://nominatim.openstreetmap.org/search?q=San+Francisco%2C+CA&format=jsonv2&addressdetails=1&limit=1\n"
     ]
    },
    {
     "name": "stdout",
     "output_type": "stream",
     "text": [
      "San Francisco None None 444.8500 K6KYA San Francisco OPEN\n"
     ]
    },
    {
     "name": "stderr",
     "output_type": "stream",
     "text": [
      "Status code 429 from https://nominatim.openstreetmap.org/search: ERROR - 429 Client Error: Too Many Requests for url: https://nominatim.openstreetmap.org/search?q=Vacaville%2C+CA&format=jsonv2&addressdetails=1&limit=1\n",
      "Status code 429 from https://nominatim.openstreetmap.org/search: ERROR - 429 Client Error: Too Many Requests for url: https://nominatim.openstreetmap.org/search?q=Vacaville%2C+CA&format=jsonv2&addressdetails=1&limit=1\n"
     ]
    },
    {
     "name": "stdout",
     "output_type": "stream",
     "text": [
      "Vacaville None None 444.8500 W6PUE Solano CLOSED\n"
     ]
    },
    {
     "name": "stderr",
     "output_type": "stream",
     "text": [
      "Status code 429 from https://nominatim.openstreetmap.org/search: ERROR - 429 Client Error: Too Many Requests for url: https://nominatim.openstreetmap.org/search?q=Concord%2C+CA&format=jsonv2&addressdetails=1&limit=1\n",
      "Status code 429 from https://nominatim.openstreetmap.org/search: ERROR - 429 Client Error: Too Many Requests for url: https://nominatim.openstreetmap.org/search?q=Concord%2C+CA&format=jsonv2&addressdetails=1&limit=1\n"
     ]
    },
    {
     "name": "stdout",
     "output_type": "stream",
     "text": [
      "Concord None None 444.8750 K6FJ Contra Costa OPEN\n"
     ]
    },
    {
     "name": "stderr",
     "output_type": "stream",
     "text": [
      "Status code 429 from https://nominatim.openstreetmap.org/search: ERROR - 429 Client Error: Too Many Requests for url: https://nominatim.openstreetmap.org/search?q=Susanville%2C+CA&format=jsonv2&addressdetails=1&limit=1\n",
      "Status code 429 from https://nominatim.openstreetmap.org/search: ERROR - 429 Client Error: Too Many Requests for url: https://nominatim.openstreetmap.org/search?q=Susanville%2C+CA&format=jsonv2&addressdetails=1&limit=1\n"
     ]
    },
    {
     "name": "stdout",
     "output_type": "stream",
     "text": [
      "Susanville None None 444.8750 KE6NDG Lassen OPEN\n"
     ]
    },
    {
     "name": "stderr",
     "output_type": "stream",
     "text": [
      "Status code 429 from https://nominatim.openstreetmap.org/search: ERROR - 429 Client Error: Too Many Requests for url: https://nominatim.openstreetmap.org/search?q=San+Jose%2C+Santa+Cruz+Mountains%2C+CA&format=jsonv2&addressdetails=1&limit=1\n",
      "Status code 429 from https://nominatim.openstreetmap.org/search: ERROR - 429 Client Error: Too Many Requests for url: https://nominatim.openstreetmap.org/search?q=San+Jose%2C+Santa+Cruz+Mountains%2C+CA&format=jsonv2&addressdetails=1&limit=1\n"
     ]
    },
    {
     "name": "stdout",
     "output_type": "stream",
     "text": [
      "San Jose, Santa Cruz Mountains None None 444.9000 KU6V Santa Clara OPEN\n"
     ]
    },
    {
     "name": "stderr",
     "output_type": "stream",
     "text": [
      "Status code 429 from https://nominatim.openstreetmap.org/search: ERROR - 429 Client Error: Too Many Requests for url: https://nominatim.openstreetmap.org/search?q=San+Luis+Obispo%2C+CA&format=jsonv2&addressdetails=1&limit=1\n",
      "Status code 429 from https://nominatim.openstreetmap.org/search: ERROR - 429 Client Error: Too Many Requests for url: https://nominatim.openstreetmap.org/search?q=San+Luis+Obispo%2C+CA&format=jsonv2&addressdetails=1&limit=1\n"
     ]
    },
    {
     "name": "stdout",
     "output_type": "stream",
     "text": [
      "San Luis Obispo None None 444.9000 KC6WRD San Luis Obispo CLOSED\n"
     ]
    },
    {
     "name": "stderr",
     "output_type": "stream",
     "text": [
      "Status code 429 from https://nominatim.openstreetmap.org/search: ERROR - 429 Client Error: Too Many Requests for url: https://nominatim.openstreetmap.org/search?q=Santa+Rosa%2C+CA&format=jsonv2&addressdetails=1&limit=1\n",
      "Status code 429 from https://nominatim.openstreetmap.org/search: ERROR - 429 Client Error: Too Many Requests for url: https://nominatim.openstreetmap.org/search?q=Santa+Rosa%2C+CA&format=jsonv2&addressdetails=1&limit=1\n"
     ]
    },
    {
     "name": "stdout",
     "output_type": "stream",
     "text": [
      "Santa Rosa None None 444.9000 KF6SZA Sonoma OPEN\n"
     ]
    },
    {
     "name": "stderr",
     "output_type": "stream",
     "text": [
      "Status code 429 from https://nominatim.openstreetmap.org/search: ERROR - 429 Client Error: Too Many Requests for url: https://nominatim.openstreetmap.org/search?q=Yreka%2C+CA&format=jsonv2&addressdetails=1&limit=1\n"
     ]
    },
    {
     "name": "stdout",
     "output_type": "stream",
     "text": [
      "Yreka None -122.637766 444.9000 AB6MF Siskiyou OPEN\n"
     ]
    },
    {
     "name": "stderr",
     "output_type": "stream",
     "text": [
      "Status code 429 from https://nominatim.openstreetmap.org/search: ERROR - 429 Client Error: Too Many Requests for url: https://nominatim.openstreetmap.org/search?q=Alleghany%2C+CA&format=jsonv2&addressdetails=1&limit=1\n",
      "Status code 429 from https://nominatim.openstreetmap.org/search: ERROR - 429 Client Error: Too Many Requests for url: https://nominatim.openstreetmap.org/search?q=Alleghany%2C+CA&format=jsonv2&addressdetails=1&limit=1\n"
     ]
    },
    {
     "name": "stdout",
     "output_type": "stream",
     "text": [
      "Alleghany None None 444.9250 WR6ASF Sierra OPEN\n"
     ]
    },
    {
     "name": "stderr",
     "output_type": "stream",
     "text": [
      "Status code 429 from https://nominatim.openstreetmap.org/search: ERROR - 429 Client Error: Too Many Requests for url: https://nominatim.openstreetmap.org/search?q=Bakersfield%2C+CA&format=jsonv2&addressdetails=1&limit=1\n",
      "Status code 429 from https://nominatim.openstreetmap.org/search: ERROR - 429 Client Error: Too Many Requests for url: https://nominatim.openstreetmap.org/search?q=Bakersfield%2C+CA&format=jsonv2&addressdetails=1&limit=1\n"
     ]
    },
    {
     "name": "stdout",
     "output_type": "stream",
     "text": [
      "Bakersfield None None 444.9250 K6RET Kern OPEN\n"
     ]
    },
    {
     "name": "stderr",
     "output_type": "stream",
     "text": [
      "Status code 429 from https://nominatim.openstreetmap.org/search: ERROR - 429 Client Error: Too Many Requests for url: https://nominatim.openstreetmap.org/search?q=Grass+Valley%2C+CA&format=jsonv2&addressdetails=1&limit=1\n",
      "Status code 429 from https://nominatim.openstreetmap.org/search: ERROR - 429 Client Error: Too Many Requests for url: https://nominatim.openstreetmap.org/search?q=Grass+Valley%2C+CA&format=jsonv2&addressdetails=1&limit=1\n"
     ]
    },
    {
     "name": "stdout",
     "output_type": "stream",
     "text": [
      "Grass Valley None None 444.9250 AB6LI Nevada OPEN\n"
     ]
    },
    {
     "name": "stderr",
     "output_type": "stream",
     "text": [
      "Status code 429 from https://nominatim.openstreetmap.org/search: ERROR - 429 Client Error: Too Many Requests for url: https://nominatim.openstreetmap.org/search?q=Los+Gatos%2C+CA&format=jsonv2&addressdetails=1&limit=1\n",
      "Status code 429 from https://nominatim.openstreetmap.org/search: ERROR - 429 Client Error: Too Many Requests for url: https://nominatim.openstreetmap.org/search?q=Los+Gatos%2C+CA&format=jsonv2&addressdetails=1&limit=1\n"
     ]
    },
    {
     "name": "stdout",
     "output_type": "stream",
     "text": [
      "Los Gatos None None 444.9250 KB6LCS Santa Clara OPEN\n"
     ]
    },
    {
     "name": "stderr",
     "output_type": "stream",
     "text": [
      "Status code 429 from https://nominatim.openstreetmap.org/search: ERROR - 429 Client Error: Too Many Requests for url: https://nominatim.openstreetmap.org/search?q=San+Francisco%2C+CA&format=jsonv2&addressdetails=1&limit=1\n",
      "Status code 429 from https://nominatim.openstreetmap.org/search: ERROR - 429 Client Error: Too Many Requests for url: https://nominatim.openstreetmap.org/search?q=San+Francisco%2C+CA&format=jsonv2&addressdetails=1&limit=1\n"
     ]
    },
    {
     "name": "stdout",
     "output_type": "stream",
     "text": [
      "San Francisco None None 444.9250 KB6LCS San Francisco OPEN\n"
     ]
    },
    {
     "name": "stderr",
     "output_type": "stream",
     "text": [
      "Status code 429 from https://nominatim.openstreetmap.org/search: ERROR - 429 Client Error: Too Many Requests for url: https://nominatim.openstreetmap.org/search?q=Willits%2C+Laughlin+Ridge%2C+CA&format=jsonv2&addressdetails=1&limit=1\n",
      "Status code 429 from https://nominatim.openstreetmap.org/search: ERROR - 429 Client Error: Too Many Requests for url: https://nominatim.openstreetmap.org/search?q=Willits%2C+Laughlin+Ridge%2C+CA&format=jsonv2&addressdetails=1&limit=1\n"
     ]
    },
    {
     "name": "stdout",
     "output_type": "stream",
     "text": [
      "Willits, Laughlin Ridge None None 444.9250 K7WWA Mendocino OPEN\n"
     ]
    },
    {
     "name": "stderr",
     "output_type": "stream",
     "text": [
      "Status code 429 from https://nominatim.openstreetmap.org/search: ERROR - 429 Client Error: Too Many Requests for url: https://nominatim.openstreetmap.org/search?q=San+Luis+Obispo%2C+CA&format=jsonv2&addressdetails=1&limit=1\n",
      "Status code 429 from https://nominatim.openstreetmap.org/search: ERROR - 429 Client Error: Too Many Requests for url: https://nominatim.openstreetmap.org/search?q=San+Luis+Obispo%2C+CA&format=jsonv2&addressdetails=1&limit=1\n"
     ]
    },
    {
     "name": "stdout",
     "output_type": "stream",
     "text": [
      "San Luis Obispo None None 444.9375 KK6DJ San Luis Obispo OPEN\n"
     ]
    },
    {
     "name": "stderr",
     "output_type": "stream",
     "text": [
      "Status code 429 from https://nominatim.openstreetmap.org/search: ERROR - 429 Client Error: Too Many Requests for url: https://nominatim.openstreetmap.org/search?q=Auburn%2C+Sugar+Pine+Ridge%2C+CA&format=jsonv2&addressdetails=1&limit=1\n",
      "Status code 429 from https://nominatim.openstreetmap.org/search: ERROR - 429 Client Error: Too Many Requests for url: https://nominatim.openstreetmap.org/search?q=Auburn%2C+Sugar+Pine+Ridge%2C+CA&format=jsonv2&addressdetails=1&limit=1\n"
     ]
    },
    {
     "name": "stdout",
     "output_type": "stream",
     "text": [
      "Auburn, Sugar Pine Ridge None None 444.9500 K6JSI Placer CLOSED\n"
     ]
    },
    {
     "name": "stderr",
     "output_type": "stream",
     "text": [
      "Status code 429 from https://nominatim.openstreetmap.org/search: ERROR - 429 Client Error: Too Many Requests for url: https://nominatim.openstreetmap.org/search?q=Hanford%2C+CA&format=jsonv2&addressdetails=1&limit=1\n",
      "Status code 429 from https://nominatim.openstreetmap.org/search: ERROR - 429 Client Error: Too Many Requests for url: https://nominatim.openstreetmap.org/search?q=Hanford%2C+CA&format=jsonv2&addressdetails=1&limit=1\n"
     ]
    },
    {
     "name": "stdout",
     "output_type": "stream",
     "text": [
      "Hanford None None 444.9500 N6CVC Kings OPEN\n"
     ]
    },
    {
     "name": "stderr",
     "output_type": "stream",
     "text": [
      "Status code 429 from https://nominatim.openstreetmap.org/search: ERROR - 429 Client Error: Too Many Requests for url: https://nominatim.openstreetmap.org/search?q=Nevada+City%2C+CA&format=jsonv2&addressdetails=1&limit=1\n",
      "Status code 429 from https://nominatim.openstreetmap.org/search: ERROR - 429 Client Error: Too Many Requests for url: https://nominatim.openstreetmap.org/search?q=Nevada+City%2C+CA&format=jsonv2&addressdetails=1&limit=1\n"
     ]
    },
    {
     "name": "stdout",
     "output_type": "stream",
     "text": [
      "Nevada City None None 444.9500 W6JP Nevada OPEN\n"
     ]
    },
    {
     "name": "stderr",
     "output_type": "stream",
     "text": [
      "Status code 429 from https://nominatim.openstreetmap.org/search: ERROR - 429 Client Error: Too Many Requests for url: https://nominatim.openstreetmap.org/search?q=Palo+Alto%2C+CA&format=jsonv2&addressdetails=1&limit=1\n",
      "Status code 429 from https://nominatim.openstreetmap.org/search: ERROR - 429 Client Error: Too Many Requests for url: https://nominatim.openstreetmap.org/search?q=Palo+Alto%2C+CA&format=jsonv2&addressdetails=1&limit=1\n"
     ]
    },
    {
     "name": "stdout",
     "output_type": "stream",
     "text": [
      "Palo Alto None None 444.9500 KB6LED Santa Clara OPEN\n"
     ]
    },
    {
     "name": "stderr",
     "output_type": "stream",
     "text": [
      "Status code 429 from https://nominatim.openstreetmap.org/search: ERROR - 429 Client Error: Too Many Requests for url: https://nominatim.openstreetmap.org/search?q=Red+Bluff%2C+CA&format=jsonv2&addressdetails=1&limit=1\n",
      "Status code 429 from https://nominatim.openstreetmap.org/search: ERROR - 429 Client Error: Too Many Requests for url: https://nominatim.openstreetmap.org/search?q=Red+Bluff%2C+CA&format=jsonv2&addressdetails=1&limit=1\n"
     ]
    },
    {
     "name": "stdout",
     "output_type": "stream",
     "text": [
      "Red Bluff None None 444.9500 W6QWN Tehama OPEN\n"
     ]
    },
    {
     "name": "stderr",
     "output_type": "stream",
     "text": [
      "Status code 429 from https://nominatim.openstreetmap.org/search: ERROR - 429 Client Error: Too Many Requests for url: https://nominatim.openstreetmap.org/search?q=Tahoe+City%2C+CA&format=jsonv2&addressdetails=1&limit=1\n",
      "Status code 429 from https://nominatim.openstreetmap.org/search: ERROR - 429 Client Error: Too Many Requests for url: https://nominatim.openstreetmap.org/search?q=Tahoe+City%2C+CA&format=jsonv2&addressdetails=1&limit=1\n"
     ]
    },
    {
     "name": "stdout",
     "output_type": "stream",
     "text": [
      "Tahoe City None None 444.9500 W6PUE Placer CLOSED\n"
     ]
    },
    {
     "name": "stderr",
     "output_type": "stream",
     "text": [
      "Status code 429 from https://nominatim.openstreetmap.org/search: ERROR - 429 Client Error: Too Many Requests for url: https://nominatim.openstreetmap.org/search?q=Los+Gatos%2C+Santa+Cruz+Mountains%2C+CA&format=jsonv2&addressdetails=1&limit=1\n",
      "Status code 429 from https://nominatim.openstreetmap.org/search: ERROR - 429 Client Error: Too Many Requests for url: https://nominatim.openstreetmap.org/search?q=Los+Gatos%2C+Santa+Cruz+Mountains%2C+CA&format=jsonv2&addressdetails=1&limit=1\n"
     ]
    },
    {
     "name": "stdout",
     "output_type": "stream",
     "text": [
      "Los Gatos, Santa Cruz Mountains None None 444.9750 WB6KHP Santa Clara OPEN\n"
     ]
    },
    {
     "name": "stderr",
     "output_type": "stream",
     "text": [
      "Status code 429 from https://nominatim.openstreetmap.org/search: ERROR - 429 Client Error: Too Many Requests for url: https://nominatim.openstreetmap.org/search?q=Los+Osos%2C+Clark+Valley+%2F+Irish+Hills%2C+CA&format=jsonv2&addressdetails=1&limit=1\n",
      "Status code 429 from https://nominatim.openstreetmap.org/search: ERROR - 429 Client Error: Too Many Requests for url: https://nominatim.openstreetmap.org/search?q=Los+Osos%2C+Clark+Valley+%2F+Irish+Hills%2C+CA&format=jsonv2&addressdetails=1&limit=1\n"
     ]
    },
    {
     "name": "stdout",
     "output_type": "stream",
     "text": [
      "Los Osos, Clark Valley / Irish Hills None None 444.9750 W6SLO San Luis Obispo OPEN\n"
     ]
    },
    {
     "name": "stderr",
     "output_type": "stream",
     "text": [
      "Status code 429 from https://nominatim.openstreetmap.org/search: ERROR - 429 Client Error: Too Many Requests for url: https://nominatim.openstreetmap.org/search?q=Meadow+Lakes%2C+CA&format=jsonv2&addressdetails=1&limit=1\n",
      "Status code 429 from https://nominatim.openstreetmap.org/search: ERROR - 429 Client Error: Too Many Requests for url: https://nominatim.openstreetmap.org/search?q=Meadow+Lakes%2C+CA&format=jsonv2&addressdetails=1&limit=1\n"
     ]
    },
    {
     "name": "stdout",
     "output_type": "stream",
     "text": [
      "Meadow Lakes None None 444.9750 W6BJ Fresno OPEN\n"
     ]
    },
    {
     "name": "stderr",
     "output_type": "stream",
     "text": [
      "Status code 429 from https://nominatim.openstreetmap.org/search: ERROR - 429 Client Error: Too Many Requests for url: https://nominatim.openstreetmap.org/search?q=Susanville%2C+Inspiration+Point%2C+CA&format=jsonv2&addressdetails=1&limit=1\n",
      "Status code 429 from https://nominatim.openstreetmap.org/search: ERROR - 429 Client Error: Too Many Requests for url: https://nominatim.openstreetmap.org/search?q=Susanville%2C+Inspiration+Point%2C+CA&format=jsonv2&addressdetails=1&limit=1\n"
     ]
    },
    {
     "name": "stdout",
     "output_type": "stream",
     "text": [
      "Susanville, Inspiration Point None None 444.9750 K6ME Lassen OPEN\n"
     ]
    },
    {
     "name": "stderr",
     "output_type": "stream",
     "text": [
      "Status code 429 from https://nominatim.openstreetmap.org/search: ERROR - 429 Client Error: Too Many Requests for url: https://nominatim.openstreetmap.org/search?q=Sebastopol%2C+CA&format=jsonv2&addressdetails=1&limit=1\n",
      "Status code 429 from https://nominatim.openstreetmap.org/search: ERROR - 429 Client Error: Too Many Requests for url: https://nominatim.openstreetmap.org/search?q=Sebastopol%2C+CA&format=jsonv2&addressdetails=1&limit=1\n"
     ]
    },
    {
     "name": "stdout",
     "output_type": "stream",
     "text": [
      "Sebastopol None None 444.9875 KC6SOT Sonoma OPEN\n"
     ]
    },
    {
     "name": "stderr",
     "output_type": "stream",
     "text": [
      "Status code 429 from https://nominatim.openstreetmap.org/search: ERROR - 429 Client Error: Too Many Requests for url: https://nominatim.openstreetmap.org/search?q=Sebastopol%2C+CA&format=jsonv2&addressdetails=1&limit=1\n",
      "Status code 429 from https://nominatim.openstreetmap.org/search: ERROR - 429 Client Error: Too Many Requests for url: https://nominatim.openstreetmap.org/search?q=Sebastopol%2C+CA&format=jsonv2&addressdetails=1&limit=1\n"
     ]
    },
    {
     "name": "stdout",
     "output_type": "stream",
     "text": [
      "Sebastopol None None 444.9875 KC6SOT Sonoma OPEN\n"
     ]
    },
    {
     "name": "stderr",
     "output_type": "stream",
     "text": [
      "Status code 429 from https://nominatim.openstreetmap.org/search: ERROR - 429 Client Error: Too Many Requests for url: https://nominatim.openstreetmap.org/search?q=Tahoma%2C+Spider+Lake%2C+CA&format=jsonv2&addressdetails=1&limit=1\n",
      "Status code 429 from https://nominatim.openstreetmap.org/search: ERROR - 429 Client Error: Too Many Requests for url: https://nominatim.openstreetmap.org/search?q=Tahoma%2C+Spider+Lake%2C+CA&format=jsonv2&addressdetails=1&limit=1\n"
     ]
    },
    {
     "name": "stdout",
     "output_type": "stream",
     "text": [
      "Tahoma, Spider Lake None None 444.9875  Placer OPEN\n"
     ]
    },
    {
     "name": "stderr",
     "output_type": "stream",
     "text": [
      "Status code 429 from https://nominatim.openstreetmap.org/search: ERROR - 429 Client Error: Too Many Requests for url: https://nominatim.openstreetmap.org/search?q=Cedarpines+Park%2C+Jobs+Peak%2C+CA&format=jsonv2&addressdetails=1&limit=1\n",
      "Status code 429 from https://nominatim.openstreetmap.org/search: ERROR - 429 Client Error: Too Many Requests for url: https://nominatim.openstreetmap.org/search?q=Cedarpines+Park%2C+Jobs+Peak%2C+CA&format=jsonv2&addressdetails=1&limit=1\n"
     ]
    },
    {
     "name": "stdout",
     "output_type": "stream",
     "text": [
      "Cedarpines Park, Jobs Peak None None 445.0200 W6CDF San Bernardino OPEN\n"
     ]
    },
    {
     "name": "stderr",
     "output_type": "stream",
     "text": [
      "Status code 429 from https://nominatim.openstreetmap.org/search: ERROR - 429 Client Error: Too Many Requests for url: https://nominatim.openstreetmap.org/search?q=La+Mesa%2C+CA&format=jsonv2&addressdetails=1&limit=1\n",
      "Status code 429 from https://nominatim.openstreetmap.org/search: ERROR - 429 Client Error: Too Many Requests for url: https://nominatim.openstreetmap.org/search?q=La+Mesa%2C+CA&format=jsonv2&addressdetails=1&limit=1\n"
     ]
    },
    {
     "name": "stdout",
     "output_type": "stream",
     "text": [
      "La Mesa None None 445.0200 WA6HYQ San Diego CLOSED\n"
     ]
    },
    {
     "name": "stderr",
     "output_type": "stream",
     "text": [
      "Status code 429 from https://nominatim.openstreetmap.org/search: ERROR - 429 Client Error: Too Many Requests for url: https://nominatim.openstreetmap.org/search?q=Sylmar%2C+Contractors+Pt%2C+CA&format=jsonv2&addressdetails=1&limit=1\n",
      "Status code 429 from https://nominatim.openstreetmap.org/search: ERROR - 429 Client Error: Too Many Requests for url: https://nominatim.openstreetmap.org/search?q=Sylmar%2C+Contractors+Pt%2C+CA&format=jsonv2&addressdetails=1&limit=1\n"
     ]
    },
    {
     "name": "stdout",
     "output_type": "stream",
     "text": [
      "Sylmar, Contractors Pt None None 445.0400 K6HOG Los Angeles OPEN\n"
     ]
    },
    {
     "name": "stderr",
     "output_type": "stream",
     "text": [
      "Status code 429 from https://nominatim.openstreetmap.org/search: ERROR - 429 Client Error: Too Many Requests for url: https://nominatim.openstreetmap.org/search?q=Alhambra%2C+Cal+State+LA%2C+CA&format=jsonv2&addressdetails=1&limit=1\n",
      "Status code 429 from https://nominatim.openstreetmap.org/search: ERROR - 429 Client Error: Too Many Requests for url: https://nominatim.openstreetmap.org/search?q=Alhambra%2C+Cal+State+LA%2C+CA&format=jsonv2&addressdetails=1&limit=1\n"
     ]
    },
    {
     "name": "stdout",
     "output_type": "stream",
     "text": [
      "Alhambra, Cal State LA None None 445.0600 KM6EON Los Angeles OPEN\n"
     ]
    },
    {
     "name": "stderr",
     "output_type": "stream",
     "text": [
      "Status code 429 from https://nominatim.openstreetmap.org/search: ERROR - 429 Client Error: Too Many Requests for url: https://nominatim.openstreetmap.org/search?q=Riverside%2C+CA&format=jsonv2&addressdetails=1&limit=1\n",
      "Status code 429 from https://nominatim.openstreetmap.org/search: ERROR - 429 Client Error: Too Many Requests for url: https://nominatim.openstreetmap.org/search?q=Riverside%2C+CA&format=jsonv2&addressdetails=1&limit=1\n"
     ]
    },
    {
     "name": "stdout",
     "output_type": "stream",
     "text": [
      "Riverside None None 445.0600 KB6OZX Riverside OPEN\n"
     ]
    },
    {
     "name": "stderr",
     "output_type": "stream",
     "text": [
      "Status code 429 from https://nominatim.openstreetmap.org/search: ERROR - 429 Client Error: Too Many Requests for url: https://nominatim.openstreetmap.org/search?q=Diamond+Bar%2C+CA&format=jsonv2&addressdetails=1&limit=1\n",
      "Status code 429 from https://nominatim.openstreetmap.org/search: ERROR - 429 Client Error: Too Many Requests for url: https://nominatim.openstreetmap.org/search?q=Diamond+Bar%2C+CA&format=jsonv2&addressdetails=1&limit=1\n"
     ]
    },
    {
     "name": "stdout",
     "output_type": "stream",
     "text": [
      "Diamond Bar None None 445.0800 NO6B Los Angeles OPEN\n"
     ]
    },
    {
     "name": "stderr",
     "output_type": "stream",
     "text": [
      "Status code 429 from https://nominatim.openstreetmap.org/search: ERROR - 429 Client Error: Too Many Requests for url: https://nominatim.openstreetmap.org/search?q=Temecula%2C+CA&format=jsonv2&addressdetails=1&limit=1\n",
      "Status code 429 from https://nominatim.openstreetmap.org/search: ERROR - 429 Client Error: Too Many Requests for url: https://nominatim.openstreetmap.org/search?q=Temecula%2C+CA&format=jsonv2&addressdetails=1&limit=1\n"
     ]
    },
    {
     "name": "stdout",
     "output_type": "stream",
     "text": [
      "Temecula None None 445.0800 KE6UPI Riverside OPEN\n"
     ]
    },
    {
     "name": "stderr",
     "output_type": "stream",
     "text": [
      "Status code 429 from https://nominatim.openstreetmap.org/search: ERROR - 429 Client Error: Too Many Requests for url: https://nominatim.openstreetmap.org/search?q=Aliso+Viejo%2C+CA&format=jsonv2&addressdetails=1&limit=1\n",
      "Status code 429 from https://nominatim.openstreetmap.org/search: ERROR - 429 Client Error: Too Many Requests for url: https://nominatim.openstreetmap.org/search?q=Aliso+Viejo%2C+CA&format=jsonv2&addressdetails=1&limit=1\n"
     ]
    },
    {
     "name": "stdout",
     "output_type": "stream",
     "text": [
      "Aliso Viejo None None 445.1000 KI6DB Orange OPEN\n"
     ]
    },
    {
     "name": "stderr",
     "output_type": "stream",
     "text": [
      "Status code 429 from https://nominatim.openstreetmap.org/search: ERROR - 429 Client Error: Too Many Requests for url: https://nominatim.openstreetmap.org/search?q=Chatsworth%2C+Oat+Mountain%2C+CA&format=jsonv2&addressdetails=1&limit=1\n",
      "Status code 429 from https://nominatim.openstreetmap.org/search: ERROR - 429 Client Error: Too Many Requests for url: https://nominatim.openstreetmap.org/search?q=Chatsworth%2C+Oat+Mountain%2C+CA&format=jsonv2&addressdetails=1&limit=1\n"
     ]
    },
    {
     "name": "stdout",
     "output_type": "stream",
     "text": [
      "Chatsworth, Oat Mountain None None 445.1000 WB6NIL Los Angeles OPEN\n"
     ]
    },
    {
     "name": "stderr",
     "output_type": "stream",
     "text": [
      "Status code 429 from https://nominatim.openstreetmap.org/search: ERROR - 429 Client Error: Too Many Requests for url: https://nominatim.openstreetmap.org/search?q=Lake+Arrowhead%2C+Heaps+Peak%2C+CA&format=jsonv2&addressdetails=1&limit=1\n",
      "Status code 429 from https://nominatim.openstreetmap.org/search: ERROR - 429 Client Error: Too Many Requests for url: https://nominatim.openstreetmap.org/search?q=Lake+Arrowhead%2C+Heaps+Peak%2C+CA&format=jsonv2&addressdetails=1&limit=1\n"
     ]
    },
    {
     "name": "stdout",
     "output_type": "stream",
     "text": [
      "Lake Arrowhead, Heaps Peak None None 445.1000 WW6Y San Bernardino OPEN\n"
     ]
    },
    {
     "name": "stderr",
     "output_type": "stream",
     "text": [
      "Status code 429 from https://nominatim.openstreetmap.org/search: ERROR - 429 Client Error: Too Many Requests for url: https://nominatim.openstreetmap.org/search?q=Fullerton%2C+Fullerton+Hills%2C+CA&format=jsonv2&addressdetails=1&limit=1\n",
      "Status code 429 from https://nominatim.openstreetmap.org/search: ERROR - 429 Client Error: Too Many Requests for url: https://nominatim.openstreetmap.org/search?q=Fullerton%2C+Fullerton+Hills%2C+CA&format=jsonv2&addressdetails=1&limit=1\n"
     ]
    },
    {
     "name": "stdout",
     "output_type": "stream",
     "text": [
      "Fullerton, Fullerton Hills None None 445.1200 KK6HS Orange PRIVATE\n"
     ]
    },
    {
     "name": "stderr",
     "output_type": "stream",
     "text": [
      "Status code 429 from https://nominatim.openstreetmap.org/search: ERROR - 429 Client Error: Too Many Requests for url: https://nominatim.openstreetmap.org/search?q=Yucaipa%2C+Little+San+Gorgonio+Peak%2C+CA&format=jsonv2&addressdetails=1&limit=1\n",
      "Status code 429 from https://nominatim.openstreetmap.org/search: ERROR - 429 Client Error: Too Many Requests for url: https://nominatim.openstreetmap.org/search?q=Yucaipa%2C+Little+San+Gorgonio+Peak%2C+CA&format=jsonv2&addressdetails=1&limit=1\n"
     ]
    },
    {
     "name": "stdout",
     "output_type": "stream",
     "text": [
      "Yucaipa, Little San Gorgonio Peak None None 445.1400 W6DXX San Bernardino CLOSED\n"
     ]
    },
    {
     "name": "stderr",
     "output_type": "stream",
     "text": [
      "Status code 429 from https://nominatim.openstreetmap.org/search: ERROR - 429 Client Error: Too Many Requests for url: https://nominatim.openstreetmap.org/search?q=Banning%2C+Snow+Peak%2C+CA&format=jsonv2&addressdetails=1&limit=1\n",
      "Status code 429 from https://nominatim.openstreetmap.org/search: ERROR - 429 Client Error: Too Many Requests for url: https://nominatim.openstreetmap.org/search?q=Banning%2C+Snow+Peak%2C+CA&format=jsonv2&addressdetails=1&limit=1\n"
     ]
    },
    {
     "name": "stdout",
     "output_type": "stream",
     "text": [
      "Banning, Snow Peak None None 445.1600 W6CTR San Bernardino OPEN\n"
     ]
    },
    {
     "name": "stderr",
     "output_type": "stream",
     "text": [
      "Status code 429 from https://nominatim.openstreetmap.org/search: ERROR - 429 Client Error: Too Many Requests for url: https://nominatim.openstreetmap.org/search?q=Malibu%2C+Saddle+Peak%2C+CA&format=jsonv2&addressdetails=1&limit=1\n",
      "Status code 429 from https://nominatim.openstreetmap.org/search: ERROR - 429 Client Error: Too Many Requests for url: https://nominatim.openstreetmap.org/search?q=Malibu%2C+Saddle+Peak%2C+CA&format=jsonv2&addressdetails=1&limit=1\n"
     ]
    },
    {
     "name": "stdout",
     "output_type": "stream",
     "text": [
      "Malibu, Saddle Peak None None 445.1800 WB6ZTR Los Angeles PRIVATE\n"
     ]
    },
    {
     "name": "stderr",
     "output_type": "stream",
     "text": [
      "Status code 429 from https://nominatim.openstreetmap.org/search: ERROR - 429 Client Error: Too Many Requests for url: https://nominatim.openstreetmap.org/search?q=Moreno+Valley%2C+Reche+Peak%2C+CA&format=jsonv2&addressdetails=1&limit=1\n",
      "Status code 429 from https://nominatim.openstreetmap.org/search: ERROR - 429 Client Error: Too Many Requests for url: https://nominatim.openstreetmap.org/search?q=Moreno+Valley%2C+Reche+Peak%2C+CA&format=jsonv2&addressdetails=1&limit=1\n"
     ]
    },
    {
     "name": "stdout",
     "output_type": "stream",
     "text": [
      "Moreno Valley, Reche Peak None None 445.1800 KJ6QFS Riverside PRIVATE\n"
     ]
    },
    {
     "name": "stderr",
     "output_type": "stream",
     "text": [
      "Status code 429 from https://nominatim.openstreetmap.org/search: ERROR - 429 Client Error: Too Many Requests for url: https://nominatim.openstreetmap.org/search?q=La+Canada%2C+JPL+%28building%29%2C+CA&format=jsonv2&addressdetails=1&limit=1\n",
      "Status code 429 from https://nominatim.openstreetmap.org/search: ERROR - 429 Client Error: Too Many Requests for url: https://nominatim.openstreetmap.org/search?q=La+Canada%2C+JPL+%28building%29%2C+CA&format=jsonv2&addressdetails=1&limit=1\n"
     ]
    },
    {
     "name": "stdout",
     "output_type": "stream",
     "text": [
      "La Canada, JPL (building) None None 445.2000 WR6JPL Los Angeles OPEN\n"
     ]
    },
    {
     "name": "stderr",
     "output_type": "stream",
     "text": [
      "Status code 429 from https://nominatim.openstreetmap.org/search: ERROR - 429 Client Error: Too Many Requests for url: https://nominatim.openstreetmap.org/search?q=Oceanside%2C+CA&format=jsonv2&addressdetails=1&limit=1\n",
      "Status code 429 from https://nominatim.openstreetmap.org/search: ERROR - 429 Client Error: Too Many Requests for url: https://nominatim.openstreetmap.org/search?q=Oceanside%2C+CA&format=jsonv2&addressdetails=1&limit=1\n"
     ]
    },
    {
     "name": "stdout",
     "output_type": "stream",
     "text": [
      "Oceanside None None 445.2000 W6BJB San Diego OPEN\n"
     ]
    },
    {
     "name": "stderr",
     "output_type": "stream",
     "text": [
      "Status code 429 from https://nominatim.openstreetmap.org/search: ERROR - 429 Client Error: Too Many Requests for url: https://nominatim.openstreetmap.org/search?q=Pasadena%2C+JPL+Mesa%2C+CA&format=jsonv2&addressdetails=1&limit=1\n",
      "Status code 429 from https://nominatim.openstreetmap.org/search: ERROR - 429 Client Error: Too Many Requests for url: https://nominatim.openstreetmap.org/search?q=Pasadena%2C+JPL+Mesa%2C+CA&format=jsonv2&addressdetails=1&limit=1\n"
     ]
    },
    {
     "name": "stdout",
     "output_type": "stream",
     "text": [
      "Pasadena, JPL Mesa None None 445.2000 WR6JPL Los Angeles OPEN\n"
     ]
    },
    {
     "name": "stderr",
     "output_type": "stream",
     "text": [
      "Status code 429 from https://nominatim.openstreetmap.org/search: ERROR - 429 Client Error: Too Many Requests for url: https://nominatim.openstreetmap.org/search?q=Alhambra%2C+CA&format=jsonv2&addressdetails=1&limit=1\n",
      "Status code 429 from https://nominatim.openstreetmap.org/search: ERROR - 429 Client Error: Too Many Requests for url: https://nominatim.openstreetmap.org/search?q=Alhambra%2C+CA&format=jsonv2&addressdetails=1&limit=1\n"
     ]
    },
    {
     "name": "stdout",
     "output_type": "stream",
     "text": [
      "Alhambra None None 445.2200 WB6NIL Los Angeles OPEN\n"
     ]
    },
    {
     "name": "stderr",
     "output_type": "stream",
     "text": [
      "Status code 429 from https://nominatim.openstreetmap.org/search: ERROR - 429 Client Error: Too Many Requests for url: https://nominatim.openstreetmap.org/search?q=Corona%2C+CA&format=jsonv2&addressdetails=1&limit=1\n",
      "Status code 429 from https://nominatim.openstreetmap.org/search: ERROR - 429 Client Error: Too Many Requests for url: https://nominatim.openstreetmap.org/search?q=Corona%2C+CA&format=jsonv2&addressdetails=1&limit=1\n"
     ]
    },
    {
     "name": "stdout",
     "output_type": "stream",
     "text": [
      "Corona None None 445.2200 KE6PCV Riverside CLOSED\n"
     ]
    },
    {
     "name": "stderr",
     "output_type": "stream",
     "text": [
      "Status code 429 from https://nominatim.openstreetmap.org/search: ERROR - 429 Client Error: Too Many Requests for url: https://nominatim.openstreetmap.org/search?q=Fallbrook%2C+Red+Mountain%2C+CA&format=jsonv2&addressdetails=1&limit=1\n",
      "Status code 429 from https://nominatim.openstreetmap.org/search: ERROR - 429 Client Error: Too Many Requests for url: https://nominatim.openstreetmap.org/search?q=Fallbrook%2C+Red+Mountain%2C+CA&format=jsonv2&addressdetails=1&limit=1\n"
     ]
    },
    {
     "name": "stdout",
     "output_type": "stream",
     "text": [
      "Fallbrook, Red Mountain None None 445.2200 KF6ATL San Diego PRIVATE\n"
     ]
    },
    {
     "name": "stderr",
     "output_type": "stream",
     "text": [
      "Status code 429 from https://nominatim.openstreetmap.org/search: ERROR - 429 Client Error: Too Many Requests for url: https://nominatim.openstreetmap.org/search?q=Sun+Valley%2C+CA&format=jsonv2&addressdetails=1&limit=1\n",
      "Status code 429 from https://nominatim.openstreetmap.org/search: ERROR - 429 Client Error: Too Many Requests for url: https://nominatim.openstreetmap.org/search?q=Sun+Valley%2C+CA&format=jsonv2&addressdetails=1&limit=1\n"
     ]
    },
    {
     "name": "stdout",
     "output_type": "stream",
     "text": [
      "Sun Valley None None 445.2200 KC6HUR Los Angeles OPEN\n"
     ]
    },
    {
     "name": "stderr",
     "output_type": "stream",
     "text": [
      "Status code 429 from https://nominatim.openstreetmap.org/search: ERROR - 429 Client Error: Too Many Requests for url: https://nominatim.openstreetmap.org/search?q=El+Segundo%2C+CA&format=jsonv2&addressdetails=1&limit=1\n",
      "Status code 429 from https://nominatim.openstreetmap.org/search: ERROR - 429 Client Error: Too Many Requests for url: https://nominatim.openstreetmap.org/search?q=El+Segundo%2C+CA&format=jsonv2&addressdetails=1&limit=1\n"
     ]
    },
    {
     "name": "stdout",
     "output_type": "stream",
     "text": [
      "El Segundo None None 445.2400 WB6VMV Los Angeles CLOSED\n"
     ]
    },
    {
     "name": "stderr",
     "output_type": "stream",
     "text": [
      "Status code 429 from https://nominatim.openstreetmap.org/search: ERROR - 429 Client Error: Too Many Requests for url: https://nominatim.openstreetmap.org/search?q=Wrightwood%2C+CA&format=jsonv2&addressdetails=1&limit=1\n",
      "Status code 429 from https://nominatim.openstreetmap.org/search: ERROR - 429 Client Error: Too Many Requests for url: https://nominatim.openstreetmap.org/search?q=Wrightwood%2C+CA&format=jsonv2&addressdetails=1&limit=1\n"
     ]
    },
    {
     "name": "stdout",
     "output_type": "stream",
     "text": [
      "Wrightwood None None 445.2400 KW6WW San Bernardino OPEN\n"
     ]
    },
    {
     "name": "stderr",
     "output_type": "stream",
     "text": [
      "Status code 429 from https://nominatim.openstreetmap.org/search: ERROR - 429 Client Error: Too Many Requests for url: https://nominatim.openstreetmap.org/search?q=Verdugo+Peak%2C+Verdugo+Peak%2C+CA&format=jsonv2&addressdetails=1&limit=1\n",
      "Status code 429 from https://nominatim.openstreetmap.org/search: ERROR - 429 Client Error: Too Many Requests for url: https://nominatim.openstreetmap.org/search?q=Verdugo+Peak%2C+Verdugo+Peak%2C+CA&format=jsonv2&addressdetails=1&limit=1\n"
     ]
    },
    {
     "name": "stdout",
     "output_type": "stream",
     "text": [
      "Verdugo Peak, Verdugo Peak None None 445.2600 K6VGP Los Angeles PRIVATE\n"
     ]
    },
    {
     "name": "stderr",
     "output_type": "stream",
     "text": [
      "Status code 429 from https://nominatim.openstreetmap.org/search: ERROR - 429 Client Error: Too Many Requests for url: https://nominatim.openstreetmap.org/search?q=Palos+Verdes%2C+San+Pedro+Hill%2C+CA&format=jsonv2&addressdetails=1&limit=1\n",
      "Status code 429 from https://nominatim.openstreetmap.org/search: ERROR - 429 Client Error: Too Many Requests for url: https://nominatim.openstreetmap.org/search?q=Palos+Verdes%2C+San+Pedro+Hill%2C+CA&format=jsonv2&addressdetails=1&limit=1\n"
     ]
    },
    {
     "name": "stdout",
     "output_type": "stream",
     "text": [
      "Palos Verdes, San Pedro Hill None None 445.2800 K6VGP Los Angeles PRIVATE\n"
     ]
    },
    {
     "name": "stderr",
     "output_type": "stream",
     "text": [
      "Status code 429 from https://nominatim.openstreetmap.org/search: ERROR - 429 Client Error: Too Many Requests for url: https://nominatim.openstreetmap.org/search?q=Orange%2C+UCI+Med+Ctr%2C+CA&format=jsonv2&addressdetails=1&limit=1\n",
      "Status code 429 from https://nominatim.openstreetmap.org/search: ERROR - 429 Client Error: Too Many Requests for url: https://nominatim.openstreetmap.org/search?q=Orange%2C+UCI+Med+Ctr%2C+CA&format=jsonv2&addressdetails=1&limit=1\n"
     ]
    },
    {
     "name": "stdout",
     "output_type": "stream",
     "text": [
      "Orange, UCI Med Ctr None None 445.3000 WA6IGJ Orange CLOSED\n"
     ]
    },
    {
     "name": "stderr",
     "output_type": "stream",
     "text": [
      "Status code 429 from https://nominatim.openstreetmap.org/search: ERROR - 429 Client Error: Too Many Requests for url: https://nominatim.openstreetmap.org/search?q=Palos+Verdes%2C+CA&format=jsonv2&addressdetails=1&limit=1\n",
      "Status code 429 from https://nominatim.openstreetmap.org/search: ERROR - 429 Client Error: Too Many Requests for url: https://nominatim.openstreetmap.org/search?q=Palos+Verdes%2C+CA&format=jsonv2&addressdetails=1&limit=1\n"
     ]
    },
    {
     "name": "stdout",
     "output_type": "stream",
     "text": [
      "Palos Verdes None None 445.3000 K6RH Los Angeles OPEN\n"
     ]
    },
    {
     "name": "stderr",
     "output_type": "stream",
     "text": [
      "Status code 429 from https://nominatim.openstreetmap.org/search: ERROR - 429 Client Error: Too Many Requests for url: https://nominatim.openstreetmap.org/search?q=Redlands%2C+CA&format=jsonv2&addressdetails=1&limit=1\n",
      "Status code 429 from https://nominatim.openstreetmap.org/search: ERROR - 429 Client Error: Too Many Requests for url: https://nominatim.openstreetmap.org/search?q=Redlands%2C+CA&format=jsonv2&addressdetails=1&limit=1\n"
     ]
    },
    {
     "name": "stdout",
     "output_type": "stream",
     "text": [
      "Redlands None None 445.3000 AI6BX San Bernardino OPEN\n"
     ]
    },
    {
     "name": "stderr",
     "output_type": "stream",
     "text": [
      "Status code 429 from https://nominatim.openstreetmap.org/search: ERROR - 429 Client Error: Too Many Requests for url: https://nominatim.openstreetmap.org/search?q=Santa+Clarita%2C+Mad+Mountain%2C+CA&format=jsonv2&addressdetails=1&limit=1\n",
      "Status code 429 from https://nominatim.openstreetmap.org/search: ERROR - 429 Client Error: Too Many Requests for url: https://nominatim.openstreetmap.org/search?q=Santa+Clarita%2C+Mad+Mountain%2C+CA&format=jsonv2&addressdetails=1&limit=1\n"
     ]
    },
    {
     "name": "stdout",
     "output_type": "stream",
     "text": [
      "Santa Clarita, Mad Mountain None None 445.3000 W6JW Los Angeles OPEN\n"
     ]
    },
    {
     "name": "stderr",
     "output_type": "stream",
     "text": [
      "Status code 429 from https://nominatim.openstreetmap.org/search: ERROR - 429 Client Error: Too Many Requests for url: https://nominatim.openstreetmap.org/search?q=Temecula%2C+CA&format=jsonv2&addressdetails=1&limit=1\n",
      "Status code 429 from https://nominatim.openstreetmap.org/search: ERROR - 429 Client Error: Too Many Requests for url: https://nominatim.openstreetmap.org/search?q=Temecula%2C+CA&format=jsonv2&addressdetails=1&limit=1\n"
     ]
    },
    {
     "name": "stdout",
     "output_type": "stream",
     "text": [
      "Temecula None None 445.3000 W6CDF Riverside OPEN\n"
     ]
    },
    {
     "name": "stderr",
     "output_type": "stream",
     "text": [
      "Status code 429 from https://nominatim.openstreetmap.org/search: ERROR - 429 Client Error: Too Many Requests for url: https://nominatim.openstreetmap.org/search?q=Culver+City%2C+Baldwin+Hills%2C+CA&format=jsonv2&addressdetails=1&limit=1\n",
      "Status code 429 from https://nominatim.openstreetmap.org/search: ERROR - 429 Client Error: Too Many Requests for url: https://nominatim.openstreetmap.org/search?q=Culver+City%2C+Baldwin+Hills%2C+CA&format=jsonv2&addressdetails=1&limit=1\n"
     ]
    },
    {
     "name": "stdout",
     "output_type": "stream",
     "text": [
      "Culver City, Baldwin Hills None None 445.3200 WA6MDJ Los Angeles OPEN\n"
     ]
    },
    {
     "name": "stderr",
     "output_type": "stream",
     "text": [
      "Status code 429 from https://nominatim.openstreetmap.org/search: ERROR - 429 Client Error: Too Many Requests for url: https://nominatim.openstreetmap.org/search?q=Redlands%2C+Sunset+Hills%2C+CA&format=jsonv2&addressdetails=1&limit=1\n",
      "Status code 429 from https://nominatim.openstreetmap.org/search: ERROR - 429 Client Error: Too Many Requests for url: https://nominatim.openstreetmap.org/search?q=Redlands%2C+Sunset+Hills%2C+CA&format=jsonv2&addressdetails=1&limit=1\n"
     ]
    },
    {
     "name": "stdout",
     "output_type": "stream",
     "text": [
      "Redlands, Sunset Hills None None 445.3400 AI6BX San Bernardino CLOSED\n"
     ]
    },
    {
     "name": "stderr",
     "output_type": "stream",
     "text": [
      "Status code 429 from https://nominatim.openstreetmap.org/search: ERROR - 429 Client Error: Too Many Requests for url: https://nominatim.openstreetmap.org/search?q=Spring+Valley%2C+Dictionary+Hill%2C+CA&format=jsonv2&addressdetails=1&limit=1\n",
      "Status code 429 from https://nominatim.openstreetmap.org/search: ERROR - 429 Client Error: Too Many Requests for url: https://nominatim.openstreetmap.org/search?q=Spring+Valley%2C+Dictionary+Hill%2C+CA&format=jsonv2&addressdetails=1&limit=1\n"
     ]
    },
    {
     "name": "stdout",
     "output_type": "stream",
     "text": [
      "Spring Valley, Dictionary Hill None None 445.3400 N6RVI San Diego OPEN\n"
     ]
    },
    {
     "name": "stderr",
     "output_type": "stream",
     "text": [
      "Status code 429 from https://nominatim.openstreetmap.org/search: ERROR - 429 Client Error: Too Many Requests for url: https://nominatim.openstreetmap.org/search?q=Sylmar%2C+Contractors+Point%2C+CA&format=jsonv2&addressdetails=1&limit=1\n",
      "Status code 429 from https://nominatim.openstreetmap.org/search: ERROR - 429 Client Error: Too Many Requests for url: https://nominatim.openstreetmap.org/search?q=Sylmar%2C+Contractors+Point%2C+CA&format=jsonv2&addressdetails=1&limit=1\n"
     ]
    },
    {
     "name": "stdout",
     "output_type": "stream",
     "text": [
      "Sylmar, Contractors Point None None 445.3400 KC6JAR Los Angeles OPEN\n"
     ]
    },
    {
     "name": "stderr",
     "output_type": "stream",
     "text": [
      "Status code 429 from https://nominatim.openstreetmap.org/search: ERROR - 429 Client Error: Too Many Requests for url: https://nominatim.openstreetmap.org/search?q=Glendale%2C+Flint+Peak%2C+CA&format=jsonv2&addressdetails=1&limit=1\n",
      "Status code 429 from https://nominatim.openstreetmap.org/search: ERROR - 429 Client Error: Too Many Requests for url: https://nominatim.openstreetmap.org/search?q=Glendale%2C+Flint+Peak%2C+CA&format=jsonv2&addressdetails=1&limit=1\n"
     ]
    },
    {
     "name": "stdout",
     "output_type": "stream",
     "text": [
      "Glendale, Flint Peak None None 445.3800 K6CCC Los Angeles PRIVATE\n"
     ]
    },
    {
     "name": "stderr",
     "output_type": "stream",
     "text": [
      "Status code 429 from https://nominatim.openstreetmap.org/search: ERROR - 429 Client Error: Too Many Requests for url: https://nominatim.openstreetmap.org/search?q=Moreno+Valley%2C+Box+Springs%2C+CA&format=jsonv2&addressdetails=1&limit=1\n",
      "Status code 429 from https://nominatim.openstreetmap.org/search: ERROR - 429 Client Error: Too Many Requests for url: https://nominatim.openstreetmap.org/search?q=Moreno+Valley%2C+Box+Springs%2C+CA&format=jsonv2&addressdetails=1&limit=1\n"
     ]
    },
    {
     "name": "stdout",
     "output_type": "stream",
     "text": [
      "Moreno Valley, Box Springs None None 445.3800 WA6LSE Riverside CLOSED\n"
     ]
    },
    {
     "name": "stderr",
     "output_type": "stream",
     "text": [
      "Status code 429 from https://nominatim.openstreetmap.org/search: ERROR - 429 Client Error: Too Many Requests for url: https://nominatim.openstreetmap.org/search?q=Irvine%2C+Signal+Peak%2C+CA&format=jsonv2&addressdetails=1&limit=1\n",
      "Status code 429 from https://nominatim.openstreetmap.org/search: ERROR - 429 Client Error: Too Many Requests for url: https://nominatim.openstreetmap.org/search?q=Irvine%2C+Signal+Peak%2C+CA&format=jsonv2&addressdetails=1&limit=1\n"
     ]
    },
    {
     "name": "stdout",
     "output_type": "stream",
     "text": [
      "Irvine, Signal Peak None None 445.4000 WD6DIH Orange CLOSED\n"
     ]
    },
    {
     "name": "stderr",
     "output_type": "stream",
     "text": [
      "Status code 429 from https://nominatim.openstreetmap.org/search: ERROR - 429 Client Error: Too Many Requests for url: https://nominatim.openstreetmap.org/search?q=Santa+Monica%2C+Saddle+Peak%2C+CA&format=jsonv2&addressdetails=1&limit=1\n",
      "Status code 429 from https://nominatim.openstreetmap.org/search: ERROR - 429 Client Error: Too Many Requests for url: https://nominatim.openstreetmap.org/search?q=Santa+Monica%2C+Saddle+Peak%2C+CA&format=jsonv2&addressdetails=1&limit=1\n"
     ]
    },
    {
     "name": "stdout",
     "output_type": "stream",
     "text": [
      "Santa Monica, Saddle Peak None None 445.4200 WD6FZA Los Angeles OPEN\n"
     ]
    },
    {
     "name": "stderr",
     "output_type": "stream",
     "text": [
      "Status code 429 from https://nominatim.openstreetmap.org/search: ERROR - 429 Client Error: Too Many Requests for url: https://nominatim.openstreetmap.org/search?q=Pasadena%2C+Mirador+Peak%2C+CA&format=jsonv2&addressdetails=1&limit=1\n",
      "Status code 429 from https://nominatim.openstreetmap.org/search: ERROR - 429 Client Error: Too Many Requests for url: https://nominatim.openstreetmap.org/search?q=Pasadena%2C+Mirador+Peak%2C+CA&format=jsonv2&addressdetails=1&limit=1\n"
     ]
    },
    {
     "name": "stdout",
     "output_type": "stream",
     "text": [
      "Pasadena, Mirador Peak None None 445.4400 W6UE Los Angeles PRIVATE\n"
     ]
    },
    {
     "name": "stderr",
     "output_type": "stream",
     "text": [
      "Status code 429 from https://nominatim.openstreetmap.org/search: ERROR - 429 Client Error: Too Many Requests for url: https://nominatim.openstreetmap.org/search?q=Chatsworth+Peak%2C+CA&format=jsonv2&addressdetails=1&limit=1\n",
      "Status code 429 from https://nominatim.openstreetmap.org/search: ERROR - 429 Client Error: Too Many Requests for url: https://nominatim.openstreetmap.org/search?q=Chatsworth+Peak%2C+CA&format=jsonv2&addressdetails=1&limit=1\n"
     ]
    },
    {
     "name": "stdout",
     "output_type": "stream",
     "text": [
      "Chatsworth Peak None None 445.4600 K6LAM Ventura CLOSED\n"
     ]
    },
    {
     "name": "stderr",
     "output_type": "stream",
     "text": [
      "Status code 429 from https://nominatim.openstreetmap.org/search: ERROR - 429 Client Error: Too Many Requests for url: https://nominatim.openstreetmap.org/search?q=Lake+Arrowhead%2C+CA&format=jsonv2&addressdetails=1&limit=1\n",
      "Status code 429 from https://nominatim.openstreetmap.org/search: ERROR - 429 Client Error: Too Many Requests for url: https://nominatim.openstreetmap.org/search?q=Lake+Arrowhead%2C+CA&format=jsonv2&addressdetails=1&limit=1\n"
     ]
    },
    {
     "name": "stdout",
     "output_type": "stream",
     "text": [
      "Lake Arrowhead None None 445.4600 NO6B San Bernardino PRIVATE\n"
     ]
    },
    {
     "name": "stderr",
     "output_type": "stream",
     "text": [
      "Status code 429 from https://nominatim.openstreetmap.org/search: ERROR - 429 Client Error: Too Many Requests for url: https://nominatim.openstreetmap.org/search?q=Arcadia%2C+Santa+Anita+Ridge%2C+CA&format=jsonv2&addressdetails=1&limit=1\n",
      "Status code 429 from https://nominatim.openstreetmap.org/search: ERROR - 429 Client Error: Too Many Requests for url: https://nominatim.openstreetmap.org/search?q=Arcadia%2C+Santa+Anita+Ridge%2C+CA&format=jsonv2&addressdetails=1&limit=1\n"
     ]
    },
    {
     "name": "stdout",
     "output_type": "stream",
     "text": [
      "Arcadia, Santa Anita Ridge None None 445.4800 K6TEM Los Angeles OPEN\n"
     ]
    },
    {
     "name": "stderr",
     "output_type": "stream",
     "text": [
      "Status code 429 from https://nominatim.openstreetmap.org/search: ERROR - 429 Client Error: Too Many Requests for url: https://nominatim.openstreetmap.org/search?q=Palmdale%2C+Hauser+Peak%2C+CA&format=jsonv2&addressdetails=1&limit=1\n",
      "Status code 429 from https://nominatim.openstreetmap.org/search: ERROR - 429 Client Error: Too Many Requests for url: https://nominatim.openstreetmap.org/search?q=Palmdale%2C+Hauser+Peak%2C+CA&format=jsonv2&addressdetails=1&limit=1\n"
     ]
    },
    {
     "name": "stdout",
     "output_type": "stream",
     "text": [
      "Palmdale, Hauser Peak None None 445.4800 N6ND Los Angeles CLOSED\n"
     ]
    },
    {
     "name": "stderr",
     "output_type": "stream",
     "text": [
      "Status code 429 from https://nominatim.openstreetmap.org/search: ERROR - 429 Client Error: Too Many Requests for url: https://nominatim.openstreetmap.org/search?q=Santa+Barbara%2C+La+Vigia+Hill%2C+CA&format=jsonv2&addressdetails=1&limit=1\n",
      "Status code 429 from https://nominatim.openstreetmap.org/search: ERROR - 429 Client Error: Too Many Requests for url: https://nominatim.openstreetmap.org/search?q=Santa+Barbara%2C+La+Vigia+Hill%2C+CA&format=jsonv2&addressdetails=1&limit=1\n"
     ]
    },
    {
     "name": "stdout",
     "output_type": "stream",
     "text": [
      "Santa Barbara, La Vigia Hill None None 445.4800 K6TZ Santa Barbara OPEN\n"
     ]
    },
    {
     "name": "stderr",
     "output_type": "stream",
     "text": [
      "Status code 429 from https://nominatim.openstreetmap.org/search: ERROR - 429 Client Error: Too Many Requests for url: https://nominatim.openstreetmap.org/search?q=Arcadia%2C+Santa+Anita+Ridge%2C+CA&format=jsonv2&addressdetails=1&limit=1\n",
      "Status code 429 from https://nominatim.openstreetmap.org/search: ERROR - 429 Client Error: Too Many Requests for url: https://nominatim.openstreetmap.org/search?q=Arcadia%2C+Santa+Anita+Ridge%2C+CA&format=jsonv2&addressdetails=1&limit=1\n"
     ]
    },
    {
     "name": "stdout",
     "output_type": "stream",
     "text": [
      "Arcadia, Santa Anita Ridge None None 445.5000 N6EX Los Angeles CLOSED\n"
     ]
    },
    {
     "name": "stderr",
     "output_type": "stream",
     "text": [
      "Status code 429 from https://nominatim.openstreetmap.org/search: ERROR - 429 Client Error: Too Many Requests for url: https://nominatim.openstreetmap.org/search?q=Buena+Park%2C+Knotts+Berry+Farm%2C+CA&format=jsonv2&addressdetails=1&limit=1\n",
      "Status code 429 from https://nominatim.openstreetmap.org/search: ERROR - 429 Client Error: Too Many Requests for url: https://nominatim.openstreetmap.org/search?q=Buena+Park%2C+Knotts+Berry+Farm%2C+CA&format=jsonv2&addressdetails=1&limit=1\n"
     ]
    },
    {
     "name": "stdout",
     "output_type": "stream",
     "text": [
      "Buena Park, Knotts Berry Farm None None 445.5200 K6KBF Orange OPEN\n"
     ]
    },
    {
     "name": "stderr",
     "output_type": "stream",
     "text": [
      "Status code 429 from https://nominatim.openstreetmap.org/search: ERROR - 429 Client Error: Too Many Requests for url: https://nominatim.openstreetmap.org/search?q=Pacific+Palisades%2C+CA&format=jsonv2&addressdetails=1&limit=1\n",
      "Status code 429 from https://nominatim.openstreetmap.org/search: ERROR - 429 Client Error: Too Many Requests for url: https://nominatim.openstreetmap.org/search?q=Pacific+Palisades%2C+CA&format=jsonv2&addressdetails=1&limit=1\n"
     ]
    },
    {
     "name": "stdout",
     "output_type": "stream",
     "text": [
      "Pacific Palisades None None 445.5200 K6BDE Los Angeles OPEN\n"
     ]
    },
    {
     "name": "stderr",
     "output_type": "stream",
     "text": [
      "Status code 429 from https://nominatim.openstreetmap.org/search: ERROR - 429 Client Error: Too Many Requests for url: https://nominatim.openstreetmap.org/search?q=Rialto%2C+Fire+station%2C+CA&format=jsonv2&addressdetails=1&limit=1\n",
      "Status code 429 from https://nominatim.openstreetmap.org/search: ERROR - 429 Client Error: Too Many Requests for url: https://nominatim.openstreetmap.org/search?q=Rialto%2C+Fire+station%2C+CA&format=jsonv2&addressdetails=1&limit=1\n"
     ]
    },
    {
     "name": "stdout",
     "output_type": "stream",
     "text": [
      "Rialto, Fire station None None 445.5200 K6RIA San Bernardino OPEN\n"
     ]
    },
    {
     "name": "stderr",
     "output_type": "stream",
     "text": [
      "Status code 429 from https://nominatim.openstreetmap.org/search: ERROR - 429 Client Error: Too Many Requests for url: https://nominatim.openstreetmap.org/search?q=Altadena%2C+Mt.+Wilson%2C+CA&format=jsonv2&addressdetails=1&limit=1\n",
      "Status code 429 from https://nominatim.openstreetmap.org/search: ERROR - 429 Client Error: Too Many Requests for url: https://nominatim.openstreetmap.org/search?q=Altadena%2C+Mt.+Wilson%2C+CA&format=jsonv2&addressdetails=1&limit=1\n"
     ]
    },
    {
     "name": "stdout",
     "output_type": "stream",
     "text": [
      "Altadena, Mt. Wilson None None 445.5400 WD6ABC Los Angeles OPEN\n"
     ]
    },
    {
     "name": "stderr",
     "output_type": "stream",
     "text": [
      "Status code 429 from https://nominatim.openstreetmap.org/search: ERROR - 429 Client Error: Too Many Requests for url: https://nominatim.openstreetmap.org/search?q=Chino%2C+CA&format=jsonv2&addressdetails=1&limit=1\n",
      "Status code 429 from https://nominatim.openstreetmap.org/search: ERROR - 429 Client Error: Too Many Requests for url: https://nominatim.openstreetmap.org/search?q=Chino%2C+CA&format=jsonv2&addressdetails=1&limit=1\n"
     ]
    },
    {
     "name": "stdout",
     "output_type": "stream",
     "text": [
      "Chino None None 445.5600 K6OPJ San Bernardino OPEN\n"
     ]
    },
    {
     "name": "stderr",
     "output_type": "stream",
     "text": [
      "Status code 429 from https://nominatim.openstreetmap.org/search: ERROR - 429 Client Error: Too Many Requests for url: https://nominatim.openstreetmap.org/search?q=Ojai%2C+Sulphur+Mountain%2C+CA&format=jsonv2&addressdetails=1&limit=1\n",
      "Status code 429 from https://nominatim.openstreetmap.org/search: ERROR - 429 Client Error: Too Many Requests for url: https://nominatim.openstreetmap.org/search?q=Ojai%2C+Sulphur+Mountain%2C+CA&format=jsonv2&addressdetails=1&limit=1\n"
     ]
    },
    {
     "name": "stdout",
     "output_type": "stream",
     "text": [
      "Ojai, Sulphur Mountain None None 445.5600 WD6EBY Ventura OPEN\n"
     ]
    },
    {
     "name": "stderr",
     "output_type": "stream",
     "text": [
      "Status code 429 from https://nominatim.openstreetmap.org/search: ERROR - 429 Client Error: Too Many Requests for url: https://nominatim.openstreetmap.org/search?q=Palomar+Mountain%2C+Palomar+Observatory%2C+CA&format=jsonv2&addressdetails=1&limit=1\n",
      "Status code 429 from https://nominatim.openstreetmap.org/search: ERROR - 429 Client Error: Too Many Requests for url: https://nominatim.openstreetmap.org/search?q=Palomar+Mountain%2C+Palomar+Observatory%2C+CA&format=jsonv2&addressdetails=1&limit=1\n"
     ]
    },
    {
     "name": "stdout",
     "output_type": "stream",
     "text": [
      "Palomar Mountain, Palomar Observatory None None 445.5600 KI6AZQ San Diego OPEN\n"
     ]
    },
    {
     "name": "stderr",
     "output_type": "stream",
     "text": [
      "Status code 429 from https://nominatim.openstreetmap.org/search: ERROR - 429 Client Error: Too Many Requests for url: https://nominatim.openstreetmap.org/search?q=Quartz+Hill%2C+water+tank%2C+CA&format=jsonv2&addressdetails=1&limit=1\n",
      "Status code 429 from https://nominatim.openstreetmap.org/search: ERROR - 429 Client Error: Too Many Requests for url: https://nominatim.openstreetmap.org/search?q=Quartz+Hill%2C+water+tank%2C+CA&format=jsonv2&addressdetails=1&limit=1\n"
     ]
    },
    {
     "name": "stdout",
     "output_type": "stream",
     "text": [
      "Quartz Hill, water tank None None 445.5600 KG6SLC Los Angeles OPEN\n"
     ]
    },
    {
     "name": "stderr",
     "output_type": "stream",
     "text": [
      "Status code 429 from https://nominatim.openstreetmap.org/search: ERROR - 429 Client Error: Too Many Requests for url: https://nominatim.openstreetmap.org/search?q=Whittier%2C+Whittier+Hills%2C+CA&format=jsonv2&addressdetails=1&limit=1\n",
      "Status code 429 from https://nominatim.openstreetmap.org/search: ERROR - 429 Client Error: Too Many Requests for url: https://nominatim.openstreetmap.org/search?q=Whittier%2C+Whittier+Hills%2C+CA&format=jsonv2&addressdetails=1&limit=1\n"
     ]
    },
    {
     "name": "stdout",
     "output_type": "stream",
     "text": [
      "Whittier, Whittier Hills None None 445.5600 W6KAT Los Angeles OPEN\n"
     ]
    },
    {
     "name": "stderr",
     "output_type": "stream",
     "text": [
      "Status code 429 from https://nominatim.openstreetmap.org/search: ERROR - 429 Client Error: Too Many Requests for url: https://nominatim.openstreetmap.org/search?q=Huntington+Beach%2C+Boeing%2C+CA&format=jsonv2&addressdetails=1&limit=1\n",
      "Status code 429 from https://nominatim.openstreetmap.org/search: ERROR - 429 Client Error: Too Many Requests for url: https://nominatim.openstreetmap.org/search?q=Huntington+Beach%2C+Boeing%2C+CA&format=jsonv2&addressdetails=1&limit=1\n"
     ]
    },
    {
     "name": "stdout",
     "output_type": "stream",
     "text": [
      "Huntington Beach, Boeing None None 445.5800 W6VLD Orange OPEN\n"
     ]
    },
    {
     "name": "stderr",
     "output_type": "stream",
     "text": [
      "Status code 429 from https://nominatim.openstreetmap.org/search: ERROR - 429 Client Error: Too Many Requests for url: https://nominatim.openstreetmap.org/search?q=Pomona%2C+CA&format=jsonv2&addressdetails=1&limit=1\n",
      "Status code 429 from https://nominatim.openstreetmap.org/search: ERROR - 429 Client Error: Too Many Requests for url: https://nominatim.openstreetmap.org/search?q=Pomona%2C+CA&format=jsonv2&addressdetails=1&limit=1\n"
     ]
    },
    {
     "name": "stdout",
     "output_type": "stream",
     "text": [
      "Pomona None None 445.5800 K6CPP Los Angeles OPEN\n"
     ]
    },
    {
     "name": "stderr",
     "output_type": "stream",
     "text": [
      "Status code 429 from https://nominatim.openstreetmap.org/search: ERROR - 429 Client Error: Too Many Requests for url: https://nominatim.openstreetmap.org/search?q=Simi+Valley%2C+Mellow+Lane%2C+CA&format=jsonv2&addressdetails=1&limit=1\n",
      "Status code 429 from https://nominatim.openstreetmap.org/search: ERROR - 429 Client Error: Too Many Requests for url: https://nominatim.openstreetmap.org/search?q=Simi+Valley%2C+Mellow+Lane%2C+CA&format=jsonv2&addressdetails=1&limit=1\n"
     ]
    },
    {
     "name": "stdout",
     "output_type": "stream",
     "text": [
      "Simi Valley, Mellow Lane None None 445.5800 K6ERN Ventura OPEN\n"
     ]
    },
    {
     "name": "stderr",
     "output_type": "stream",
     "text": [
      "Status code 429 from https://nominatim.openstreetmap.org/search: ERROR - 429 Client Error: Too Many Requests for url: https://nominatim.openstreetmap.org/search?q=Camarillo%2C+Camarillo+Hills%2C+CA&format=jsonv2&addressdetails=1&limit=1\n",
      "Status code 429 from https://nominatim.openstreetmap.org/search: ERROR - 429 Client Error: Too Many Requests for url: https://nominatim.openstreetmap.org/search?q=Camarillo%2C+Camarillo+Hills%2C+CA&format=jsonv2&addressdetails=1&limit=1\n"
     ]
    },
    {
     "name": "stdout",
     "output_type": "stream",
     "text": [
      "Camarillo, Camarillo Hills None None 445.6000 WD6EBY Ventura OPEN\n"
     ]
    },
    {
     "name": "stderr",
     "output_type": "stream",
     "text": [
      "Status code 429 from https://nominatim.openstreetmap.org/search: ERROR - 429 Client Error: Too Many Requests for url: https://nominatim.openstreetmap.org/search?q=Culver+City%2C+CA&format=jsonv2&addressdetails=1&limit=1\n",
      "Status code 429 from https://nominatim.openstreetmap.org/search: ERROR - 429 Client Error: Too Many Requests for url: https://nominatim.openstreetmap.org/search?q=Culver+City%2C+CA&format=jsonv2&addressdetails=1&limit=1\n"
     ]
    },
    {
     "name": "stdout",
     "output_type": "stream",
     "text": [
      "Culver City None None 445.6000 K6CCR Los Angeles OPEN\n"
     ]
    },
    {
     "name": "stderr",
     "output_type": "stream",
     "text": [
      "Status code 429 from https://nominatim.openstreetmap.org/search: ERROR - 429 Client Error: Too Many Requests for url: https://nominatim.openstreetmap.org/search?q=Fallbrook%2C+Red+Mountain%2C+CA&format=jsonv2&addressdetails=1&limit=1\n",
      "Status code 429 from https://nominatim.openstreetmap.org/search: ERROR - 429 Client Error: Too Many Requests for url: https://nominatim.openstreetmap.org/search?q=Fallbrook%2C+Red+Mountain%2C+CA&format=jsonv2&addressdetails=1&limit=1\n"
     ]
    },
    {
     "name": "stdout",
     "output_type": "stream",
     "text": [
      "Fallbrook, Red Mountain None None 445.6000 N6FQ San Diego OPEN\n"
     ]
    },
    {
     "name": "stderr",
     "output_type": "stream",
     "text": [
      "Status code 429 from https://nominatim.openstreetmap.org/search: ERROR - 429 Client Error: Too Many Requests for url: https://nominatim.openstreetmap.org/search?q=Loma+Linda%2C+LLUMC%2C+CA&format=jsonv2&addressdetails=1&limit=1\n",
      "Status code 429 from https://nominatim.openstreetmap.org/search: ERROR - 429 Client Error: Too Many Requests for url: https://nominatim.openstreetmap.org/search?q=Loma+Linda%2C+LLUMC%2C+CA&format=jsonv2&addressdetails=1&limit=1\n"
     ]
    },
    {
     "name": "stdout",
     "output_type": "stream",
     "text": [
      "Loma Linda, LLUMC None None 445.6000 K6LLU San Bernardino OPEN\n"
     ]
    },
    {
     "name": "stderr",
     "output_type": "stream",
     "text": [
      "Status code 429 from https://nominatim.openstreetmap.org/search: ERROR - 429 Client Error: Too Many Requests for url: https://nominatim.openstreetmap.org/search?q=Palmdale%2C+Ten-Hi%2C+CA&format=jsonv2&addressdetails=1&limit=1\n",
      "Status code 429 from https://nominatim.openstreetmap.org/search: ERROR - 429 Client Error: Too Many Requests for url: https://nominatim.openstreetmap.org/search?q=Palmdale%2C+Ten-Hi%2C+CA&format=jsonv2&addressdetails=1&limit=1\n"
     ]
    },
    {
     "name": "stdout",
     "output_type": "stream",
     "text": [
      "Palmdale, Ten-Hi None None 445.6000 KJ6W Los Angeles OPEN\n"
     ]
    },
    {
     "name": "stderr",
     "output_type": "stream",
     "text": [
      "Status code 429 from https://nominatim.openstreetmap.org/search: ERROR - 429 Client Error: Too Many Requests for url: https://nominatim.openstreetmap.org/search?q=Ventura%2C+CA&format=jsonv2&addressdetails=1&limit=1\n",
      "Status code 429 from https://nominatim.openstreetmap.org/search: ERROR - 429 Client Error: Too Many Requests for url: https://nominatim.openstreetmap.org/search?q=Ventura%2C+CA&format=jsonv2&addressdetails=1&limit=1\n"
     ]
    },
    {
     "name": "stdout",
     "output_type": "stream",
     "text": [
      "Ventura None None 445.6000 KB6LJQ Ventura OPEN\n"
     ]
    },
    {
     "name": "stderr",
     "output_type": "stream",
     "text": [
      "Status code 429 from https://nominatim.openstreetmap.org/search: ERROR - 429 Client Error: Too Many Requests for url: https://nominatim.openstreetmap.org/search?q=El+Segundo%2C+Raytheon%2C+CA&format=jsonv2&addressdetails=1&limit=1\n",
      "Status code 429 from https://nominatim.openstreetmap.org/search: ERROR - 429 Client Error: Too Many Requests for url: https://nominatim.openstreetmap.org/search?q=El+Segundo%2C+Raytheon%2C+CA&format=jsonv2&addressdetails=1&limit=1\n"
     ]
    },
    {
     "name": "stdout",
     "output_type": "stream",
     "text": [
      "El Segundo, Raytheon None None 445.6200 W6HA Los Angeles OPEN\n"
     ]
    },
    {
     "name": "stderr",
     "output_type": "stream",
     "text": [
      "Status code 429 from https://nominatim.openstreetmap.org/search: ERROR - 429 Client Error: Too Many Requests for url: https://nominatim.openstreetmap.org/search?q=Lake+Elsinore%2C+Elsinore+Peak%2C+CA&format=jsonv2&addressdetails=1&limit=1\n",
      "Status code 429 from https://nominatim.openstreetmap.org/search: ERROR - 429 Client Error: Too Many Requests for url: https://nominatim.openstreetmap.org/search?q=Lake+Elsinore%2C+Elsinore+Peak%2C+CA&format=jsonv2&addressdetails=1&limit=1\n"
     ]
    },
    {
     "name": "stdout",
     "output_type": "stream",
     "text": [
      "Lake Elsinore, Elsinore Peak None None 445.6200 W6CDW Riverside OPEN\n"
     ]
    },
    {
     "name": "stderr",
     "output_type": "stream",
     "text": [
      "Status code 429 from https://nominatim.openstreetmap.org/search: ERROR - 429 Client Error: Too Many Requests for url: https://nominatim.openstreetmap.org/search?q=Spring+Valley%2C+Dictionary+Hill%2C+CA&format=jsonv2&addressdetails=1&limit=1\n",
      "Status code 429 from https://nominatim.openstreetmap.org/search: ERROR - 429 Client Error: Too Many Requests for url: https://nominatim.openstreetmap.org/search?q=Spring+Valley%2C+Dictionary+Hill%2C+CA&format=jsonv2&addressdetails=1&limit=1\n"
     ]
    },
    {
     "name": "stdout",
     "output_type": "stream",
     "text": [
      "Spring Valley, Dictionary Hill None None 445.6200 WA6NVL San Diego OPEN\n"
     ]
    },
    {
     "name": "stderr",
     "output_type": "stream",
     "text": [
      "Status code 429 from https://nominatim.openstreetmap.org/search: ERROR - 429 Client Error: Too Many Requests for url: https://nominatim.openstreetmap.org/search?q=Altadena%2C+CA&format=jsonv2&addressdetails=1&limit=1\n"
     ]
    },
    {
     "name": "stdout",
     "output_type": "stream",
     "text": [
      "Altadena 34.1863161 None 445.6400 W6TOI Los Angeles OPEN\n"
     ]
    },
    {
     "name": "stderr",
     "output_type": "stream",
     "text": [
      "Status code 429 from https://nominatim.openstreetmap.org/search: ERROR - 429 Client Error: Too Many Requests for url: https://nominatim.openstreetmap.org/search?q=Carpinteria%2C+Rincon+Mtn.%2C+CA&format=jsonv2&addressdetails=1&limit=1\n",
      "Status code 429 from https://nominatim.openstreetmap.org/search: ERROR - 429 Client Error: Too Many Requests for url: https://nominatim.openstreetmap.org/search?q=Carpinteria%2C+Rincon+Mtn.%2C+CA&format=jsonv2&addressdetails=1&limit=1\n"
     ]
    },
    {
     "name": "stdout",
     "output_type": "stream",
     "text": [
      "Carpinteria, Rincon Mtn. None None 445.6400 WD6EBY Ventura OPEN\n"
     ]
    },
    {
     "name": "stderr",
     "output_type": "stream",
     "text": [
      "Status code 429 from https://nominatim.openstreetmap.org/search: ERROR - 429 Client Error: Too Many Requests for url: https://nominatim.openstreetmap.org/search?q=Frazier+Park%2C+CA&format=jsonv2&addressdetails=1&limit=1\n",
      "Status code 429 from https://nominatim.openstreetmap.org/search: ERROR - 429 Client Error: Too Many Requests for url: https://nominatim.openstreetmap.org/search?q=Frazier+Park%2C+CA&format=jsonv2&addressdetails=1&limit=1\n"
     ]
    },
    {
     "name": "stdout",
     "output_type": "stream",
     "text": [
      "Frazier Park None None 445.6400 K6NYB Kern OPEN\n"
     ]
    },
    {
     "name": "stderr",
     "output_type": "stream",
     "text": [
      "Status code 429 from https://nominatim.openstreetmap.org/search: ERROR - 429 Client Error: Too Many Requests for url: https://nominatim.openstreetmap.org/search?q=Palm+Springs%2C+Indio+Hills%2C+CA&format=jsonv2&addressdetails=1&limit=1\n",
      "Status code 429 from https://nominatim.openstreetmap.org/search: ERROR - 429 Client Error: Too Many Requests for url: https://nominatim.openstreetmap.org/search?q=Palm+Springs%2C+Indio+Hills%2C+CA&format=jsonv2&addressdetails=1&limit=1\n"
     ]
    },
    {
     "name": "stdout",
     "output_type": "stream",
     "text": [
      "Palm Springs, Indio Hills None None 445.6400 K6IFR Riverside OPEN\n"
     ]
    },
    {
     "name": "stderr",
     "output_type": "stream",
     "text": [
      "Status code 429 from https://nominatim.openstreetmap.org/search: ERROR - 429 Client Error: Too Many Requests for url: https://nominatim.openstreetmap.org/search?q=Downey%2C+CA&format=jsonv2&addressdetails=1&limit=1\n",
      "Status code 429 from https://nominatim.openstreetmap.org/search: ERROR - 429 Client Error: Too Many Requests for url: https://nominatim.openstreetmap.org/search?q=Downey%2C+CA&format=jsonv2&addressdetails=1&limit=1\n"
     ]
    },
    {
     "name": "stdout",
     "output_type": "stream",
     "text": [
      "Downey None None 445.6600 K6EH Los Angeles OPEN\n"
     ]
    },
    {
     "name": "stderr",
     "output_type": "stream",
     "text": [
      "Status code 429 from https://nominatim.openstreetmap.org/search: ERROR - 429 Client Error: Too Many Requests for url: https://nominatim.openstreetmap.org/search?q=Laguna+Beach%2C+Temple+Hill%2C+CA&format=jsonv2&addressdetails=1&limit=1\n",
      "Status code 429 from https://nominatim.openstreetmap.org/search: ERROR - 429 Client Error: Too Many Requests for url: https://nominatim.openstreetmap.org/search?q=Laguna+Beach%2C+Temple+Hill%2C+CA&format=jsonv2&addressdetails=1&limit=1\n"
     ]
    },
    {
     "name": "stdout",
     "output_type": "stream",
     "text": [
      "Laguna Beach, Temple Hill None None 445.6600 K6SOA Orange OPEN\n"
     ]
    },
    {
     "name": "stderr",
     "output_type": "stream",
     "text": [
      "Status code 429 from https://nominatim.openstreetmap.org/search: ERROR - 429 Client Error: Too Many Requests for url: https://nominatim.openstreetmap.org/search?q=Apple+Valley%2C+CA&format=jsonv2&addressdetails=1&limit=1\n",
      "Status code 429 from https://nominatim.openstreetmap.org/search: ERROR - 429 Client Error: Too Many Requests for url: https://nominatim.openstreetmap.org/search?q=Apple+Valley%2C+CA&format=jsonv2&addressdetails=1&limit=1\n"
     ]
    },
    {
     "name": "stdout",
     "output_type": "stream",
     "text": [
      "Apple Valley None None 445.6800 KB6BZZ San Bernardino OPEN\n"
     ]
    },
    {
     "name": "stderr",
     "output_type": "stream",
     "text": [
      "Status code 429 from https://nominatim.openstreetmap.org/search: ERROR - 429 Client Error: Too Many Requests for url: https://nominatim.openstreetmap.org/search?q=Glendale%2C+Mt+Thom%2C+CA&format=jsonv2&addressdetails=1&limit=1\n",
      "Status code 429 from https://nominatim.openstreetmap.org/search: ERROR - 429 Client Error: Too Many Requests for url: https://nominatim.openstreetmap.org/search?q=Glendale%2C+Mt+Thom%2C+CA&format=jsonv2&addressdetails=1&limit=1\n"
     ]
    },
    {
     "name": "stdout",
     "output_type": "stream",
     "text": [
      "Glendale, Mt Thom None None 445.6800 N6JLY Los Angeles OPEN\n"
     ]
    },
    {
     "name": "stderr",
     "output_type": "stream",
     "text": [
      "Status code 429 from https://nominatim.openstreetmap.org/search: ERROR - 429 Client Error: Too Many Requests for url: https://nominatim.openstreetmap.org/search?q=San+Diego%2C+Black+Mtn%2C+CA&format=jsonv2&addressdetails=1&limit=1\n",
      "Status code 429 from https://nominatim.openstreetmap.org/search: ERROR - 429 Client Error: Too Many Requests for url: https://nominatim.openstreetmap.org/search?q=San+Diego%2C+Black+Mtn%2C+CA&format=jsonv2&addressdetails=1&limit=1\n"
     ]
    },
    {
     "name": "stdout",
     "output_type": "stream",
     "text": [
      "San Diego, Black Mtn None None 445.6800 N6DCR San Diego OPEN\n"
     ]
    },
    {
     "name": "stderr",
     "output_type": "stream",
     "text": [
      "Status code 429 from https://nominatim.openstreetmap.org/search: ERROR - 429 Client Error: Too Many Requests for url: https://nominatim.openstreetmap.org/search?q=Ojai%2C+Sulphur+Mountain%2C+CA&format=jsonv2&addressdetails=1&limit=1\n",
      "Status code 429 from https://nominatim.openstreetmap.org/search: ERROR - 429 Client Error: Too Many Requests for url: https://nominatim.openstreetmap.org/search?q=Ojai%2C+Sulphur+Mountain%2C+CA&format=jsonv2&addressdetails=1&limit=1\n"
     ]
    },
    {
     "name": "stdout",
     "output_type": "stream",
     "text": [
      "Ojai, Sulphur Mountain None None 445.7000 N6BMW Ventura OPEN\n"
     ]
    },
    {
     "name": "stderr",
     "output_type": "stream",
     "text": [
      "Status code 429 from https://nominatim.openstreetmap.org/search: ERROR - 429 Client Error: Too Many Requests for url: https://nominatim.openstreetmap.org/search?q=Running+Springs%2C+CA&format=jsonv2&addressdetails=1&limit=1\n",
      "Status code 429 from https://nominatim.openstreetmap.org/search: ERROR - 429 Client Error: Too Many Requests for url: https://nominatim.openstreetmap.org/search?q=Running+Springs%2C+CA&format=jsonv2&addressdetails=1&limit=1\n"
     ]
    },
    {
     "name": "stdout",
     "output_type": "stream",
     "text": [
      "Running Springs None None 445.7000 K6AMS San Bernardino OPEN\n"
     ]
    },
    {
     "name": "stderr",
     "output_type": "stream",
     "text": [
      "Status code 429 from https://nominatim.openstreetmap.org/search: ERROR - 429 Client Error: Too Many Requests for url: https://nominatim.openstreetmap.org/search?q=Laguna+Beach%2C+Temple+Hill%2C+CA&format=jsonv2&addressdetails=1&limit=1\n",
      "Status code 429 from https://nominatim.openstreetmap.org/search: ERROR - 429 Client Error: Too Many Requests for url: https://nominatim.openstreetmap.org/search?q=Laguna+Beach%2C+Temple+Hill%2C+CA&format=jsonv2&addressdetails=1&limit=1\n"
     ]
    },
    {
     "name": "stdout",
     "output_type": "stream",
     "text": [
      "Laguna Beach, Temple Hill None None 445.7050 K6SOA Orange OPEN\n"
     ]
    },
    {
     "name": "stderr",
     "output_type": "stream",
     "text": [
      "Status code 429 from https://nominatim.openstreetmap.org/search: ERROR - 429 Client Error: Too Many Requests for url: https://nominatim.openstreetmap.org/search?q=Rancho+Palos+Verdes%2C+CA&format=jsonv2&addressdetails=1&limit=1\n",
      "Status code 429 from https://nominatim.openstreetmap.org/search: ERROR - 429 Client Error: Too Many Requests for url: https://nominatim.openstreetmap.org/search?q=Rancho+Palos+Verdes%2C+CA&format=jsonv2&addressdetails=1&limit=1\n"
     ]
    },
    {
     "name": "stdout",
     "output_type": "stream",
     "text": [
      "Rancho Palos Verdes None None 445.7200 N6RPV Los Angeles OPEN\n"
     ]
    },
    {
     "name": "stderr",
     "output_type": "stream",
     "text": [
      "Status code 429 from https://nominatim.openstreetmap.org/search: ERROR - 429 Client Error: Too Many Requests for url: https://nominatim.openstreetmap.org/search?q=Santa+Paula%2C+CA&format=jsonv2&addressdetails=1&limit=1\n",
      "Status code 429 from https://nominatim.openstreetmap.org/search: ERROR - 429 Client Error: Too Many Requests for url: https://nominatim.openstreetmap.org/search?q=Santa+Paula%2C+CA&format=jsonv2&addressdetails=1&limit=1\n"
     ]
    },
    {
     "name": "stdout",
     "output_type": "stream",
     "text": [
      "Santa Paula None None 445.7200 N6BMW Ventura OPEN\n"
     ]
    },
    {
     "name": "stderr",
     "output_type": "stream",
     "text": [
      "Status code 429 from https://nominatim.openstreetmap.org/search: ERROR - 429 Client Error: Too Many Requests for url: https://nominatim.openstreetmap.org/search?q=Ventura%2C+CA&format=jsonv2&addressdetails=1&limit=1\n",
      "Status code 429 from https://nominatim.openstreetmap.org/search: ERROR - 429 Client Error: Too Many Requests for url: https://nominatim.openstreetmap.org/search?q=Ventura%2C+CA&format=jsonv2&addressdetails=1&limit=1\n"
     ]
    },
    {
     "name": "stdout",
     "output_type": "stream",
     "text": [
      "Ventura None None 445.7200 N6BMW Ventura OPEN\n"
     ]
    },
    {
     "name": "stderr",
     "output_type": "stream",
     "text": [
      "Status code 429 from https://nominatim.openstreetmap.org/search: ERROR - 429 Client Error: Too Many Requests for url: https://nominatim.openstreetmap.org/search?q=Agoura%2C+Castro+Peak%2C+CA&format=jsonv2&addressdetails=1&limit=1\n",
      "Status code 429 from https://nominatim.openstreetmap.org/search: ERROR - 429 Client Error: Too Many Requests for url: https://nominatim.openstreetmap.org/search?q=Agoura%2C+Castro+Peak%2C+CA&format=jsonv2&addressdetails=1&limit=1\n"
     ]
    },
    {
     "name": "stdout",
     "output_type": "stream",
     "text": [
      "Agoura, Castro Peak None None 445.7400 K6JHX Los Angeles CLOSED\n"
     ]
    },
    {
     "name": "stderr",
     "output_type": "stream",
     "text": [
      "Status code 429 from https://nominatim.openstreetmap.org/search: ERROR - 429 Client Error: Too Many Requests for url: https://nominatim.openstreetmap.org/search?q=Channel+Islands+Harbor%2C+Ventura%2C+CA&format=jsonv2&addressdetails=1&limit=1\n",
      "Status code 429 from https://nominatim.openstreetmap.org/search: ERROR - 429 Client Error: Too Many Requests for url: https://nominatim.openstreetmap.org/search?q=Channel+Islands+Harbor%2C+Ventura%2C+CA&format=jsonv2&addressdetails=1&limit=1\n"
     ]
    },
    {
     "name": "stdout",
     "output_type": "stream",
     "text": [
      "Channel Islands Harbor, Ventura None None 445.7600 KI6HHU Ventura OPEN\n"
     ]
    },
    {
     "name": "stderr",
     "output_type": "stream",
     "text": [
      "Status code 429 from https://nominatim.openstreetmap.org/search: ERROR - 429 Client Error: Too Many Requests for url: https://nominatim.openstreetmap.org/search?q=Corona%2C+Sierra+Peak%2C+CA&format=jsonv2&addressdetails=1&limit=1\n",
      "Status code 429 from https://nominatim.openstreetmap.org/search: ERROR - 429 Client Error: Too Many Requests for url: https://nominatim.openstreetmap.org/search?q=Corona%2C+Sierra+Peak%2C+CA&format=jsonv2&addressdetails=1&limit=1\n"
     ]
    },
    {
     "name": "stdout",
     "output_type": "stream",
     "text": [
      "Corona, Sierra Peak None None 445.7600 KD6DDM Orange OPEN\n"
     ]
    },
    {
     "name": "stderr",
     "output_type": "stream",
     "text": [
      "Status code 429 from https://nominatim.openstreetmap.org/search: ERROR - 429 Client Error: Too Many Requests for url: https://nominatim.openstreetmap.org/search?q=Ramona%2C+CA&format=jsonv2&addressdetails=1&limit=1\n",
      "Status code 429 from https://nominatim.openstreetmap.org/search: ERROR - 429 Client Error: Too Many Requests for url: https://nominatim.openstreetmap.org/search?q=Ramona%2C+CA&format=jsonv2&addressdetails=1&limit=1\n"
     ]
    },
    {
     "name": "stdout",
     "output_type": "stream",
     "text": [
      "Ramona None None 445.7600 KD6RSQ San Diego OPEN\n"
     ]
    },
    {
     "name": "stderr",
     "output_type": "stream",
     "text": [
      "Status code 429 from https://nominatim.openstreetmap.org/search: ERROR - 429 Client Error: Too Many Requests for url: https://nominatim.openstreetmap.org/search?q=Crestline%2C+CA&format=jsonv2&addressdetails=1&limit=1\n",
      "Status code 429 from https://nominatim.openstreetmap.org/search: ERROR - 429 Client Error: Too Many Requests for url: https://nominatim.openstreetmap.org/search?q=Crestline%2C+CA&format=jsonv2&addressdetails=1&limit=1\n"
     ]
    },
    {
     "name": "stdout",
     "output_type": "stream",
     "text": [
      "Crestline None None 445.7800 K6PIN San Bernardino CLOSED\n"
     ]
    },
    {
     "name": "stderr",
     "output_type": "stream",
     "text": [
      "Status code 429 from https://nominatim.openstreetmap.org/search: ERROR - 429 Client Error: Too Many Requests for url: https://nominatim.openstreetmap.org/search?q=Altadena%2C+Mt.+Disappointment%2C+CA&format=jsonv2&addressdetails=1&limit=1\n"
     ]
    }
   ],
   "source": [
    "# scrapes url & pushes data to stations table in db\n",
    "table_rows = soup.find_all('tr')[4:1000]\n",
    "\n",
    "# for loop to pull out data from each result\n",
    "for item in table_rows:\n",
    "    freq = item.find('a').text\n",
    "    call_sign = item.find_all('td', attrs={'class': None})[3].text\n",
    "    county = item.find_all('td', attrs={'class': None})[2].text\n",
    "    location = item.find(class_=\"w3-left-align\").text\n",
    "    usage = item.find('font').text.strip()\n",
    "    \n",
    "    # pulls location coordinates from geocoder\n",
    "    lat = geocoder.osm(location + california).lat\n",
    "    lng = geocoder.osm(location + california).lng\n",
    "    \n",
    "    # push results to mongodb\n",
    "    db.stations.insert_one(\n",
    "        {'location': location,\n",
    "         'latitude': lat,\n",
    "         'longitude': lng,\n",
    "         'frequency': freq,\n",
    "         'call sign': call_sign,\n",
    "         'county': county,\n",
    "         'usage': usage})\n",
    "                    \n",
    "    print(location, lat, lng, freq, call_sign, county, usage)"
   ]
  },
  {
   "cell_type": "code",
   "execution_count": null,
   "metadata": {},
   "outputs": [],
   "source": [
    "# pushes mongo db table to pandas dataframe\n",
    "stations = db.stations\n",
    "df = pd.DataFrame(list(stations.find()))\n",
    "df = df[['call sign', 'location', 'frequency', 'county', 'usage', 'latitude', 'longitude']]\n",
    "df.head(10)"
   ]
  },
  {
   "cell_type": "code",
   "execution_count": null,
   "metadata": {},
   "outputs": [],
   "source": []
  }
 ],
 "metadata": {
  "kernelspec": {
   "display_name": "Python 3",
   "language": "python",
   "name": "python3"
  },
  "language_info": {
   "codemirror_mode": {
    "name": "ipython",
    "version": 3
   },
   "file_extension": ".py",
   "mimetype": "text/x-python",
   "name": "python",
   "nbconvert_exporter": "python",
   "pygments_lexer": "ipython3",
   "version": "3.7.1"
  }
 },
 "nbformat": 4,
 "nbformat_minor": 2
}
