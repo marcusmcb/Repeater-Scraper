{
 "cells": [
  {
   "cell_type": "code",
   "execution_count": 5,
   "metadata": {},
   "outputs": [],
   "source": [
    "# immport dependencies\n",
    "from bs4 import BeautifulSoup\n",
    "import pandas as pd\n",
    "import requests\n",
    "import pymongo\n",
    "from pymongo import MongoClient\n",
    "import geocoder"
   ]
  },
  {
   "cell_type": "code",
   "execution_count": 6,
   "metadata": {},
   "outputs": [],
   "source": [
    "# MongoDB connection\n",
    "conn = 'mongodb://localhost:27017'\n",
    "client = pymongo.MongoClient(conn)"
   ]
  },
  {
   "cell_type": "code",
   "execution_count": 7,
   "metadata": {},
   "outputs": [],
   "source": [
    "# creates repeater db if it doesn't already exist\n",
    "# drops stations table to avoid duplicate entries\n",
    "db = client.repeater_db\n",
    "db.stations.drop()"
   ]
  },
  {
   "cell_type": "code",
   "execution_count": 8,
   "metadata": {},
   "outputs": [],
   "source": [
    "# url to scrape & soup setup\n",
    "url = 'https://www.repeaterbook.com/repeaters/Display_SS.php?state_id=06&band=4&loc=%&call=%&use=%'\n",
    "\n",
    "response = requests.get(url)\n",
    "soup = BeautifulSoup(response.text, 'html.parser')"
   ]
  },
  {
   "cell_type": "code",
   "execution_count": 9,
   "metadata": {},
   "outputs": [],
   "source": [
    "# initialize variable to concat to location for use w/geocoder\n",
    "california = ', CA'"
   ]
  },
  {
   "cell_type": "code",
   "execution_count": 10,
   "metadata": {},
   "outputs": [
    {
     "name": "stdout",
     "output_type": "stream",
     "text": [
      "Moreno Valley 33.937517 -117.2305944 425.4250 KC7NP Riverside OPEN\n",
      "San Jose 37.3361905 -121.8905833 430.3000 W6IOS Santa Clara OPEN\n",
      "Chico 39.7284945 -121.8374777 440.0000 KI6PNB Butte OPEN\n",
      "Fremont 37.5482697 -121.9885719 440.0000 WA6FSP Alameda OPEN\n",
      "Fresno 36.7295295 -119.708861260756 440.0025 N6VRC Fresno OPEN\n",
      "Sonoma 38.5110803 -122.8473388 440.0125 W6PE Sonoma OPEN\n",
      "Fremont 37.5482697 -121.9885719 440.0250 KI6KGN Alameda OPEN\n",
      "Pacifica 37.6138253 -122.4869194 440.0250 N6TZE San Mateo OPEN\n",
      "Ukiah 39.1501662 -123.2077861 440.0250 WA6RQZ Mendocino OPEN\n",
      "Vacaville 38.3565773 -121.9877444 440.0250 WV6F Solano OPEN\n"
     ]
    }
   ],
   "source": [
    "# scrapes url & pushes data to stations table in db\n",
    "table_rows = soup.find_all('tr')[4:14]\n",
    "for item in table_rows:\n",
    "    freq = item.find('a').text\n",
    "    call_sign = item.find_all('td', attrs={'class': None})[3].text\n",
    "    county = item.find_all('td', attrs={'class': None})[2].text\n",
    "    location = item.find(class_=\"w3-left-align\").text\n",
    "    usage = item.find('font').text.strip()\n",
    "    lat = geocoder.osm(location + california).lat\n",
    "    lng = geocoder.osm(location + california).lng\n",
    "    db.stations.insert_one(\n",
    "        {'location': location,\n",
    "         'latitude': lat,\n",
    "         'longitude': lng,\n",
    "         'frequency': freq,\n",
    "         'call sign': call_sign,\n",
    "         'county': county,\n",
    "         'usage': usage})\n",
    "                    \n",
    "    print(location, lat, lng, freq, call_sign, county, usage)"
   ]
  },
  {
   "cell_type": "code",
   "execution_count": 15,
   "metadata": {},
   "outputs": [
    {
     "data": {
      "text/html": [
       "<div>\n",
       "<style scoped>\n",
       "    .dataframe tbody tr th:only-of-type {\n",
       "        vertical-align: middle;\n",
       "    }\n",
       "\n",
       "    .dataframe tbody tr th {\n",
       "        vertical-align: top;\n",
       "    }\n",
       "\n",
       "    .dataframe thead th {\n",
       "        text-align: right;\n",
       "    }\n",
       "</style>\n",
       "<table border=\"1\" class=\"dataframe\">\n",
       "  <thead>\n",
       "    <tr style=\"text-align: right;\">\n",
       "      <th></th>\n",
       "      <th>call sign</th>\n",
       "      <th>location</th>\n",
       "      <th>frequency</th>\n",
       "      <th>county</th>\n",
       "      <th>usage</th>\n",
       "    </tr>\n",
       "  </thead>\n",
       "  <tbody>\n",
       "    <tr>\n",
       "      <th>0</th>\n",
       "      <td>KC7NP</td>\n",
       "      <td>Moreno Valley</td>\n",
       "      <td>425.4250</td>\n",
       "      <td>Riverside</td>\n",
       "      <td>OPEN</td>\n",
       "    </tr>\n",
       "    <tr>\n",
       "      <th>1</th>\n",
       "      <td>W6IOS</td>\n",
       "      <td>San Jose</td>\n",
       "      <td>430.3000</td>\n",
       "      <td>Santa Clara</td>\n",
       "      <td>OPEN</td>\n",
       "    </tr>\n",
       "    <tr>\n",
       "      <th>2</th>\n",
       "      <td>KI6PNB</td>\n",
       "      <td>Chico</td>\n",
       "      <td>440.0000</td>\n",
       "      <td>Butte</td>\n",
       "      <td>OPEN</td>\n",
       "    </tr>\n",
       "    <tr>\n",
       "      <th>3</th>\n",
       "      <td>WA6FSP</td>\n",
       "      <td>Fremont</td>\n",
       "      <td>440.0000</td>\n",
       "      <td>Alameda</td>\n",
       "      <td>OPEN</td>\n",
       "    </tr>\n",
       "    <tr>\n",
       "      <th>4</th>\n",
       "      <td>N6VRC</td>\n",
       "      <td>Fresno</td>\n",
       "      <td>440.0025</td>\n",
       "      <td>Fresno</td>\n",
       "      <td>OPEN</td>\n",
       "    </tr>\n",
       "    <tr>\n",
       "      <th>5</th>\n",
       "      <td>W6PE</td>\n",
       "      <td>Sonoma</td>\n",
       "      <td>440.0125</td>\n",
       "      <td>Sonoma</td>\n",
       "      <td>OPEN</td>\n",
       "    </tr>\n",
       "    <tr>\n",
       "      <th>6</th>\n",
       "      <td>KI6KGN</td>\n",
       "      <td>Fremont</td>\n",
       "      <td>440.0250</td>\n",
       "      <td>Alameda</td>\n",
       "      <td>OPEN</td>\n",
       "    </tr>\n",
       "    <tr>\n",
       "      <th>7</th>\n",
       "      <td>N6TZE</td>\n",
       "      <td>Pacifica</td>\n",
       "      <td>440.0250</td>\n",
       "      <td>San Mateo</td>\n",
       "      <td>OPEN</td>\n",
       "    </tr>\n",
       "    <tr>\n",
       "      <th>8</th>\n",
       "      <td>WA6RQZ</td>\n",
       "      <td>Ukiah</td>\n",
       "      <td>440.0250</td>\n",
       "      <td>Mendocino</td>\n",
       "      <td>OPEN</td>\n",
       "    </tr>\n",
       "    <tr>\n",
       "      <th>9</th>\n",
       "      <td>WV6F</td>\n",
       "      <td>Vacaville</td>\n",
       "      <td>440.0250</td>\n",
       "      <td>Solano</td>\n",
       "      <td>OPEN</td>\n",
       "    </tr>\n",
       "  </tbody>\n",
       "</table>\n",
       "</div>"
      ],
      "text/plain": [
       "  call sign       location frequency       county usage\n",
       "0     KC7NP  Moreno Valley  425.4250    Riverside  OPEN\n",
       "1     W6IOS       San Jose  430.3000  Santa Clara  OPEN\n",
       "2    KI6PNB          Chico  440.0000        Butte  OPEN\n",
       "3    WA6FSP        Fremont  440.0000      Alameda  OPEN\n",
       "4     N6VRC         Fresno  440.0025       Fresno  OPEN\n",
       "5      W6PE         Sonoma  440.0125       Sonoma  OPEN\n",
       "6    KI6KGN        Fremont  440.0250      Alameda  OPEN\n",
       "7     N6TZE       Pacifica  440.0250    San Mateo  OPEN\n",
       "8    WA6RQZ          Ukiah  440.0250    Mendocino  OPEN\n",
       "9      WV6F      Vacaville  440.0250       Solano  OPEN"
      ]
     },
     "execution_count": 15,
     "metadata": {},
     "output_type": "execute_result"
    }
   ],
   "source": [
    "# pushes mongo db table to pandas dataframe\n",
    "stations = db.stations\n",
    "df = pd.DataFrame(list(stations.find()))\n",
    "df = df[['call sign', 'location', 'frequency', 'county', 'usage']]\n",
    "df.head(10)"
   ]
  },
  {
   "cell_type": "code",
   "execution_count": null,
   "metadata": {},
   "outputs": [],
   "source": []
  }
 ],
 "metadata": {
  "kernelspec": {
   "display_name": "Python 3",
   "language": "python",
   "name": "python3"
  },
  "language_info": {
   "codemirror_mode": {
    "name": "ipython",
    "version": 3
   },
   "file_extension": ".py",
   "mimetype": "text/x-python",
   "name": "python",
   "nbconvert_exporter": "python",
   "pygments_lexer": "ipython3",
   "version": "3.7.1"
  }
 },
 "nbformat": 4,
 "nbformat_minor": 2
}
