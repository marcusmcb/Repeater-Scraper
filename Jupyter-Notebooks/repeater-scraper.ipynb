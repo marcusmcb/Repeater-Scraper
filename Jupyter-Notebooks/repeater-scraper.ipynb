{
 "cells": [
  {
   "cell_type": "code",
   "execution_count": null,
   "metadata": {},
   "outputs": [],
   "source": [
    "# immport dependencies\n",
    "from bs4 import BeautifulSoup\n",
    "import pandas as pd\n",
    "import requests\n",
    "import pymongo\n",
    "from pymongo import MongoClient\n",
    "import geocoder"
   ]
  },
  {
   "cell_type": "code",
   "execution_count": null,
   "metadata": {},
   "outputs": [],
   "source": [
    "# MongoDB connection\n",
    "conn = 'mongodb://localhost:27017'\n",
    "client = pymongo.MongoClient(conn)"
   ]
  },
  {
   "cell_type": "code",
   "execution_count": null,
   "metadata": {},
   "outputs": [],
   "source": [
    "# creates repeater db if it doesn't already exist\n",
    "# drops stations table to avoid duplicate entries\n",
    "db = client.temp_repeater_db\n",
    "db.stations.drop()"
   ]
  },
  {
   "cell_type": "code",
   "execution_count": null,
   "metadata": {},
   "outputs": [],
   "source": [
    "# url to scrape & soup setup\n",
    "url = 'https://www.repeaterbook.com/repeaters/Display_SS.php?state_id=06&band=4&loc=%&call=%&use=%'\n",
    "\n",
    "response = requests.get(url)\n",
    "soup = BeautifulSoup(response.text, 'html.parser')"
   ]
  },
  {
   "cell_type": "code",
   "execution_count": null,
   "metadata": {},
   "outputs": [],
   "source": [
    "# initialize variable to concat to location for use w/geocoder\n",
    "california = ', CA'"
   ]
  },
  {
   "cell_type": "code",
   "execution_count": null,
   "metadata": {},
   "outputs": [],
   "source": [
    "# scrapes url & pushes data to stations table in db\n",
    "table_rows = soup.find_all('tr')[4:1000]\n",
    "\n",
    "# for loop to pull out data from each result\n",
    "for item in table_rows:\n",
    "    freq = item.find('a').text\n",
    "    call_sign = item.find_all('td', attrs={'class': None})[3].text\n",
    "    county = item.find_all('td', attrs={'class': None})[2].text\n",
    "    location = item.find(class_=\"w3-left-align\").text\n",
    "    usage = item.find('font').text.strip()\n",
    "    \n",
    "    # pulls location coordinates from geocoder\n",
    "    lat = geocoder.osm(location + california).lat\n",
    "    lng = geocoder.osm(location + california).lng\n",
    "    \n",
    "    # push results to mongodb\n",
    "    db.stations.insert_one(\n",
    "        {'location': location,\n",
    "         'latitude': lat,\n",
    "         'longitude': lng,\n",
    "         'frequency': freq,\n",
    "         'call sign': call_sign,\n",
    "         'county': county,\n",
    "         'usage': usage})\n",
    "                    \n",
    "    print(location, lat, lng, freq, call_sign, county, usage)"
   ]
  },
  {
   "cell_type": "code",
   "execution_count": null,
   "metadata": {},
   "outputs": [],
   "source": [
    "# pushes mongo db table to pandas dataframe\n",
    "stations = db.stations\n",
    "df = pd.DataFrame(list(stations.find()))\n",
    "df = df[['call sign', 'location', 'frequency', 'county', 'usage', 'latitude', 'longitude']]\n",
    "df.head(10)"
   ]
  },
  {
   "cell_type": "code",
   "execution_count": null,
   "metadata": {},
   "outputs": [],
   "source": []
  }
 ],
 "metadata": {
  "kernelspec": {
   "display_name": "Python 3",
   "language": "python",
   "name": "python3"
  },
  "language_info": {
   "codemirror_mode": {
    "name": "ipython",
    "version": 3
   },
   "file_extension": ".py",
   "mimetype": "text/x-python",
   "name": "python",
   "nbconvert_exporter": "python",
   "pygments_lexer": "ipython3",
   "version": "3.7.1"
  }
 },
 "nbformat": 4,
 "nbformat_minor": 2
}
