{
 "cells": [
  {
   "cell_type": "code",
   "execution_count": 45,
   "metadata": {},
   "outputs": [
    {
     "name": "stdout",
     "output_type": "stream",
     "text": [
      "33.937517 -117.2305944\n"
     ]
    }
   ],
   "source": [
    "import geocoder\n",
    "g = geocoder.osm('Moreno Valley')\n",
    "print(g.lat, g.lng)"
   ]
  },
  {
   "cell_type": "code",
   "execution_count": 46,
   "metadata": {},
   "outputs": [
    {
     "data": {
      "text/plain": [
       "{'accuracy': 0.644014922316934,\n",
       " 'address': 'Moreno Valley, Riverside County, California, USA',\n",
       " 'bbox': {'northeast': [33.985102, -117.088203],\n",
       "  'southwest': [33.85882, -117.296524]},\n",
       " 'city': 'Moreno Valley',\n",
       " 'confidence': 2,\n",
       " 'country': 'USA',\n",
       " 'country_code': 'us',\n",
       " 'county': 'Riverside County',\n",
       " 'icon': 'https://nominatim.openstreetmap.org/images/mapicons/poi_place_city.p.20.png',\n",
       " 'importance': 0.644014922316934,\n",
       " 'lat': 33.937517,\n",
       " 'lng': -117.2305944,\n",
       " 'ok': True,\n",
       " 'osm_id': 33098468,\n",
       " 'osm_type': 'way',\n",
       " 'place_id': 83807243,\n",
       " 'place_rank': 16,\n",
       " 'quality': 'city',\n",
       " 'raw': {'place_id': 83807243,\n",
       "  'licence': 'Data © OpenStreetMap contributors, ODbL 1.0. https://osm.org/copyright',\n",
       "  'osm_type': 'way',\n",
       "  'osm_id': 33098468,\n",
       "  'boundingbox': ['33.85882', '33.985102', '-117.296524', '-117.088203'],\n",
       "  'lat': '33.937517',\n",
       "  'lon': '-117.2305944',\n",
       "  'display_name': 'Moreno Valley, Riverside County, California, USA',\n",
       "  'place_rank': 16,\n",
       "  'category': 'place',\n",
       "  'type': 'city',\n",
       "  'importance': 0.644014922316934,\n",
       "  'icon': 'https://nominatim.openstreetmap.org/images/mapicons/poi_place_city.p.20.png',\n",
       "  'address': {'city': 'Moreno Valley',\n",
       "   'county': 'Riverside County',\n",
       "   'state': 'California',\n",
       "   'country': 'USA',\n",
       "   'country_code': 'us'}},\n",
       " 'region': 'California',\n",
       " 'state': 'California',\n",
       " 'status': 'OK',\n",
       " 'type': 'city'}"
      ]
     },
     "execution_count": 46,
     "metadata": {},
     "output_type": "execute_result"
    }
   ],
   "source": [
    "import geocoder\n",
    "california = ', CA'\n",
    "g.json"
   ]
  },
  {
   "cell_type": "code",
   "execution_count": null,
   "metadata": {},
   "outputs": [],
   "source": []
  }
 ],
 "metadata": {
  "kernelspec": {
   "display_name": "Python 3",
   "language": "python",
   "name": "python3"
  },
  "language_info": {
   "codemirror_mode": {
    "name": "ipython",
    "version": 3
   },
   "file_extension": ".py",
   "mimetype": "text/x-python",
   "name": "python",
   "nbconvert_exporter": "python",
   "pygments_lexer": "ipython3",
   "version": "3.7.1"
  }
 },
 "nbformat": 4,
 "nbformat_minor": 2
}
